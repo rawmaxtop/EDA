{
 "cells": [
  {
   "cell_type": "code",
   "execution_count": null,
   "metadata": {
    "_cell_guid": "b1076dfc-b9ad-4769-8c92-a6c4dae69d19",
    "_uuid": "8f2839f25d086af736a60e9eeb907d3b93b6e0e5"
   },
   "outputs": [],
   "source": [
    "# This Python 3 environment comes with many helpful analytics libraries installed\n",
    "# It is defined by the kaggle/python docker image: https://github.com/kaggle/docker-python\n",
    "# For example, here's several helpful packages to load in \n",
    "\n",
    "import numpy as np # linear algebra\n",
    "import pandas as pd # data processing, CSV file I/O (e.g. pd.read_csv)\n",
    "\n",
    "# Input data files are available in the \"../input/\" directory.\n",
    "# For example, running this (by clicking run or pressing Shift+Enter) will list the files in the input directory\n",
    "\n",
    "import os\n",
    "print(os.listdir(\"../input\"))\n",
    "\n",
    "# Any results you write to the current directory are saved as output."
   ]
  },
  {
   "cell_type": "markdown",
   "metadata": {
    "_cell_guid": "79c7e3d0-c299-4dcb-8224-4455121ee9b0",
    "_uuid": "d629ff2d2480ee46fbb7e2d37f6b5fab8052498a"
   },
   "source": [
    "# A complete Machine Learning PipeLine\n",
    "\n",
    "- Intoroduction to supervised Machine Learning\n",
    "    - What is machine learning?\n",
    "    - Types of Machine learning Algorithms\n",
    "    - Supervised Machine Learning\n",
    "    - Classification vs Regression\n",
    "    - Machine Learning Pipeline\n",
    "    \n",
    "    \n",
    "- Predict the onset of diabetes based on diagnostic measures\n",
    "\n",
    "    - Data Preparing\n",
    "        - Analyze Data\n",
    "        - Descriptive Statitics\n",
    "        - Data Visualization\n",
    "    - Outliers investigation\n",
    "        - Outliers investigation Single Feature\n",
    "        - Outliers investigation Pairs\n",
    "        \n",
    "    - Evaluate Algorithms: Baseline\n",
    "    - Feature Engineering \n",
    "        - Data Preprocessig\n",
    "            - Standard Scaler\n",
    "            - MinMax Scaler\n",
    "        - Remove OutlierS\n",
    "    - Feature Selection\n",
    "        - Corrolation\n",
    "        - Feature Importance\n",
    "    - Ensemble Methods    \n",
    "        - Algortithm Tuning\n",
    "        - Voting Ensemble\n",
    "        - Error Corrolation\n",
    "        - Stacking\n",
    " \n",
    " -  Conclusion (Acuuracy 86%)\n",
    "    \n",
    "    \n"
   ]
  },
  {
   "cell_type": "markdown",
   "metadata": {
    "_uuid": "f2fc23b2e13e9440f464a619b30c50a95342d3df"
   },
   "source": [
    "# Intoroduction to supervised Machine Learning:"
   ]
  },
  {
   "cell_type": "markdown",
   "metadata": {
    "_uuid": "0020673bd39d8b06b36177eb5215d5439f1bb15c"
   },
   "source": [
    "## What is machine learning?\n",
    "Task **T**: image classification problem of classifying dogs and cats \n",
    "\n",
    "Experience **E**: I would give a ML algorithm a\n",
    "bunch of images of dogs and cats\n",
    "\n",
    "The performance measure **P**: the ML algorithm could learn\n",
    "how to distinguish a new image as being either a dog or cat.\n",
    "\n",
    "Machine learning (Machine Learning by Tom Mitchell):\n",
    "\n",
    "**A computer program is said to learn from experience **E** with\n",
    "respect to some class of tasks **T** and performance measure **P**,\n",
    "if its performance at tasks in **T**, as measured by **P**, Improves\n",
    "with experience **E**.**"
   ]
  },
  {
   "cell_type": "markdown",
   "metadata": {
    "_uuid": "dcb339152e7b79fcb91ed69ae85eefbff1c3f333"
   },
   "source": [
    "## Types of Machine learning Algorithms\n",
    "\n",
    "1. Supervised Learning: Input data is called training data and\n",
    "has a known label or result.\n",
    "Ex: Spam/not-spam or a stock price at a time.\n",
    "\n",
    "2. Unsupervised Learning: Input data is not labeled and does\n",
    "not have a known result.\n",
    "EX: Grouping customers by purchasing behavior\n",
    "\n",
    "3. Semi-Supervised Learning: Input data is a mixture of labeled and\n",
    "unlabeled examples.\n",
    "EX: a photo archive where only some of the\n",
    "images are labeled, (e.g. dog, cat, person) and the majority are\n",
    "unlabeled.\n",
    "\n",
    "4. Reinforcement Learning: a goal-oriented learning based\n",
    "on interaction with environment. Autonomous cars."
   ]
  },
  {
   "cell_type": "markdown",
   "metadata": {
    "_uuid": "1188e6e299271308962ec821ba14ea81d4249c84"
   },
   "source": [
    "## Supervised Machine Learning\n",
    "1. Regression: Linear Regression, Logistic Regression\n",
    "\n",
    "2. Instance-based Algorithms: k-Nearest Neighbor (KNN)\n",
    "\n",
    "3. Decision Tree Algorithms: CART\n",
    "\n",
    "4. Bayesian Algorithms: Naive Bayes\n",
    "\n",
    "5. Ensemble Algorithms: eXtreme Gradient Boosting\n",
    "\n",
    "6. Deep Learning Algorithms: Convolution Neural Network"
   ]
  },
  {
   "cell_type": "markdown",
   "metadata": {
    "_uuid": "dd635537a83da9785fe202610a96fc0e4a420860"
   },
   "source": [
    "## Classification vs Regression\n",
    "**Classification** predicting a label .vs. **Regression** predicting a quantity."
   ]
  },
  {
   "cell_type": "markdown",
   "metadata": {
    "_uuid": "a62f6acc28bfa757d3d081fd14a247cce7cedf95"
   },
   "source": [
    "## Classification Algorithms Examples:\n",
    "- Linear: Linear Regression, Logistic Regression\n",
    "- Nonlinear: Trees, k-Nearest Neighbors\n",
    "- Ensemble:\n",
    "    - Bagging: Random Forest\n",
    "    - Boosting:  AdaBoost\n"
   ]
  },
  {
   "cell_type": "markdown",
   "metadata": {
    "_uuid": "acc47b002eee49739e9c2bb528605ca7448a12ae"
   },
   "source": [
    "## Machine Learning Pipeline:\n",
    "\n",
    "- Define Problem\n",
    "    - ML type of problem\n",
    "\n",
    "- Prepare Data\n",
    "    - Data Visualization methos ...\n",
    "    - Data Selection\n",
    "    - Feature Selection methods ..\n",
    "    - Feature Engineering methods ..\n",
    "    - Data Transormation methods ..\n",
    "\n",
    "- Spot Check Algorithm\n",
    "    - Test Harness ...\n",
    "    - Perform Measure ...\n",
    "    - Evaluate accuracy of different algorithms\n",
    "\n",
    "- Improve Results \n",
    "    - Algorithms Turning methids\n",
    "    - ensemble methods\n",
    "\n",
    "- Present Results\n",
    "    - Save the model"
   ]
  },
  {
   "cell_type": "markdown",
   "metadata": {
    "_uuid": "d068b5c51327eea89d18fc78062bd429fdf3dd91"
   },
   "source": [
    "# Define Problem:\n",
    "## Pima Indians Diabetes Database\n",
    "### Predict the onset of diabetes based on diagnostic measures\n",
    "\n",
    "This dataset is originally from the National Institute of Diabetes and Digestive and Kidney Diseases. The objective of the dataset is to diagnostically predict whether or not a patient has diabetes, based on certain diagnostic measurements included in the dataset. Several constraints were placed on the selection of these instances from a larger database. In particular, all patients here are females at least 21 years old of Pima Indian heritage."
   ]
  },
  {
   "cell_type": "markdown",
   "metadata": {
    "_uuid": "9b1d7d722847ea2e0e6584d1942ad14da2664cfb"
   },
   "source": [
    "**Attribute Information:**\n",
    "\n",
    "1. Number of times pregnant \n",
    "\n",
    "2. Plasma glucose concentration a 2 hours in an oral glucose tolerance test \n",
    "\n",
    "3. Diastolic blood pressure (mm Hg) \n",
    "\n",
    "4. Triceps skin fold thickness (mm) \n",
    "\n",
    "5. 2-Hour serum insulin (mu U/ml) \n",
    "\n",
    "6. Body mass index (weight in kg/(height in m)^2) \n",
    "\n",
    "7. Diabetes pedigree function \n",
    "\n",
    "8. Age (years) \n",
    "\n",
    "9. Class variable (0 or 1)"
   ]
  },
  {
   "cell_type": "code",
   "execution_count": null,
   "metadata": {
    "_uuid": "2c411f76441a20c7d33b83484ba7bd5b85666e88"
   },
   "outputs": [],
   "source": [
    "import sys\n",
    "import os\n",
    "import pandas as pd\n",
    "import numpy as np\n",
    "\n",
    "import matplotlib.pyplot as plt\n",
    "import seaborn as sns\n",
    "from IPython.display import display\n",
    "%matplotlib inline\n",
    "\n",
    "import plotly.offline as py\n",
    "import plotly.graph_objs as go\n",
    "import plotly.tools as tls\n",
    "py.init_notebook_mode(connected=True)\n",
    "\n",
    "import warnings\n",
    "warnings.filterwarnings('ignore')"
   ]
  },
  {
   "cell_type": "code",
   "execution_count": null,
   "metadata": {
    "_uuid": "b8f2c1007ef4625147d5653fd8e798224ce5d122",
    "collapsed": true,
    "jupyter": {
     "outputs_hidden": true
    }
   },
   "outputs": [],
   "source": [
    "# Always good to set a seed for reproducibility\n",
    "SEED = 7\n",
    "np.random.seed(SEED)"
   ]
  },
  {
   "cell_type": "code",
   "execution_count": null,
   "metadata": {
    "_uuid": "308bd93bd09f7827cbcc3f3498fa965c641e71b4",
    "collapsed": true,
    "jupyter": {
     "outputs_hidden": true
    }
   },
   "outputs": [],
   "source": [
    "# 2. Data Preparing "
   ]
  },
  {
   "cell_type": "code",
   "execution_count": null,
   "metadata": {
    "_uuid": "2d34ee41f879077adc2a8f2298e9bbb63f9d1cf3",
    "collapsed": true,
    "jupyter": {
     "outputs_hidden": true
    }
   },
   "outputs": [],
   "source": [
    "# Loading Data\n",
    "df = pd.read_csv('../input/diabetes.csv')\n",
    "# Getting dataframe columns names\n",
    "df_name=df.columns"
   ]
  },
  {
   "cell_type": "markdown",
   "metadata": {
    "_uuid": "ad1736435a9e8dad2601a30a59f791e43e09e45a"
   },
   "source": [
    "## 2.1. Analyze Data:\n",
    "### 2.1.1 Descriptive Statitics"
   ]
  },
  {
   "cell_type": "code",
   "execution_count": null,
   "metadata": {
    "_uuid": "287399dd48440ea7218b37d4ba2879f7d26913c4"
   },
   "outputs": [],
   "source": [
    "df.info()"
   ]
  },
  {
   "cell_type": "markdown",
   "metadata": {
    "_uuid": "fb2c0a8a0444399e1e2fe6ae14dc849b4f8ef5c0"
   },
   "source": [
    "- The data is not included time or object\n",
    "- There is no null value in data set"
   ]
  },
  {
   "cell_type": "code",
   "execution_count": null,
   "metadata": {
    "_uuid": "498ebccafc5afba03e0575f03bc4081962686845"
   },
   "outputs": [],
   "source": [
    "df.head()"
   ]
  },
  {
   "cell_type": "code",
   "execution_count": null,
   "metadata": {
    "_uuid": "e982f132558616b264da875afdc7b018e757e676"
   },
   "outputs": [],
   "source": [
    "df.describe()"
   ]
  },
  {
   "cell_type": "markdown",
   "metadata": {
    "_uuid": "1d8f06be659684fe38062028a1ac0089c563bdd8"
   },
   "source": [
    "### 2.2. Data Visualization\n",
    "let's take look at our data in the most raw shape.\n",
    "I really recommend scatter plot because we can get the idea of our data without any manipulation"
   ]
  },
  {
   "cell_type": "code",
   "execution_count": null,
   "metadata": {
    "_uuid": "afe231a2d85574d7ad892a8487c14da304365743"
   },
   "outputs": [],
   "source": [
    " g = sns.pairplot(df, hue=\"Outcome\", palette=\"husl\")"
   ]
  },
  {
   "cell_type": "markdown",
   "metadata": {
    "_uuid": "154292963c378151896593d937dbfe6c6ff3c420"
   },
   "source": [
    "It seems that the data suffer from outliers\n",
    "\n",
    "Let's see for example pregnency distribution"
   ]
  },
  {
   "cell_type": "code",
   "execution_count": null,
   "metadata": {
    "_uuid": "c9e17f905b3771e8a9e8a5ba5e910fd7f4dc012c",
    "collapsed": true,
    "jupyter": {
     "outputs_hidden": true
    }
   },
   "outputs": [],
   "source": [
    "def plotHist(df,nameOfFeature):\n",
    "    cls_train = df[nameOfFeature]\n",
    "    data_array = cls_train\n",
    "    hist_data = np.histogram(data_array)\n",
    "    binsize = .5\n",
    "\n",
    "    trace1 = go.Histogram(\n",
    "        x=data_array,\n",
    "        histnorm='count',\n",
    "        name='Histogram of Wind Speed',\n",
    "        autobinx=False,\n",
    "        xbins=dict(\n",
    "            start=df[nameOfFeature].min()-1,\n",
    "            end=df[nameOfFeature].max()+1,\n",
    "            size=binsize\n",
    "        )\n",
    "    )\n",
    "\n",
    "    trace_data = [trace1]\n",
    "    layout = go.Layout(\n",
    "        bargroupgap=0.3,\n",
    "         title='The distribution of ' + nameOfFeature,\n",
    "        xaxis=dict(\n",
    "            title=nameOfFeature,\n",
    "            titlefont=dict(\n",
    "                family='Courier New, monospace',\n",
    "                size=18,\n",
    "                color='#7f7f7f'\n",
    "            )\n",
    "        ),\n",
    "        yaxis=dict(\n",
    "            title='Number of labels',\n",
    "            titlefont=dict(\n",
    "                family='Courier New, monospace',\n",
    "                size=18,\n",
    "                color='#7f7f7f'\n",
    "            )\n",
    "        )\n",
    "    )\n",
    "    fig = go.Figure(data=trace_data, layout=layout)\n",
    "    py.iplot(fig)"
   ]
  },
  {
   "cell_type": "code",
   "execution_count": null,
   "metadata": {
    "_uuid": "685930351e933ec3daef579adcfd62ecf359ebc7"
   },
   "outputs": [],
   "source": [
    "plotHist(df,'Pregnancies')"
   ]
  },
  {
   "cell_type": "markdown",
   "metadata": {
    "_uuid": "7fcaf5f510162bf2588b49b39d09e2f210e76f36"
   },
   "source": [
    "17 times pregnancy is a little bite strange is it outlier ?"
   ]
  },
  {
   "cell_type": "markdown",
   "metadata": {
    "_uuid": "8e7b1c2d108de0ca0365feda22273349e54c0310"
   },
   "source": [
    "Let's investagate each fearure distribution for each out come\n",
    "\n",
    "A fundamental task in many statistical analyses is to characterize\n",
    "the location and variability of a data set. A further\n",
    "characterization of the data includes **skewness and kurtosis**.\n",
    "\n",
    "**Skewness** is a measure of symmetry, or more precisely, the lack\n",
    "of symmetry. A distribution, or data set, is symmetric if it\n",
    "looks the same to the left and right of the center point.\n",
    "\n",
    "**Kurtosis** is a measure of whether the data are heavy-tailed\n",
    "or light-tailed relative to a normal distribution. That is,\n",
    "data sets with high kurtosis tend to have heavy tails, or\n",
    "outliers. Data sets with low kurtosis tend to have light\n",
    "tails, or lack of outliers. A uniform distribution would\n",
    "be the extreme case"
   ]
  },
  {
   "cell_type": "code",
   "execution_count": null,
   "metadata": {
    "_uuid": "67195b290861a9828f159ab25ff3317415595007",
    "collapsed": true,
    "jupyter": {
     "outputs_hidden": true
    }
   },
   "outputs": [],
   "source": [
    "from scipy.stats import skew\n",
    "from scipy.stats import kurtosis\n",
    "def plotBarCat(df,feature,target):\n",
    "    \n",
    "    \n",
    "    \n",
    "    x0 = df[df[target]==0][feature]\n",
    "    x1 = df[df[target]==1][feature]\n",
    "\n",
    "    trace1 = go.Histogram(\n",
    "        x=x0,\n",
    "        opacity=0.75\n",
    "    )\n",
    "    trace2 = go.Histogram(\n",
    "        x=x1,\n",
    "        opacity=0.75\n",
    "    )\n",
    "\n",
    "    data = [trace1, trace2]\n",
    "    layout = go.Layout(barmode='overlay',\n",
    "                      title=feature,\n",
    "                       yaxis=dict(title='Count'\n",
    "        ))\n",
    "    fig = go.Figure(data=data, layout=layout)\n",
    "\n",
    "    py.iplot(fig, filename='overlaid histogram')\n",
    "    \n",
    "    def DescribeFloatSkewKurt(df,target):\n",
    "        \"\"\"\n",
    "            A fundamental task in many statistical analyses is to characterize\n",
    "            the location and variability of a data set. A further\n",
    "            characterization of the data includes skewness and kurtosis.\n",
    "            Skewness is a measure of symmetry, or more precisely, the lack\n",
    "            of symmetry. A distribution, or data set, is symmetric if it\n",
    "            looks the same to the left and right of the center point.\n",
    "            Kurtosis is a measure of whether the data are heavy-tailed\n",
    "            or light-tailed relative to a normal distribution. That is,\n",
    "            data sets with high kurtosis tend to have heavy tails, or\n",
    "            outliers. Data sets with low kurtosis tend to have light\n",
    "            tails, or lack of outliers. A uniform distribution would\n",
    "            be the extreme case\n",
    "        \"\"\"\n",
    "        print('-*-'*25)\n",
    "        print(\"{0} mean : \".format(target), np.mean(df[target]))\n",
    "        print(\"{0} var  : \".format(target), np.var(df[target]))\n",
    "        print(\"{0} skew : \".format(target), skew(df[target]))\n",
    "        print(\"{0} kurt : \".format(target), kurtosis(df[target]))\n",
    "        print('-*-'*25)\n",
    "    \n",
    "    DescribeFloatSkewKurt(df,target)"
   ]
  },
  {
   "cell_type": "code",
   "execution_count": null,
   "metadata": {
    "_uuid": "5e1bdfd8f898a9e73bdd0d29fb8048c1733b22d9",
    "scrolled": true
   },
   "outputs": [],
   "source": [
    "plotBarCat(df,df_name[0],'Outcome')"
   ]
  },
  {
   "cell_type": "code",
   "execution_count": null,
   "metadata": {
    "_uuid": "af91955eb6378284a3a8ce165ca90abc0adcb33b"
   },
   "outputs": [],
   "source": [
    "plotBarCat(df,df_name[1],'Outcome')"
   ]
  },
  {
   "cell_type": "code",
   "execution_count": null,
   "metadata": {
    "_uuid": "b86b48092c43c81ad8224430ba571ab7dc5fd0e2"
   },
   "outputs": [],
   "source": [
    "plotBarCat(df,df_name[2],'Outcome')"
   ]
  },
  {
   "cell_type": "code",
   "execution_count": null,
   "metadata": {
    "_uuid": "1d856390c317c17ab0517db3a15a1503ca3bdf3e"
   },
   "outputs": [],
   "source": [
    "plotBarCat(df,df_name[3],'Outcome')"
   ]
  },
  {
   "cell_type": "code",
   "execution_count": null,
   "metadata": {
    "_uuid": "d13ee2270c150a029c0ab1ec82fa46b4f5bee2be"
   },
   "outputs": [],
   "source": [
    "plotBarCat(df,df_name[4],'Outcome')"
   ]
  },
  {
   "cell_type": "code",
   "execution_count": null,
   "metadata": {
    "_uuid": "dff59c7c228f8908ea7794e65fa21b24bcbc2850"
   },
   "outputs": [],
   "source": [
    "plotBarCat(df,df_name[5],'Outcome')"
   ]
  },
  {
   "cell_type": "code",
   "execution_count": null,
   "metadata": {
    "_uuid": "1d34e47144658154fa90ae49cdd541cf63a77e9b"
   },
   "outputs": [],
   "source": [
    "plotBarCat(df,df_name[6],'Outcome')"
   ]
  },
  {
   "cell_type": "code",
   "execution_count": null,
   "metadata": {
    "_uuid": "a6bd5c57bf887f19a3d19cef83a61ba07cbc23d3",
    "scrolled": true
   },
   "outputs": [],
   "source": [
    "plotBarCat(df,df_name[7],'Outcome')"
   ]
  },
  {
   "cell_type": "code",
   "execution_count": null,
   "metadata": {
    "_uuid": "a793108b4980d70dac52dc91c3fb2f46655ddb30"
   },
   "outputs": [],
   "source": [
    "plotBarCat(df,df_name[8],'Outcome')"
   ]
  },
  {
   "cell_type": "code",
   "execution_count": null,
   "metadata": {
    "_uuid": "dc88c721ad3fdde2aff26c1d30eccfb209b36c7f",
    "collapsed": true,
    "jupyter": {
     "outputs_hidden": true
    }
   },
   "outputs": [],
   "source": [
    "def PlotPie(df, nameOfFeature):\n",
    "    labels = [str(df[nameOfFeature].unique()[i]) for i in range(df[nameOfFeature].nunique())]\n",
    "    values = [df[nameOfFeature].value_counts()[i] for i in range(df[nameOfFeature].nunique())]\n",
    "\n",
    "    trace=go.Pie(labels=labels,values=values)\n",
    "\n",
    "    py.iplot([trace])"
   ]
  },
  {
   "cell_type": "code",
   "execution_count": null,
   "metadata": {
    "_uuid": "f656870693fcccbd91dfa97d962b79e3fdd3a412"
   },
   "outputs": [],
   "source": [
    "PlotPie(df, 'Outcome')"
   ]
  },
  {
   "cell_type": "markdown",
   "metadata": {
    "_uuid": "0f0a33d0987a139450a4b478f0aaeb3749df331e"
   },
   "source": [
    "In the case of classification problem we alwyas need to check the target distribution.\n",
    "If the distribution of target is not balance, we must treat our data more carefully.\n",
    "For example we can use several methods to resampling our data. We do not resampling our data in this kernel. In addition, we need to use stratified method in our validation in order to keep the same distribution in our train and test.   "
   ]
  },
  {
   "cell_type": "markdown",
   "metadata": {
    "_uuid": "587579eff7457093d0343d8ade4d2e1054061af3"
   },
   "source": [
    "## 2.3.1 Outliers investigation"
   ]
  },
  {
   "cell_type": "code",
   "execution_count": null,
   "metadata": {
    "_uuid": "f7049e99907c6f6f1ce68d88829414cb9984d854",
    "collapsed": true,
    "jupyter": {
     "outputs_hidden": true
    }
   },
   "outputs": [],
   "source": [
    "def OutLiersBox(df,nameOfFeature):\n",
    "    \n",
    "    trace0 = go.Box(\n",
    "        y = df[nameOfFeature],\n",
    "        name = \"All Points\",\n",
    "        jitter = 0.3,\n",
    "        pointpos = -1.8,\n",
    "        boxpoints = 'all',\n",
    "        marker = dict(\n",
    "            color = 'rgb(7,40,89)'),\n",
    "        line = dict(\n",
    "            color = 'rgb(7,40,89)')\n",
    "    )\n",
    "\n",
    "    trace1 = go.Box(\n",
    "        y = df[nameOfFeature],\n",
    "        name = \"Only Whiskers\",\n",
    "        boxpoints = False,\n",
    "        marker = dict(\n",
    "            color = 'rgb(9,56,125)'),\n",
    "        line = dict(\n",
    "            color = 'rgb(9,56,125)')\n",
    "    )\n",
    "\n",
    "    trace2 = go.Box(\n",
    "        y = df[nameOfFeature],\n",
    "        name = \"Suspected Outliers\",\n",
    "        boxpoints = 'suspectedoutliers',\n",
    "        marker = dict(\n",
    "            color = 'rgb(8,81,156)',\n",
    "            outliercolor = 'rgba(219, 64, 82, 0.6)',\n",
    "            line = dict(\n",
    "                outliercolor = 'rgba(219, 64, 82, 0.6)',\n",
    "                outlierwidth = 2)),\n",
    "        line = dict(\n",
    "            color = 'rgb(8,81,156)')\n",
    "    )\n",
    "\n",
    "    trace3 = go.Box(\n",
    "        y = df[nameOfFeature],\n",
    "        name = \"Whiskers and Outliers\",\n",
    "        boxpoints = 'outliers',\n",
    "        marker = dict(\n",
    "            color = 'rgb(107,174,214)'),\n",
    "        line = dict(\n",
    "            color = 'rgb(107,174,214)')\n",
    "    )\n",
    "\n",
    "    data = [trace0,trace1,trace2,trace3]\n",
    "\n",
    "    layout = go.Layout(\n",
    "        title = \"{} Outliers\".format(nameOfFeature)\n",
    "    )\n",
    "\n",
    "    fig = go.Figure(data=data,layout=layout)\n",
    "    py.iplot(fig, filename = \"Outliers\")\n",
    "    \n"
   ]
  },
  {
   "cell_type": "code",
   "execution_count": null,
   "metadata": {
    "_uuid": "9007f06acfdc31ec6f22968a33738e3f787bee77"
   },
   "outputs": [],
   "source": [
    "OutLiersBox(df,df_name[0])"
   ]
  },
  {
   "cell_type": "code",
   "execution_count": null,
   "metadata": {
    "_uuid": "98b34a659be2640a9c0c42fc687faa221b22e8c7"
   },
   "outputs": [],
   "source": [
    "OutLiersBox(df,df_name[1])"
   ]
  },
  {
   "cell_type": "code",
   "execution_count": null,
   "metadata": {
    "_uuid": "66354d99389691290df02e298571a097e9339b0b"
   },
   "outputs": [],
   "source": [
    "OutLiersBox(df,df_name[2])"
   ]
  },
  {
   "cell_type": "code",
   "execution_count": null,
   "metadata": {
    "_uuid": "d12b4841a74a31d1fb7fbad1d6c18a61866391cc"
   },
   "outputs": [],
   "source": [
    "OutLiersBox(df,df_name[3])"
   ]
  },
  {
   "cell_type": "code",
   "execution_count": null,
   "metadata": {
    "_uuid": "bbeed8484fe2ceb0d8b25170cda168a64beffb18"
   },
   "outputs": [],
   "source": [
    "OutLiersBox(df,df_name[4])"
   ]
  },
  {
   "cell_type": "code",
   "execution_count": null,
   "metadata": {
    "_uuid": "146e498ed2368f8e679edb4b833d427db5e5d4d8",
    "collapsed": true,
    "jupyter": {
     "outputs_hidden": true
    }
   },
   "outputs": [],
   "source": []
  },
  {
   "cell_type": "code",
   "execution_count": null,
   "metadata": {
    "_uuid": "b6a0822bf8ca698fef3f432fc897697edd02d033"
   },
   "outputs": [],
   "source": [
    "OutLiersBox(df,df_name[5])"
   ]
  },
  {
   "cell_type": "code",
   "execution_count": null,
   "metadata": {
    "_uuid": "33ac847a9a95783aac1d0aa51203946bad53270f"
   },
   "outputs": [],
   "source": [
    "OutLiersBox(df,df_name[6])"
   ]
  },
  {
   "cell_type": "code",
   "execution_count": null,
   "metadata": {
    "_uuid": "9b10297270fd3dad822caee302a0754b2514d388"
   },
   "outputs": [],
   "source": [
    "OutLiersBox(df,df_name[7])"
   ]
  },
  {
   "cell_type": "code",
   "execution_count": null,
   "metadata": {
    "_uuid": "6b944949ed829eba83d6414233efff810cfdd687"
   },
   "outputs": [],
   "source": [
    "OutLiersBox(df,df_name[8])"
   ]
  },
  {
   "cell_type": "markdown",
   "metadata": {
    "_uuid": "8cae5fb2cd553901113a9c27f38a075befcc4b6d"
   },
   "source": [
    "## 2.3.2. Outliers investigation Pairs"
   ]
  },
  {
   "cell_type": "code",
   "execution_count": null,
   "metadata": {
    "_uuid": "fc6d6d84b2d5077afb418d1a3dd49ee0fe9967de",
    "collapsed": true,
    "jupyter": {
     "outputs_hidden": true
    }
   },
   "outputs": [],
   "source": [
    "from scipy import stats\n",
    "import matplotlib.pyplot as plt\n",
    "import matplotlib.font_manager\n",
    "\n",
    "from sklearn import svm\n",
    "from sklearn.covariance import EllipticEnvelope\n",
    "from sklearn.ensemble import IsolationForest\n",
    "from sklearn.neighbors import LocalOutlierFactor\n",
    "\n",
    "def OutLierDetection(df,feature1,feature2,outliers_fraction=.1):\n",
    "    \n",
    "    new_df = df.copy()\n",
    "    rng = np.random.RandomState(42)\n",
    "\n",
    "    # Example settings\n",
    "    n_samples = new_df.shape[0]\n",
    "#     outliers_fraction = 0.2 # ************************************** imp\n",
    "    clusters_separation = [0]#, 1, 2]\n",
    "\n",
    "    # define two outlier detection tools to be compared\n",
    "    classifiers = {\n",
    "        \"One-Class SVM\": svm.OneClassSVM(nu=0.95 * outliers_fraction + 0.05,\n",
    "                                         kernel=\"rbf\", gamma=0.1),\n",
    "        \"Robust covariance\": EllipticEnvelope(contamination=outliers_fraction),\n",
    "        \"Isolation Forest\": IsolationForest(max_samples=n_samples,\n",
    "                                            contamination=outliers_fraction,\n",
    "                                            random_state=rng),\n",
    "        \"Local Outlier Factor\": LocalOutlierFactor(\n",
    "            n_neighbors=35,\n",
    "            contamination=outliers_fraction)}\n",
    "\n",
    "    \n",
    "    xx, yy = np.meshgrid(np.linspace(new_df[feature1].min()-new_df[feature1].min()*10/100, \n",
    "                                     new_df[feature1].max()+new_df[feature1].max()*10/100, 50),\n",
    "                         np.linspace(new_df[feature2].min()-new_df[feature2].min()*10/100,\n",
    "                                     new_df[feature2].max()+new_df[feature2].max()*10/100, 50))\n",
    "\n",
    "\n",
    "    n_inliers = int((1. - outliers_fraction) * n_samples)\n",
    "    n_outliers = int(outliers_fraction * n_samples)\n",
    "    ground_truth = np.ones(n_samples, dtype=int)\n",
    "    ground_truth[-n_outliers:] = -1\n",
    "\n",
    "    # Fit the problem with varying cluster separation\n",
    "    for i, offset in enumerate(clusters_separation):\n",
    "        np.random.seed(42)\n",
    "        # Data generation\n",
    "\n",
    "        X = new_df[[feature1,feature2]].values.tolist()\n",
    "\n",
    "        # Fit the model\n",
    "        plt.figure(figsize=(9, 7))\n",
    "        for i, (clf_name, clf) in enumerate(classifiers.items()):\n",
    "            # fit the data and tag outliers\n",
    "            if clf_name == \"Local Outlier Factor\":\n",
    "                y_pred = clf.fit_predict(X)\n",
    "                scores_pred = clf.negative_outlier_factor_\n",
    "            else:\n",
    "                clf.fit(X)\n",
    "                scores_pred = clf.decision_function(X)\n",
    "                y_pred = clf.predict(X)\n",
    "            threshold = stats.scoreatpercentile(scores_pred,\n",
    "                                                100 * outliers_fraction)\n",
    "            n_errors = (y_pred != ground_truth).sum()\n",
    "            \n",
    "            unique, counts = np.unique(y_pred,return_counts=True)\n",
    "            print(clf_name,dict(zip(unique, counts)))\n",
    "            \n",
    "            new_df[feature1+'_'+feature2+clf_name] = y_pred\n",
    "#             print(clf_name,y_pred) \n",
    "            # plot the levels lines and the points\n",
    "            if clf_name == \"Local Outlier Factor\":\n",
    "                # decision_function is private for LOF\n",
    "                Z = clf._decision_function(np.c_[xx.ravel(), yy.ravel()])\n",
    "            else:\n",
    "                Z = clf.decision_function(np.c_[xx.ravel(), yy.ravel()])\n",
    "            Z = Z.reshape(xx.shape)\n",
    "            subplot = plt.subplot(2, 2, i + 1)\n",
    "            subplot.contourf(xx, yy, Z, levels=np.linspace(Z.min(), threshold, 7),\n",
    "                             cmap=plt.cm.Blues_r)\n",
    "            a = subplot.contour(xx, yy, Z, levels=[threshold],\n",
    "                                linewidths=2, colors='red')\n",
    "            subplot.contourf(xx, yy, Z, levels=[threshold, Z.max()],\n",
    "                             colors='orange')\n",
    "            b = plt.scatter(new_df[feature1], new_df[feature2], c='white',\n",
    "                     s=20, edgecolor='k')\n",
    "\n",
    "            subplot.axis('tight')\n",
    "\n",
    "            subplot.set_xlabel(\"%s\" % (feature1))\n",
    " \n",
    "            plt.ylabel(feature2)#, fontsize=18)\n",
    "            plt.title(\"%d. %s (errors: %d)\" % (i + 1, clf_name, n_errors))\n",
    "\n",
    "        plt.subplots_adjust(0.04, 0.1, 0.96, 0.94, 0.1, 0.26)\n",
    "#         plt.suptitle(\"Outlier detection\")\n",
    "\n",
    "    plt.show()\n",
    "    return new_df"
   ]
  },
  {
   "cell_type": "code",
   "execution_count": null,
   "metadata": {
    "_uuid": "131b43b5a38444d06fdf1798ac9186e1d134c491",
    "scrolled": true
   },
   "outputs": [],
   "source": [
    "tt = OutLierDetection(df,'Pregnancies','BloodPressure',.1)"
   ]
  },
  {
   "cell_type": "markdown",
   "metadata": {
    "_uuid": "038d71ba0e1d149b72f285b6a01d5434b46d973e"
   },
   "source": [
    "# 3.1. Evaluate Algorithms: Baseline"
   ]
  },
  {
   "cell_type": "markdown",
   "metadata": {
    "_uuid": "8e310d89bbb6a8ff624cbcd467b6a54a6d9a979b"
   },
   "source": [
    "<a href=\"https://ibb.co/bWRCsS\"><img src=\"https://preview.ibb.co/f7UAe7/validation.png\" alt=\"validation\" border=\"0\" /></a>"
   ]
  },
  {
   "cell_type": "markdown",
   "metadata": {
    "_uuid": "78f62d3da4908e316d9cfd2e8883c1bc8ee156f9"
   },
   "source": [
    "- We usually devide the data to train and test set. We will not touch test set until the end of the computation and the final perpormance evaluation. Then, we can devide the train set to train and validation sets. We use the validation data set to tune the model. \n",
    "\n",
    "- Traditional train test method suffer from high variance test problem. It means tha by changing the test set the result of the prediction changes. To over come this problem we use k-fold validation method in our train and validation set"
   ]
  },
  {
   "cell_type": "markdown",
   "metadata": {
    "_uuid": "548e03fe646888286c9b5892fdd09e6e1f4b7d21"
   },
   "source": [
    "<img src=\"https://image.ibb.co/bW0oXS/kfold.png\" alt=\"kfold\" border=\"0\" />"
   ]
  },
  {
   "cell_type": "code",
   "execution_count": null,
   "metadata": {
    "_uuid": "578a14509ae4ea94310f014df828759a056ae958",
    "collapsed": true,
    "jupyter": {
     "outputs_hidden": true
    }
   },
   "outputs": [],
   "source": [
    "# Load libraries\n",
    "\n",
    "from pandas import set_option\n",
    "from pandas.tools.plotting import scatter_matrix\n",
    "from sklearn.preprocessing import StandardScaler\n",
    "from sklearn.model_selection import train_test_split\n",
    "from sklearn.model_selection import KFold\n",
    "from sklearn.model_selection import StratifiedKFold\n",
    "from sklearn.model_selection import cross_val_score\n",
    "from sklearn.model_selection import GridSearchCV\n",
    "from sklearn.metrics import classification_report\n",
    "from sklearn.metrics import confusion_matrix\n",
    "from sklearn.metrics import accuracy_score\n",
    "from sklearn.pipeline import Pipeline\n",
    "from sklearn.linear_model import LogisticRegression\n",
    "from sklearn.tree import DecisionTreeClassifier\n",
    "from sklearn.neighbors import KNeighborsClassifier\n",
    "from sklearn.discriminant_analysis import LinearDiscriminantAnalysis\n",
    "from sklearn.naive_bayes import GaussianNB\n",
    "from sklearn.svm import SVC\n",
    "from sklearn.ensemble import AdaBoostClassifier\n",
    "from sklearn.ensemble import GradientBoostingClassifier\n",
    "from sklearn.ensemble import RandomForestClassifier\n",
    "from sklearn.ensemble import ExtraTreesClassifier"
   ]
  },
  {
   "cell_type": "markdown",
   "metadata": {
    "_uuid": "f9b437eb97bb7af762ee49ce88bb3a7153e5ad6e"
   },
   "source": [
    "let's make train-validation and test data sets.\n",
    "- Note that stratify is used becasue we want to keep the train and test distribution "
   ]
  },
  {
   "cell_type": "code",
   "execution_count": null,
   "metadata": {
    "_uuid": "9ffb38b6ed6c32698a70d016b953c4f93283a973",
    "collapsed": true,
    "jupyter": {
     "outputs_hidden": true
    }
   },
   "outputs": [],
   "source": [
    "X =  df[df_name[0:8]]\n",
    "Y = df[df_name[8]]\n",
    "X_train, X_test, y_train, y_test =train_test_split(X,Y,\n",
    "                                                   test_size=0.25,\n",
    "                                                   random_state=0,\n",
    "                                                   stratify=df['Outcome'])"
   ]
  },
  {
   "cell_type": "markdown",
   "metadata": {
    "_uuid": "12d2c2e351ef5a26dc6770eb459d51848e5159e3"
   },
   "source": [
    "## Spot-Check Algorithms"
   ]
  },
  {
   "cell_type": "code",
   "execution_count": null,
   "metadata": {
    "_uuid": "0842394318022cee614c4341026674b5cb469be7",
    "collapsed": true,
    "jupyter": {
     "outputs_hidden": true
    }
   },
   "outputs": [],
   "source": [
    "# Spot-Check Algorithms\n",
    "def GetBasedModel():\n",
    "    basedModels = []\n",
    "    basedModels.append(('LR'   , LogisticRegression()))\n",
    "    basedModels.append(('LDA'  , LinearDiscriminantAnalysis()))\n",
    "    basedModels.append(('KNN'  , KNeighborsClassifier()))\n",
    "    basedModels.append(('CART' , DecisionTreeClassifier()))\n",
    "    basedModels.append(('NB'   , GaussianNB()))\n",
    "    basedModels.append(('SVM'  , SVC(probability=True)))\n",
    "    basedModels.append(('AB'   , AdaBoostClassifier()))\n",
    "    basedModels.append(('GBM'  , GradientBoostingClassifier()))\n",
    "    basedModels.append(('RF'   , RandomForestClassifier()))\n",
    "    basedModels.append(('ET'   , ExtraTreesClassifier()))\n",
    "\n",
    "    \n",
    "    return basedModels"
   ]
  },
  {
   "cell_type": "code",
   "execution_count": null,
   "metadata": {
    "_uuid": "6e61aed45bd926d037524212e10d551265ef4db7",
    "collapsed": true,
    "jupyter": {
     "outputs_hidden": true
    }
   },
   "outputs": [],
   "source": [
    "def BasedLine2(X_train, y_train,models):\n",
    "    # Test options and evaluation metric\n",
    "    num_folds = 10\n",
    "    scoring = 'accuracy'\n",
    "\n",
    "    results = []\n",
    "    names = []\n",
    "    for name, model in models:\n",
    "        kfold = StratifiedKFold(n_splits=num_folds, random_state=SEED)\n",
    "        cv_results = cross_val_score(model, X_train, y_train, cv=kfold, scoring=scoring)\n",
    "        results.append(cv_results)\n",
    "        names.append(name)\n",
    "        msg = \"%s: %f (%f)\" % (name, cv_results.mean(), cv_results.std())\n",
    "        print(msg)\n",
    "        \n",
    "    return names, results"
   ]
  },
  {
   "cell_type": "code",
   "execution_count": null,
   "metadata": {
    "_uuid": "687dfcaee420e4fe85fc41db4163e7a7e3849b74",
    "collapsed": true,
    "jupyter": {
     "outputs_hidden": true
    }
   },
   "outputs": [],
   "source": [
    "class PlotBoxR(object):\n",
    "    \n",
    "    \n",
    "    def __Trace(self,nameOfFeature,value): \n",
    "    \n",
    "        trace = go.Box(\n",
    "            y=value,\n",
    "            name = nameOfFeature,\n",
    "            marker = dict(\n",
    "                color = 'rgb(0, 128, 128)',\n",
    "            )\n",
    "        )\n",
    "        return trace\n",
    "\n",
    "    def PlotResult(self,names,results):\n",
    "        \n",
    "        data = []\n",
    "\n",
    "        for i in range(len(names)):\n",
    "            data.append(self.__Trace(names[i],results[i]))\n",
    "\n",
    "\n",
    "        py.iplot(data)"
   ]
  },
  {
   "cell_type": "code",
   "execution_count": null,
   "metadata": {
    "_uuid": "565121c6926e047be985ab05764ddf8aa9d8a9b1"
   },
   "outputs": [],
   "source": [
    "models = GetBasedModel()\n",
    "names,results = BasedLine2(X_train, y_train,models)\n",
    "PlotBoxR().PlotResult(names,results)"
   ]
  },
  {
   "cell_type": "code",
   "execution_count": null,
   "metadata": {
    "_uuid": "ebdb070975c9af112f36b45338e87f4cb4a0a311",
    "collapsed": true,
    "jupyter": {
     "outputs_hidden": true
    }
   },
   "outputs": [],
   "source": [
    "def ScoreDataFrame(names,results):\n",
    "    def floatingDecimals(f_val, dec=3):\n",
    "        prc = \"{:.\"+str(dec)+\"f}\" \n",
    "    \n",
    "        return float(prc.format(f_val))\n",
    "\n",
    "    scores = []\n",
    "    for r in results:\n",
    "        scores.append(floatingDecimals(r.mean(),4))\n",
    "\n",
    "    scoreDataFrame = pd.DataFrame({'Model':names, 'Score': scores})\n",
    "    return scoreDataFrame"
   ]
  },
  {
   "cell_type": "code",
   "execution_count": null,
   "metadata": {
    "_uuid": "001acabbb173a0c2eec8b2e12053f6eb4c213e7d"
   },
   "outputs": [],
   "source": [
    "basedLineScore = ScoreDataFrame(names,results)\n",
    "basedLineScore"
   ]
  },
  {
   "cell_type": "markdown",
   "metadata": {
    "_uuid": "854b33477ce4badb713b62daf8e3110db369921b"
   },
   "source": [
    "# Feature Engineering\n",
    "## 4.1. Data Preprocessig"
   ]
  },
  {
   "cell_type": "markdown",
   "metadata": {
    "_uuid": "ceb38469afbcde69281ea1fcf20b1ed20c20b2d5"
   },
   "source": [
    "Numerical features preprocessing is different for tree and non tree model.\n",
    "\n",
    "1) Usually:\n",
    "- Tree based models does not depend on scaling\n",
    "- Non-tree based models hugely depend on scaling \n",
    "\n",
    "2) Most Often used preprocening are:\n",
    "- MinMax scaler to [0,1]\n",
    "- Standard Scaler to mean = 0 and std =1\n",
    "- Rank (We do not work on it in this data set)\n",
    "- Using np.log(1+data),  np.sqrt(data) and stats.boxcox(data) (for exp dependency)\n",
    "\n",
    "let's try some of them and see how our model prediction change by scalling\n"
   ]
  },
  {
   "cell_type": "code",
   "execution_count": null,
   "metadata": {
    "_uuid": "363c0a257fbcb5ca416186d1f26199457a2a8c80",
    "collapsed": true,
    "jupyter": {
     "outputs_hidden": true
    }
   },
   "outputs": [],
   "source": [
    "from sklearn.preprocessing import StandardScaler\n",
    "from sklearn.preprocessing import MinMaxScaler\n",
    "\n",
    "\n",
    "def GetScaledModel(nameOfScaler):\n",
    "    \n",
    "    if nameOfScaler == 'standard':\n",
    "        scaler = StandardScaler()\n",
    "    elif nameOfScaler =='minmax':\n",
    "        scaler = MinMaxScaler()\n",
    "\n",
    "    pipelines = []\n",
    "    pipelines.append((nameOfScaler+'LR'  , Pipeline([('Scaler', scaler),('LR'  , LogisticRegression())])))\n",
    "    pipelines.append((nameOfScaler+'LDA' , Pipeline([('Scaler', scaler),('LDA' , LinearDiscriminantAnalysis())])))\n",
    "    pipelines.append((nameOfScaler+'KNN' , Pipeline([('Scaler', scaler),('KNN' , KNeighborsClassifier())])))\n",
    "    pipelines.append((nameOfScaler+'CART', Pipeline([('Scaler', scaler),('CART', DecisionTreeClassifier())])))\n",
    "    pipelines.append((nameOfScaler+'NB'  , Pipeline([('Scaler', scaler),('NB'  , GaussianNB())])))\n",
    "    pipelines.append((nameOfScaler+'SVM' , Pipeline([('Scaler', scaler),('SVM' , SVC())])))\n",
    "    pipelines.append((nameOfScaler+'AB'  , Pipeline([('Scaler', scaler),('AB'  , AdaBoostClassifier())])  ))\n",
    "    pipelines.append((nameOfScaler+'GBM' , Pipeline([('Scaler', scaler),('GMB' , GradientBoostingClassifier())])  ))\n",
    "    pipelines.append((nameOfScaler+'RF'  , Pipeline([('Scaler', scaler),('RF'  , RandomForestClassifier())])  ))\n",
    "    pipelines.append((nameOfScaler+'ET'  , Pipeline([('Scaler', scaler),('ET'  , ExtraTreesClassifier())])  ))\n",
    "\n",
    "\n",
    "    return pipelines "
   ]
  },
  {
   "cell_type": "markdown",
   "metadata": {
    "_uuid": "956dfdada6a267229769f6788e27ca13cf18509b"
   },
   "source": [
    "Sometime saling help to improve the prediction of tree based model so let's see"
   ]
  },
  {
   "cell_type": "markdown",
   "metadata": {
    "_uuid": "187774938cb4881b41fd92fd4935e095d3585775"
   },
   "source": [
    "### 4.1.2. Standard"
   ]
  },
  {
   "cell_type": "code",
   "execution_count": null,
   "metadata": {
    "_uuid": "a8d17161dd6c020aa4070499ead8a91b1aacebb5"
   },
   "outputs": [],
   "source": [
    "models = GetScaledModel('standard')\n",
    "names,results = BasedLine2(X_train, y_train,models)\n",
    "PlotBoxR().PlotResult(names,results)\n",
    "scaledScoreStandard = ScoreDataFrame(names,results)\n",
    "compareModels = pd.concat([basedLineScore,\n",
    "                           scaledScoreStandard], axis=1)\n",
    "compareModels"
   ]
  },
  {
   "cell_type": "markdown",
   "metadata": {
    "_uuid": "53f00c131ed102911fe08a4b727f7c53bf46e653"
   },
   "source": [
    "### 4.1.2. MinMax"
   ]
  },
  {
   "cell_type": "code",
   "execution_count": null,
   "metadata": {
    "_uuid": "fa1ccf28966e0808506a4bbbefafe05ec43c399d"
   },
   "outputs": [],
   "source": [
    "models = GetScaledModel('minmax')\n",
    "names,results = BasedLine2(X_train, y_train,models)\n",
    "PlotBoxR().PlotResult(names,results)\n",
    "\n",
    "scaledScoreMinMax = ScoreDataFrame(names,results)\n",
    "compareModels = pd.concat([basedLineScore,\n",
    "                           scaledScoreStandard,\n",
    "                          scaledScoreMinMax], axis=1)\n",
    "compareModels"
   ]
  },
  {
   "cell_type": "markdown",
   "metadata": {
    "_uuid": "17b8bc4626631ba271f86ae02a739f9f5638da02"
   },
   "source": [
    "As we can see, the standarscaler and min and max effect on non tree models and the prediction results improve "
   ]
  },
  {
   "cell_type": "markdown",
   "metadata": {
    "_uuid": "9cce01b290a1d6d6d86c733448d704b3d6c31e9e"
   },
   "source": [
    "## 4.2. Remove Outliers\n",
    "\n",
    "let's remove outliers and see how it effects on the prediction"
   ]
  },
  {
   "cell_type": "code",
   "execution_count": null,
   "metadata": {
    "_uuid": "185afa50e581c149dd5c0606b25f138f880697df",
    "collapsed": true,
    "jupyter": {
     "outputs_hidden": true
    }
   },
   "outputs": [],
   "source": [
    "df_t = df.copy()\n",
    "df_t_name = df_t.columns"
   ]
  },
  {
   "cell_type": "code",
   "execution_count": null,
   "metadata": {
    "_uuid": "a1fc5fcf929b0a50b1703b8d8cc48e03ae4d07d0",
    "collapsed": true,
    "jupyter": {
     "outputs_hidden": true
    }
   },
   "outputs": [],
   "source": [
    "def TurkyOutliers(df_out,nameOfFeature,drop=False):\n",
    "\n",
    "    valueOfFeature = df_out[nameOfFeature]\n",
    "    # Calculate Q1 (25th percentile of the data) for the given feature\n",
    "    Q1 = np.percentile(valueOfFeature, 25.)\n",
    "\n",
    "    # Calculate Q3 (75th percentile of the data) for the given feature\n",
    "    Q3 = np.percentile(valueOfFeature, 75.)\n",
    "\n",
    "    # Use the interquartile range to calculate an outlier step (1.5 times the interquartile range)\n",
    "    step = (Q3-Q1)*1.5\n",
    "    # print \"Outlier step:\", step\n",
    "    outliers = valueOfFeature[~((valueOfFeature >= Q1 - step) & (valueOfFeature <= Q3 + step))].index.tolist()\n",
    "    feature_outliers = valueOfFeature[~((valueOfFeature >= Q1 - step) & (valueOfFeature <= Q3 + step))].values\n",
    "    # df[~((df[nameOfFeature] >= Q1 - step) & (df[nameOfFeature] <= Q3 + step))]\n",
    "\n",
    "\n",
    "    # Remove the outliers, if any were specified\n",
    "    print (\"Number of outliers (inc duplicates): {} and outliers: {}\".format(len(outliers), feature_outliers))\n",
    "    if drop:\n",
    "        good_data = df_out.drop(df_out.index[outliers]).reset_index(drop = True)\n",
    "        print (\"New dataset with removed outliers has {} samples with {} features each.\".format(*good_data.shape))\n",
    "        return good_data\n",
    "    else: \n",
    "        print (\"Nothing happens, df.shape = \",df_out.shape)\n",
    "        return df_out"
   ]
  },
  {
   "cell_type": "markdown",
   "metadata": {
    "_uuid": "a64ea6b04936249c0537346bd87cf0431d217674"
   },
   "source": [
    "### Feature 0"
   ]
  },
  {
   "cell_type": "code",
   "execution_count": null,
   "metadata": {
    "_uuid": "3b9a89b4ec2f5def30c5cedd1054a92ff9170d49"
   },
   "outputs": [],
   "source": [
    "feature_number = 0\n",
    "OutLiersBox(df,df_name[feature_number])"
   ]
  },
  {
   "cell_type": "code",
   "execution_count": null,
   "metadata": {
    "_uuid": "b61f09484658b98d258f3f5fe3c935b4e984fee1"
   },
   "outputs": [],
   "source": [
    "df_clean = TurkyOutliers(df_t,df_name[feature_number],True)\n",
    "OutLiersBox(df_clean,df_name[feature_number])"
   ]
  },
  {
   "cell_type": "markdown",
   "metadata": {
    "_uuid": "8bac2356ed8c8364b8ed0373ec1633dff3c2816d"
   },
   "source": [
    "### Feature 1"
   ]
  },
  {
   "cell_type": "code",
   "execution_count": null,
   "metadata": {
    "_uuid": "12aefbe66bfe05d39fd104ff58c4de1a212d1a3a"
   },
   "outputs": [],
   "source": [
    "feature_number = 1\n",
    "OutLiersBox(df,df_name[feature_number])"
   ]
  },
  {
   "cell_type": "code",
   "execution_count": null,
   "metadata": {
    "_uuid": "ba2639d1b82732caf6237ecd3bbaf376e07ef383"
   },
   "outputs": [],
   "source": [
    "df_clean = TurkyOutliers(df_clean,df_name[feature_number],True)\n",
    "OutLiersBox(df_clean,df_name[feature_number])"
   ]
  },
  {
   "cell_type": "markdown",
   "metadata": {
    "_uuid": "88a4f73d13946b667795b64e0f3dfa9889464477"
   },
   "source": [
    "### Feature 2"
   ]
  },
  {
   "cell_type": "code",
   "execution_count": null,
   "metadata": {
    "_uuid": "dfb533a56e2ce9b92c39a0c30599a16c8b31cf1f"
   },
   "outputs": [],
   "source": [
    "feature_number = 2\n",
    "OutLiersBox(df,df_name[feature_number])"
   ]
  },
  {
   "cell_type": "code",
   "execution_count": null,
   "metadata": {
    "_uuid": "c24b4ef6d32254cacf3d43d2edc0cbf7cdc84528"
   },
   "outputs": [],
   "source": [
    "df_clean = TurkyOutliers(df_clean,df_name[feature_number],True)\n",
    "OutLiersBox(df_clean,df_name[feature_number])"
   ]
  },
  {
   "cell_type": "markdown",
   "metadata": {
    "_uuid": "6e3f724959281e7b8ab94bdadb39e45034358c4d"
   },
   "source": [
    "### Feature 3"
   ]
  },
  {
   "cell_type": "code",
   "execution_count": null,
   "metadata": {
    "_uuid": "821a335752badc0c07d7228cd5e45e1868058c65"
   },
   "outputs": [],
   "source": [
    "feature_number = 3\n",
    "OutLiersBox(df,df_name[feature_number])"
   ]
  },
  {
   "cell_type": "code",
   "execution_count": null,
   "metadata": {
    "_uuid": "24608d43c1eaa87b0fda62936bca7c5b53531c5e"
   },
   "outputs": [],
   "source": [
    "df_clean = TurkyOutliers(df_clean,df_name[feature_number],True)\n",
    "OutLiersBox(df_clean,df_name[feature_number])"
   ]
  },
  {
   "cell_type": "markdown",
   "metadata": {
    "_uuid": "f620580d5d89ec8be7dcaac6d403e212b06ad02d"
   },
   "source": [
    "### Feature 4"
   ]
  },
  {
   "cell_type": "code",
   "execution_count": null,
   "metadata": {
    "_uuid": "aef243e0c3ae17993a645e377f6c007eb4fe1be8",
    "scrolled": true
   },
   "outputs": [],
   "source": [
    "feature_number = 4\n",
    "OutLiersBox(df,df_name[feature_number])"
   ]
  },
  {
   "cell_type": "code",
   "execution_count": null,
   "metadata": {
    "_uuid": "5fbf574db390724edd34e660cca92035127e1fd8"
   },
   "outputs": [],
   "source": [
    "df_clean = TurkyOutliers(df_clean,df_name[4],True)\n",
    "OutLiersBox(df_clean,df_name[4])"
   ]
  },
  {
   "cell_type": "markdown",
   "metadata": {
    "_uuid": "c5ee5b702e717a43a0d3228f4f538a5a4c3b3032"
   },
   "source": [
    "### Feature 5"
   ]
  },
  {
   "cell_type": "code",
   "execution_count": null,
   "metadata": {
    "_uuid": "47137e6c54e4aa9f1bdef7adafdf69dfd2a29c53"
   },
   "outputs": [],
   "source": [
    "feature_number = 5\n",
    "OutLiersBox(df,df_name[feature_number])"
   ]
  },
  {
   "cell_type": "code",
   "execution_count": null,
   "metadata": {
    "_uuid": "d8b8fb8fb9abdb4244de5d692f2041df0448a148"
   },
   "outputs": [],
   "source": [
    "feature_number = 5\n",
    "OutLiersBox(df,df_name[feature_number])"
   ]
  },
  {
   "cell_type": "code",
   "execution_count": null,
   "metadata": {
    "_uuid": "17c22e45503da0d5f59ce627045f50caaf8bbe85"
   },
   "outputs": [],
   "source": [
    "df_clean = TurkyOutliers(df_clean,df_name[feature_number],True)\n",
    "OutLiersBox(df_clean,df_name[feature_number])"
   ]
  },
  {
   "cell_type": "markdown",
   "metadata": {
    "_uuid": "4c43a24029efa4d2c974c8cf57930f4ba2751eba"
   },
   "source": [
    "### Feature 6"
   ]
  },
  {
   "cell_type": "code",
   "execution_count": null,
   "metadata": {
    "_uuid": "7b606b45bbafcc50e66a3674869185c28108f233"
   },
   "outputs": [],
   "source": [
    "feature_number = 6\n",
    "OutLiersBox(df,df_name[feature_number])"
   ]
  },
  {
   "cell_type": "code",
   "execution_count": null,
   "metadata": {
    "_uuid": "042679a04e2cc60c67d600b4e4508c7548a3abdf"
   },
   "outputs": [],
   "source": [
    "df_clean = TurkyOutliers(df_clean,df_name[feature_number],True)\n",
    "OutLiersBox(df_clean,df_name[feature_number])"
   ]
  },
  {
   "cell_type": "markdown",
   "metadata": {
    "_uuid": "565ab096265145a144196edf5cea24c7032d1394"
   },
   "source": [
    "### Feature 7"
   ]
  },
  {
   "cell_type": "code",
   "execution_count": null,
   "metadata": {
    "_uuid": "bd4540269bed21d6a7fd4631914f92161a872a08"
   },
   "outputs": [],
   "source": [
    "feature_number = 7\n",
    "OutLiersBox(df,df_name[feature_number])"
   ]
  },
  {
   "cell_type": "code",
   "execution_count": null,
   "metadata": {
    "_uuid": "190b3e129c3637757d37a966634df8206302c797"
   },
   "outputs": [],
   "source": [
    "df_clean = TurkyOutliers(df_clean,df_name[feature_number],True)\n",
    "OutLiersBox(df_clean,df_name[feature_number])"
   ]
  },
  {
   "cell_type": "markdown",
   "metadata": {
    "_uuid": "b3403f6daa943a74d801daa65c2f65768d51d406"
   },
   "source": [
    "### Feature 8 "
   ]
  },
  {
   "cell_type": "code",
   "execution_count": null,
   "metadata": {
    "_uuid": "668d9b303965ebcd2c22997667bc61af7344e8ef"
   },
   "outputs": [],
   "source": [
    "feature_number = 8\n",
    "OutLiersBox(df,df_name[feature_number])"
   ]
  },
  {
   "cell_type": "code",
   "execution_count": null,
   "metadata": {
    "_uuid": "d88255da980035fbb0962e0816c4bcbb0bcd36fa"
   },
   "outputs": [],
   "source": [
    "df_clean = TurkyOutliers(df_clean,df_name[feature_number],True)\n",
    "OutLiersBox(df_clean,df_name[feature_number])"
   ]
  },
  {
   "cell_type": "markdown",
   "metadata": {
    "_uuid": "d628ad109b6030343d8b87ea92991d80fe988ff8"
   },
   "source": [
    "** Cleaning Report **"
   ]
  },
  {
   "cell_type": "code",
   "execution_count": null,
   "metadata": {
    "_uuid": "50b6b00affd95fdd70d20dc621d6575cfb17a8ec"
   },
   "outputs": [],
   "source": [
    "print('df shape: {}, new df shape: {}, we lost {} rows, {}% of our data'.format(df.shape[0],df_clean.shape[0],\n",
    "                                                              df.shape[0]-df_clean.shape[0],\n",
    "                                                        (df.shape[0]-df_clean.shape[0])/df.shape[0]*100))"
   ]
  },
  {
   "cell_type": "code",
   "execution_count": null,
   "metadata": {
    "_uuid": "f32e85b12302b7b4fa4c920b98f27a2d7e09f2b3"
   },
   "outputs": [],
   "source": [
    "tt = OutLierDetection(df,'Pregnancies','BloodPressure',.1)"
   ]
  },
  {
   "cell_type": "code",
   "execution_count": null,
   "metadata": {
    "_uuid": "32f0d5e1a0f67db84b79f5809aa6744befeb5851"
   },
   "outputs": [],
   "source": [
    "tt_t = OutLierDetection(df_clean,'Pregnancies','BloodPressure',.1)"
   ]
  },
  {
   "cell_type": "markdown",
   "metadata": {
    "_uuid": "c94141ec7af99d4cccd58fbb4c8b81e9e84c9ea4"
   },
   "source": [
    "## Comparing the accuracy of models after cleaning"
   ]
  },
  {
   "cell_type": "code",
   "execution_count": null,
   "metadata": {
    "_uuid": "762e144116d8a1bbdb97ad9a4f84f94d2a3342e3",
    "collapsed": true,
    "jupyter": {
     "outputs_hidden": true
    }
   },
   "outputs": [],
   "source": [
    "df_clean_name = df_clean.columns\n",
    "X_c =  df_clean[df_clean_name[0:8]]\n",
    "Y_c = df_clean[df_clean_name[8]]\n",
    "X_train_c, X_test_c, y_train_c, y_test_c =train_test_split(X_c,Y_c,\n",
    "                                                   test_size=0.25,\n",
    "                                                   random_state=0,\n",
    "                                                   stratify=df_clean['Outcome'])"
   ]
  },
  {
   "cell_type": "code",
   "execution_count": null,
   "metadata": {
    "_uuid": "a8f1632d3cfd78482615474f685a7fb30cdd1402"
   },
   "outputs": [],
   "source": [
    "models = GetScaledModel('minmax')\n",
    "names,results = BasedLine2(X_train_c, y_train_c,models)\n",
    "PlotBoxR().PlotResult(names,results)\n",
    "\n",
    "scaledScoreMinMax_c = ScoreDataFrame(names,results)\n",
    "compareModels = pd.concat([basedLineScore,\n",
    "                           scaledScoreStandard,\n",
    "                          scaledScoreMinMax,\n",
    "                          scaledScoreMinMax_c], axis=1)\n",
    "compareModels"
   ]
  },
  {
   "cell_type": "markdown",
   "metadata": {
    "_uuid": "15deab97675887ca93ffeefa1d5b9b6157b9ce3e"
   },
   "source": [
    "It can be seen that the prediction is improving"
   ]
  },
  {
   "cell_type": "markdown",
   "metadata": {
    "_uuid": "0b4fba8b2f6dbff4cf7b8ce07e276b11a24ed22f"
   },
   "source": [
    "** Now is your turn you can delete the outlier in pair plot to see how the result change and share your result in comment.**"
   ]
  },
  {
   "cell_type": "markdown",
   "metadata": {
    "_uuid": "0a7caa94269f66fb4425b15a7a7912ca2e434725"
   },
   "source": [
    "## 4.3. Feature Selection\n",
    "Feature selection is also called variable selection or attribute selection.\n",
    "It is the automatic selection of attributes in your data (such as columns in tabular data) that are most relevant to the predictive modeling problem you are working on.\n",
    "\n",
    "Feature selection methods aid you in your mission to create an accurate predictive model. They help you by choosing features that will give you as good or better accuracy whilst requiring less data.\n",
    "\n",
    "Feature selection methods can be used to identify and remove unneeded, irrelevant and redundant attributes from data that do not contribute to the accuracy of a predictive model or may in fact decrease the accuracy of the model."
   ]
  },
  {
   "cell_type": "markdown",
   "metadata": {
    "_uuid": "964e2cb485dd68f4c25e1b15d35a86baafc4c9a7"
   },
   "source": [
    "### 4.3.1. Corrolation\n",
    "\n",
    "If we fit highly corrolated data in our model, it results in the overfitting probelm. Thus, for example if there are two highly corrolated features we have to drop the one that has more corrolation with other feature.  "
   ]
  },
  {
   "cell_type": "code",
   "execution_count": null,
   "metadata": {
    "_uuid": "b99cdbb4ae16a7ef227e0e6c2c1d867a92748255"
   },
   "outputs": [],
   "source": [
    "def HeatMap(df,x=True):\n",
    "        correlations = df.corr()\n",
    "        ## Create color map ranging between two colors\n",
    "        cmap = sns.diverging_palette(220, 10, as_cmap=True)\n",
    "        fig, ax = plt.subplots(figsize=(10, 10))\n",
    "        fig = sns.heatmap(correlations, cmap=cmap, vmax=1.0, center=0, fmt='.2f',square=True, linewidths=.5, annot=x, cbar_kws={\"shrink\": .75})\n",
    "        fig.set_xticklabels(fig.get_xticklabels(), rotation = 90, fontsize = 10)\n",
    "        fig.set_yticklabels(fig.get_yticklabels(), rotation = 0, fontsize = 10)\n",
    "        plt.tight_layout()\n",
    "        plt.show()\n",
    "\n",
    "HeatMap(df,x=True)"
   ]
  },
  {
   "cell_type": "markdown",
   "metadata": {
    "_uuid": "cdfef182b74e95f84879a446d07860ee83283796"
   },
   "source": [
    "There is not highly corrolated feature in this data set."
   ]
  },
  {
   "cell_type": "markdown",
   "metadata": {
    "_uuid": "bd688198523bd2ed0f97ae3f6368edfe5fc8c0cb"
   },
   "source": [
    "## 4.3.2.Feature Importance\n",
    "Bagged decision trees like Random Forest and Extra Trees can be used to estimate the importance of features."
   ]
  },
  {
   "cell_type": "code",
   "execution_count": null,
   "metadata": {
    "_uuid": "0b2deb9659ff185b9f4fec7997b19db554afe47e"
   },
   "outputs": [],
   "source": [
    "clf = ExtraTreesClassifier(n_estimators=250,\n",
    "                              random_state=SEED)\n",
    "\n",
    "clf.fit(X_train_c, y_train_c)\n",
    "\n",
    "# #############################################################################\n",
    "# Plot feature importance\n",
    "feature_importance = clf.feature_importances_\n",
    "# make importances relative to max importance\n",
    "feature_importance = 100.0 * (feature_importance / feature_importance.max())\n",
    "sorted_idx = np.argsort(feature_importance)\n",
    "pos = np.arange(sorted_idx.shape[0]) + .5\n",
    "plt.subplot(1, 2, 2)\n",
    "plt.barh(pos, feature_importance[sorted_idx], align='center')\n",
    "plt.yticks(pos, df.columns[sorted_idx])#boston.feature_names[sorted_idx])\n",
    "plt.xlabel('Relative Importance')\n",
    "plt.title('Variable Importance')\n",
    "plt.show()"
   ]
  },
  {
   "cell_type": "code",
   "execution_count": null,
   "metadata": {
    "_uuid": "e4058fc8ce9620e56de548837e48d83e3061aee6",
    "collapsed": true,
    "jupyter": {
     "outputs_hidden": true
    }
   },
   "outputs": [],
   "source": [
    "df_feature_imp=df_clean[['Glucose','BMI','Age','DiabetesPedigreeFunction','Outcome']]"
   ]
  },
  {
   "cell_type": "code",
   "execution_count": null,
   "metadata": {
    "_uuid": "0db378b1086bc9a10da11574e5e10c30e3a03dea",
    "collapsed": true,
    "jupyter": {
     "outputs_hidden": true
    }
   },
   "outputs": [],
   "source": [
    "df_feature_imp_name = df_feature_imp.columns"
   ]
  },
  {
   "cell_type": "code",
   "execution_count": null,
   "metadata": {
    "_uuid": "eff0a0058e288bc64970198fc1800abf449267ed",
    "collapsed": true,
    "jupyter": {
     "outputs_hidden": true
    }
   },
   "outputs": [],
   "source": [
    "X =  df_feature_imp[df_feature_imp_name[0:df_feature_imp.shape[1]-1]]\n",
    "Y = df_feature_imp[df_feature_imp_name[df_feature_imp.shape[1]-1]]\n",
    "X_train_im, X_test_im, y_train_im, y_test_im =train_test_split(X,Y,\n",
    "                                                   test_size=0.1,\n",
    "                                                   random_state=0,\n",
    "                                                   stratify=df_feature_imp['Outcome'])"
   ]
  },
  {
   "cell_type": "code",
   "execution_count": null,
   "metadata": {
    "_uuid": "095de1cb500df302d0671eec23d7b856ab707e46"
   },
   "outputs": [],
   "source": [
    "models = GetScaledModel('minmax')\n",
    "names,results = BasedLine2(X_train_im, y_train_im,models)\n",
    "PlotBoxR().PlotResult(names,results)\n",
    "\n",
    "scaledScoreMinMax_im = ScoreDataFrame(names,results)\n",
    "compareModels = pd.concat([basedLineScore,\n",
    "                           scaledScoreStandard,\n",
    "                          scaledScoreMinMax,\n",
    "                          scaledScoreMinMax_c,\n",
    "                          scaledScoreMinMax_im], axis=1)\n",
    "compareModels"
   ]
  },
  {
   "cell_type": "markdown",
   "metadata": {
    "_uuid": "7cc474a03fbd2df48519235d9cef0b21ddb8b7a6"
   },
   "source": [
    "We still could improve the prediction "
   ]
  },
  {
   "cell_type": "markdown",
   "metadata": {
    "_uuid": "51d24166df5cf6a26b19cb03a0ddd5d1dda4eff0"
   },
   "source": [
    "# 5. Algortithm Tuning"
   ]
  },
  {
   "cell_type": "code",
   "execution_count": null,
   "metadata": {
    "_uuid": "f9a7eda739efb526e1ac725d745382df6357af0d",
    "collapsed": true,
    "jupyter": {
     "outputs_hidden": true
    }
   },
   "outputs": [],
   "source": [
    "df_unscaled = df_clean[['Glucose','BMI','Age','DiabetesPedigreeFunction','Outcome']]\n",
    "df_imp_scaled_name = df_unscaled.columns"
   ]
  },
  {
   "cell_type": "code",
   "execution_count": null,
   "metadata": {
    "_uuid": "e6a2416554bd86644041f84a9cf210e5cc3b8ecb",
    "collapsed": true,
    "jupyter": {
     "outputs_hidden": true
    }
   },
   "outputs": [],
   "source": [
    "df_imp_scaled = MinMaxScaler().fit_transform(df_unscaled)\n",
    "X =  df_imp_scaled[:,0:4]\n",
    "Y =  df_imp_scaled[:,4]\n",
    "X_train_sc, X_test_sc, y_train_sc, y_test_sc =train_test_split(X,Y,\n",
    "                                                   test_size=0.1,\n",
    "                                                   random_state=0,\n",
    "                                                   stratify=df_imp_scaled[:,4])"
   ]
  },
  {
   "cell_type": "code",
   "execution_count": null,
   "metadata": {
    "_uuid": "1ead561d5678952606a784673e5c77564bdf02f2",
    "collapsed": true,
    "jupyter": {
     "outputs_hidden": true
    }
   },
   "outputs": [],
   "source": [
    "from sklearn.model_selection import GridSearchCV, RandomizedSearchCV\n",
    "from scipy.stats import uniform"
   ]
  },
  {
   "cell_type": "markdown",
   "metadata": {
    "_uuid": "3aa982112c12cefc97a8dc30d94f1a66ee717892"
   },
   "source": [
    "<img src=\"https://image.ibb.co/cQh2sS/1_ZTl_Qm_WRcr_Nq_L_n_Lnx6_GJA.png\" alt=\"1 ZTl Qm WRcr Nq L n Lnx6 GJA\" border=\"0\" />"
   ]
  },
  {
   "cell_type": "code",
   "execution_count": null,
   "metadata": {
    "_uuid": "e7582535c10855fe63e93f21ce50bbe82414fd8f",
    "collapsed": true,
    "jupyter": {
     "outputs_hidden": true
    }
   },
   "outputs": [],
   "source": [
    "class RandomSearch(object):\n",
    "    \n",
    "    def __init__(self,X_train,y_train,model,hyperparameters):\n",
    "        \n",
    "        self.X_train = X_train\n",
    "        self.y_train = y_train\n",
    "        self.model = model\n",
    "        self.hyperparameters = hyperparameters\n",
    "        \n",
    "    def RandomSearch(self):\n",
    "        # Create randomized search 10-fold cross validation and 100 iterations\n",
    "        cv = 10\n",
    "        clf = RandomizedSearchCV(self.model,\n",
    "                                 self.hyperparameters,\n",
    "                                 random_state=1,\n",
    "                                 n_iter=100,\n",
    "                                 cv=cv,\n",
    "                                 verbose=0,\n",
    "                                 n_jobs=-1,\n",
    "                                 )\n",
    "        # Fit randomized search\n",
    "        best_model = clf.fit(self.X_train, self.y_train)\n",
    "        message = (best_model.best_score_, best_model.best_params_)\n",
    "        print(\"Best: %f using %s\" % (message))\n",
    "\n",
    "        return best_model,best_model.best_params_\n",
    "    \n",
    "    def BestModelPridict(self,X_test):\n",
    "        \n",
    "        best_model,_ = self.RandomSearch()\n",
    "        pred = best_model.predict(X_test)\n",
    "        return pred\n",
    "    \n",
    "        "
   ]
  },
  {
   "cell_type": "code",
   "execution_count": null,
   "metadata": {
    "_uuid": "7866f93736ec47d9b9d3d6f56e3eb13486ff9a90",
    "collapsed": true,
    "jupyter": {
     "outputs_hidden": true
    }
   },
   "outputs": [],
   "source": [
    "class GridSearch(object):\n",
    "    \n",
    "    def __init__(self,X_train,y_train,model,hyperparameters):\n",
    "        \n",
    "        self.X_train = X_train\n",
    "        self.y_train = y_train\n",
    "        self.model = model\n",
    "        self.hyperparameters = hyperparameters\n",
    "        \n",
    "    def GridSearch(self):\n",
    "        # Create randomized search 10-fold cross validation and 100 iterations\n",
    "        cv = 10\n",
    "        clf = GridSearchCV(self.model,\n",
    "                                 self.hyperparameters,\n",
    "                                 cv=cv,\n",
    "                                 verbose=0,\n",
    "                                 n_jobs=-1,\n",
    "                                 )\n",
    "        # Fit randomized search\n",
    "        best_model = clf.fit(self.X_train, self.y_train)\n",
    "        message = (best_model.best_score_, best_model.best_params_)\n",
    "        print(\"Best: %f using %s\" % (message))\n",
    "\n",
    "        return best_model,best_model.best_params_\n",
    "    \n",
    "    def BestModelPridict(self,X_test):\n",
    "        \n",
    "        best_model,_ = self.GridSearch()\n",
    "        pred = best_model.predict(X_test)\n",
    "        return pred\n",
    "    \n",
    "        "
   ]
  },
  {
   "cell_type": "markdown",
   "metadata": {
    "_uuid": "785ff7dbca7028d1d3d36f75e0ef884e8a0c0ab1"
   },
   "source": [
    "## 5.1.Logistic Regression\n",
    "- C : Regularization value, the more, the stronger the regularization(double). \n",
    "- RegularizationType: Can be either \"L2\" or “L1”. Default is “L2”. "
   ]
  },
  {
   "cell_type": "code",
   "execution_count": null,
   "metadata": {
    "_uuid": "542dca32f0ee56ec5d94341d6b731deffb8473d2",
    "collapsed": true,
    "jupyter": {
     "outputs_hidden": true
    }
   },
   "outputs": [],
   "source": [
    "# model\n",
    "model = LogisticRegression()\n",
    "# Create regularization penalty space\n",
    "penalty = ['l1', 'l2']\n",
    "\n",
    "# Create regularization hyperparameter distribution using uniform distribution\n",
    "C = uniform(loc=0, scale=4)\n",
    "\n",
    "# Create hyperparameter options\n",
    "hyperparameters = dict(C=C, penalty=penalty)"
   ]
  },
  {
   "cell_type": "code",
   "execution_count": null,
   "metadata": {
    "_uuid": "7bacd6105daa1090003d19dc01d329903047b6ae"
   },
   "outputs": [],
   "source": [
    "LR_RandSearch = RandomSearch(X_train_sc,y_train_sc,model,hyperparameters)\n",
    "# LR_best_model,LR_best_params = LR_RandSearch.RandomSearch()\n",
    "Prediction_LR = LR_RandSearch.BestModelPridict(X_test_sc)"
   ]
  },
  {
   "cell_type": "code",
   "execution_count": null,
   "metadata": {
    "_uuid": "d0e00a7f4ce937b1d80416d74a2a53bc90915289",
    "collapsed": true,
    "jupyter": {
     "outputs_hidden": true
    }
   },
   "outputs": [],
   "source": [
    "def floatingDecimals(f_val, dec=3):\n",
    "        prc = \"{:.\"+str(dec)+\"f}\" #first cast decimal as str\n",
    "    #     print(prc) #str format output is {:.3f}\n",
    "        return float(prc.format(f_val))"
   ]
  },
  {
   "cell_type": "code",
   "execution_count": null,
   "metadata": {
    "_uuid": "e56b443664907058f0614154199d8739657bc848"
   },
   "outputs": [],
   "source": [
    "print('prediction on test set is:' ,floatingDecimals((y_test_sc == Prediction_LR).mean(),7))"
   ]
  },
  {
   "cell_type": "markdown",
   "metadata": {
    "_uuid": "1a2f1a9aae8410972475a8d51f6e15da5edd5e96"
   },
   "source": [
    "## 5.2. KNN\n",
    "- n_neighbors: Number of neighbors to use by default for k_neighbors queries"
   ]
  },
  {
   "cell_type": "code",
   "execution_count": null,
   "metadata": {
    "_uuid": "f6623ce7675e4324f722fd1183d3bd62544ad224",
    "collapsed": true,
    "jupyter": {
     "outputs_hidden": true
    }
   },
   "outputs": [],
   "source": [
    "model_KNN = KNeighborsClassifier()\n",
    "\n",
    "neighbors = [1,2,3,4,5,6,7,8,9,10,11,12,13,14,15,16,17,18,19,20]\n",
    "param_grid = dict(n_neighbors=neighbors)\n"
   ]
  },
  {
   "cell_type": "code",
   "execution_count": null,
   "metadata": {
    "_uuid": "410b1f11706fe4cfb12b316b8b2e91f91a4920fb"
   },
   "outputs": [],
   "source": [
    "KNN_GridSearch = GridSearch(X_train_sc,y_train_sc,model_KNN,param_grid)\n",
    "Prediction_KNN = KNN_GridSearch.BestModelPridict(X_test_sc)\n",
    "print('prediction on test set is:' ,floatingDecimals((y_test_sc == Prediction_KNN).mean(),7))\n"
   ]
  },
  {
   "cell_type": "markdown",
   "metadata": {
    "_uuid": "f72d652451fdd607beb1f2514d6e37599afc500e"
   },
   "source": [
    "## 5.3. SVC \n",
    "- C: The Penalty parameter C of the error term. \n",
    "- Kernel: Kernel type could be linear, poly, rbf or sigmoid."
   ]
  },
  {
   "cell_type": "code",
   "execution_count": null,
   "metadata": {
    "_uuid": "ab51fa661d5159187e941bd6f7d5e49f069a19c2",
    "collapsed": true,
    "jupyter": {
     "outputs_hidden": true
    }
   },
   "outputs": [],
   "source": [
    "c_values = [0.1, 0.3, 0.5, 0.7, 0.9, 1.0, 1.3, 1.5, 1.7, 2.0]\n",
    "kernel_values = [ 'linear' , 'poly' , 'rbf' , 'sigmoid' ]\n",
    "param_grid = dict(C=c_values, kernel=kernel_values)\n",
    "model_SVC = SVC()"
   ]
  },
  {
   "cell_type": "code",
   "execution_count": null,
   "metadata": {
    "_uuid": "2c8ea30730378c1968bc5103e6c402e4a1a59d42"
   },
   "outputs": [],
   "source": [
    "SVC_GridSearch = GridSearch(X_train_sc,y_train_sc,model_SVC,param_grid)\n",
    "Prediction_SVC = SVC_GridSearch.BestModelPridict(X_test_sc)\n",
    "print('prediction on test set is:' ,floatingDecimals((y_test_sc == Prediction_SVC).mean(),7))"
   ]
  },
  {
   "cell_type": "markdown",
   "metadata": {
    "_uuid": "b3fb82aa8dfb3f095a4154d9814650b2d952e1f7"
   },
   "source": [
    "## 5.4. Decision Tree\n",
    "- max_depth:  Maximum depth of the tree (double).\n",
    "- row_subsample: Proportion of observations to consider (double).\n",
    "- max_features: Proportion of columns (features) to consider in each level (double)."
   ]
  },
  {
   "cell_type": "code",
   "execution_count": null,
   "metadata": {
    "_uuid": "5d81f6df4c0d34fda3641e2dc20becf0beb852fc",
    "collapsed": true,
    "jupyter": {
     "outputs_hidden": true
    }
   },
   "outputs": [],
   "source": [
    "from scipy.stats import randint\n",
    "max_depth_value = [3, None]\n",
    "max_features_value =  randint(1, 4)\n",
    "min_samples_leaf_value = randint(1, 4)\n",
    "criterion_value = [\"gini\", \"entropy\"]"
   ]
  },
  {
   "cell_type": "code",
   "execution_count": null,
   "metadata": {
    "_uuid": "bc518522f0fecbc273450b51f8a692a93f9632bd",
    "collapsed": true,
    "jupyter": {
     "outputs_hidden": true
    }
   },
   "outputs": [],
   "source": [
    "param_grid = dict(max_depth = max_depth_value,\n",
    "                  max_features = max_features_value,\n",
    "                  min_samples_leaf = min_samples_leaf_value,\n",
    "                  criterion = criterion_value)"
   ]
  },
  {
   "cell_type": "code",
   "execution_count": null,
   "metadata": {
    "_uuid": "4bb06ecefb0b11768974c0695bd8301f9bde41ad"
   },
   "outputs": [],
   "source": [
    "model_CART = DecisionTreeClassifier()\n",
    "CART_RandSearch = RandomSearch(X_train_sc,y_train_sc,model_CART,param_grid)\n",
    "Prediction_CART = CART_RandSearch.BestModelPridict(X_test_sc)\n",
    "print('prediction on test set is:' ,floatingDecimals((y_test_sc == Prediction_CART).mean(),7))"
   ]
  },
  {
   "cell_type": "markdown",
   "metadata": {
    "_uuid": "3f8e989cc84237b3ecd807383f277f5ed47c42f3"
   },
   "source": [
    "## 5.5 AdaBoostClassifier\n",
    "- learning_rate: Learning rate shrinks the contribution of each classifier by learning_rate.\n",
    "- n_estimators: Number of trees to build."
   ]
  },
  {
   "cell_type": "code",
   "execution_count": null,
   "metadata": {
    "_uuid": "5b34e738bba67b634abe3914d22ce902f7207038",
    "collapsed": true,
    "jupyter": {
     "outputs_hidden": true
    }
   },
   "outputs": [],
   "source": [
    "learning_rate_value = [.01,.05,.1,.5,1]\n",
    "n_estimators_value = [50,100,150,200,250,300]\n",
    "\n",
    "param_grid = dict(learning_rate=learning_rate_value, n_estimators=n_estimators_value)"
   ]
  },
  {
   "cell_type": "code",
   "execution_count": null,
   "metadata": {
    "_uuid": "4fd47fa57861a0aa524073031e3b5d0466bcbbe0"
   },
   "outputs": [],
   "source": [
    "model_Ad = AdaBoostClassifier()\n",
    "Ad_GridSearch = GridSearch(X_train_sc,y_train_sc,model_Ad,param_grid)\n",
    "Prediction_Ad = Ad_GridSearch.BestModelPridict(X_test_sc)\n",
    "print('prediction on test set is:' ,floatingDecimals((y_test_sc == Prediction_Ad).mean(),7))\n"
   ]
  },
  {
   "cell_type": "markdown",
   "metadata": {
    "_uuid": "aff0ef797e5551b9f946b03ca2663ad872d759cf"
   },
   "source": [
    "## 5.6 GradientBoosting"
   ]
  },
  {
   "cell_type": "code",
   "execution_count": null,
   "metadata": {
    "_uuid": "bb21b1e4daf464813738f09667a34a289de1f3da",
    "collapsed": true,
    "jupyter": {
     "outputs_hidden": true
    }
   },
   "outputs": [],
   "source": [
    "learning_rate_value = [.01,.05,.1,.5,1]\n",
    "n_estimators_value = [50,100,150,200,250,300]\n",
    "\n",
    "param_grid = dict(learning_rate=learning_rate_value, n_estimators=n_estimators_value)"
   ]
  },
  {
   "cell_type": "code",
   "execution_count": null,
   "metadata": {
    "_uuid": "e30a9c2e6861eba458ea8a44218a5f0c9da702f9",
    "collapsed": true,
    "jupyter": {
     "outputs_hidden": true
    }
   },
   "outputs": [],
   "source": [
    "model_GB = GradientBoostingClassifier()\n",
    "GB_GridSearch = GridSearch(X_train_sc,y_train_sc,model_GB,param_grid)\n",
    "Prediction_GB = GB_GridSearch.BestModelPridict(X_test_sc)\n",
    "print('prediction on test set is:' ,floatingDecimals((y_test_sc == Prediction_GB).mean(),7))"
   ]
  },
  {
   "cell_type": "markdown",
   "metadata": {
    "_uuid": "fff807b4781a167227e1bd6db5690778c87bcbc7"
   },
   "source": [
    "## 5.7. RandomForest\n",
    "**Toturial: Tune RandommForest**\n",
    "## 5.8. ExtraTrees\n",
    "**Toturial: Tune ExtraTrees**"
   ]
  },
  {
   "cell_type": "markdown",
   "metadata": {
    "_uuid": "7e5a3fab7dd5dc069f441b7db201cfb8a47d08e7"
   },
   "source": [
    " # 6. Ensemble Methods"
   ]
  },
  {
   "cell_type": "markdown",
   "metadata": {
    "_uuid": "0e6711a32e0df957d78de42d85bed802a6110d8e"
   },
   "source": [
    "## 6.1 Voting Ensemble\n",
    "\n",
    "Voting is one of the simplest ways of combining the predictions from multiple machine learning algorithms. It works by first creating two or more standalone models from your training dataset.\n",
    "A Voting Classifier can then be used to wrap your models and average the predictions of the sub-models when asked to make predictions for new data."
   ]
  },
  {
   "cell_type": "code",
   "execution_count": null,
   "metadata": {
    "_uuid": "41aa3b3f8588a4ad96ac3afdf1e8a364db20a44a",
    "collapsed": true,
    "jupyter": {
     "outputs_hidden": true
    }
   },
   "outputs": [],
   "source": [
    "from sklearn.ensemble import VotingClassifier"
   ]
  },
  {
   "cell_type": "code",
   "execution_count": null,
   "metadata": {
    "_uuid": "25c9f6018cba0ca10a52c13c0e5fb0fb15c1b32f",
    "collapsed": true,
    "jupyter": {
     "outputs_hidden": true
    }
   },
   "outputs": [],
   "source": [
    "param = {'C': 0.7678243129497218, 'penalty': 'l1'}\n",
    "model1 = LogisticRegression(**param)\n",
    "\n",
    "param = {'n_neighbors': 15}\n",
    "model2 = KNeighborsClassifier(**param)\n",
    "\n",
    "param = {'C': 1.7, 'kernel': 'linear'}\n",
    "model3 = SVC(**param)\n",
    "\n",
    "param = {'criterion': 'gini', 'max_depth': 3, 'max_features': 2, 'min_samples_leaf': 3}\n",
    "model4 = DecisionTreeClassifier(**param)\n",
    "\n",
    "param = {'learning_rate': 0.05, 'n_estimators': 150}\n",
    "model5 = AdaBoostClassifier(**param)\n",
    "\n",
    "param = {'learning_rate': 0.01, 'n_estimators': 100}\n",
    "model6 = GradientBoostingClassifier(**param)\n",
    "\n",
    "model7 = GaussianNB()\n",
    "\n",
    "model8 = RandomForestClassifier()\n",
    "\n",
    "model9 = ExtraTreesClassifier()"
   ]
  },
  {
   "cell_type": "code",
   "execution_count": null,
   "metadata": {
    "_uuid": "eaaed81a9994210940a6d6b7de0cdc80fe4a04c1",
    "collapsed": true,
    "jupyter": {
     "outputs_hidden": true
    }
   },
   "outputs": [],
   "source": [
    "# create the sub models\n",
    "estimators = [('LR',model1), ('KNN',model2), ('SVC',model3),\n",
    "              ('DT',model4), ('ADa',model5), ('GB',model6),\n",
    "              ('NB',model7), ('RF',model8),  ('ET',model9)]\n",
    "    "
   ]
  },
  {
   "cell_type": "code",
   "execution_count": null,
   "metadata": {
    "_uuid": "7742ee84729ba393b5d205ecf535a7f35290dfd2"
   },
   "outputs": [],
   "source": [
    "# create the ensemble model\n",
    "kfold = StratifiedKFold(n_splits=10, random_state=SEED)\n",
    "ensemble = VotingClassifier(estimators)\n",
    "results = cross_val_score(ensemble, X_train_sc,y_train_sc, cv=kfold)\n",
    "print('Accuracy on train: ',results.mean())\n",
    "ensemble_model = ensemble.fit(X_train_sc,y_train_sc)\n",
    "pred = ensemble_model.predict(X_test_sc)\n",
    "print('Accuracy on test:' , (y_test_sc == pred).mean())"
   ]
  },
  {
   "cell_type": "markdown",
   "metadata": {
    "_uuid": "4e247d2094044ca00cd9106f3beac6c50d10af6b"
   },
   "source": [
    "## Beyond Voting"
   ]
  },
  {
   "cell_type": "code",
   "execution_count": null,
   "metadata": {
    "_uuid": "f7c15dba0b60875b55d159f51a78b4d69f34e390",
    "collapsed": true,
    "jupyter": {
     "outputs_hidden": true
    }
   },
   "outputs": [],
   "source": [
    "def get_models():\n",
    "    \"\"\"Generate a library of base learners.\"\"\"\n",
    "    param = {'C': 0.7678243129497218, 'penalty': 'l1'}\n",
    "    model1 = LogisticRegression(**param)\n",
    "\n",
    "    param = {'n_neighbors': 15}\n",
    "    model2 = KNeighborsClassifier(**param)\n",
    "\n",
    "    param = {'C': 1.7, 'kernel': 'linear', 'probability':True}\n",
    "    model3 = SVC(**param)\n",
    "\n",
    "    param = {'criterion': 'gini', 'max_depth': 3, 'max_features': 2, 'min_samples_leaf': 3}\n",
    "    model4 = DecisionTreeClassifier(**param)\n",
    "\n",
    "    param = {'learning_rate': 0.05, 'n_estimators': 150}\n",
    "    model5 = AdaBoostClassifier(**param)\n",
    "\n",
    "    param = {'learning_rate': 0.01, 'n_estimators': 100}\n",
    "    model6 = GradientBoostingClassifier(**param)\n",
    "\n",
    "    model7 = GaussianNB()\n",
    "\n",
    "    model8 = RandomForestClassifier()\n",
    "\n",
    "    model9 = ExtraTreesClassifier()\n",
    "\n",
    "    models = {'LR':model1, 'KNN':model2, 'SVC':model3,\n",
    "              'DT':model4, 'ADa':model5, 'GB':model6,\n",
    "              'NB':model7, 'RF':model8,  'ET':model9\n",
    "              }\n",
    "\n",
    "    return models"
   ]
  },
  {
   "cell_type": "markdown",
   "metadata": {
    "_uuid": "39ac1773bfdb3779845be291094c68ba73ca5190"
   },
   "source": [
    "## 6.2. Error Corrolation"
   ]
  },
  {
   "cell_type": "code",
   "execution_count": null,
   "metadata": {
    "_uuid": "353ce5914dad1c368a6ea72392fd741a2b65a8cd",
    "collapsed": true,
    "jupyter": {
     "outputs_hidden": true
    }
   },
   "outputs": [],
   "source": [
    "def train_predict(model_list,xtrain, xtest, ytrain, ytest):\n",
    "    \"\"\"Fit models in list on training set and return preds\"\"\"\n",
    "    P = np.zeros((ytest.shape[0], len(model_list)))\n",
    "    P = pd.DataFrame(P)\n",
    "\n",
    "    print(\"Fitting models.\")\n",
    "    cols = list()\n",
    "    for i, (name, m) in enumerate(models.items()):\n",
    "        print(\"%s...\" % name, end=\" \", flush=False)\n",
    "        m.fit(xtrain, ytrain)\n",
    "        P.iloc[:, i] = m.predict_proba(xtest)[:, 1]\n",
    "        cols.append(name)\n",
    "        print(\"done\")\n",
    "\n",
    "    P.columns = cols\n",
    "    print(\"Done.\\n\")\n",
    "    return P"
   ]
  },
  {
   "cell_type": "code",
   "execution_count": null,
   "metadata": {
    "_uuid": "d51139fadb8f9c020a0f7aaa162fef1746dff7fe"
   },
   "outputs": [],
   "source": [
    "models = get_models()\n",
    "P = train_predict(models,X_train_sc,X_test_sc,y_train_sc,y_test_sc)"
   ]
  },
  {
   "cell_type": "code",
   "execution_count": null,
   "metadata": {
    "_uuid": "36cd5f4ca661e1a15dea98d2badf305498e5e7d3",
    "scrolled": true
   },
   "outputs": [],
   "source": [
    "from mlens.visualization import corrmat\n",
    "\n",
    "corrmat(P.corr(), inflate=False)\n"
   ]
  },
  {
   "cell_type": "markdown",
   "metadata": {
    "_uuid": "0be8f6a1d8f207fc95bcd7aa9f18c92e26861a41"
   },
   "source": [
    "Errors are significantly correlated, which is to be expected for models that perform well, since it's typically the outliers that are hard to get right. In fact, if we look at error correlations on a class prediction basis things look a bit more promising:"
   ]
  },
  {
   "cell_type": "code",
   "execution_count": null,
   "metadata": {
    "_uuid": "54a1dd23b1c61374a696152fd5497a2fc481bcd8"
   },
   "outputs": [],
   "source": [
    "corrmat(P.apply(lambda predic: 1*(predic >= 0.5) - y_test_sc).corr(), inflate=False)"
   ]
  },
  {
   "cell_type": "markdown",
   "metadata": {
    "_uuid": "07ce79e10f3a8840cea366f998ada73af0cb2a6a"
   },
   "source": [
    "# 6.3 Stacking"
   ]
  },
  {
   "cell_type": "code",
   "execution_count": null,
   "metadata": {
    "_uuid": "e74639abe524f3ec0b9434e7586993fdc4dbfe30",
    "collapsed": true,
    "jupyter": {
     "outputs_hidden": true
    }
   },
   "outputs": [],
   "source": [
    "base_learners = get_models()\n",
    "meta_learner = GradientBoostingClassifier(\n",
    "    n_estimators=1000,\n",
    "    loss=\"exponential\",\n",
    "    max_features=6,\n",
    "    max_depth=3,\n",
    "    subsample=0.5,\n",
    "    learning_rate=0.001, \n",
    "    random_state=SEED\n",
    ")"
   ]
  },
  {
   "cell_type": "code",
   "execution_count": null,
   "metadata": {
    "_uuid": "a43f81a5af29ee88d5ca9819f4de41366ecdc325"
   },
   "outputs": [],
   "source": [
    "from mlens.ensemble import SuperLearner\n",
    "\n",
    "# Instantiate the ensemble with 10 folds\n",
    "sl = SuperLearner(\n",
    "    folds=10,\n",
    "    random_state=SEED,\n",
    "    verbose=2,\n",
    "    backend=\"multiprocessing\"\n",
    ")\n",
    "\n",
    "# Add the base learners and the meta learner\n",
    "sl.add(list(base_learners.values()), proba=True) \n",
    "sl.add_meta(meta_learner, proba=True)\n",
    "\n",
    "# Train the ensemble\n",
    "sl.fit(X_train_sc, y_train_sc)\n",
    "\n",
    "# Predict the test set\n",
    "p_sl = sl.predict_proba(X_test_sc)\n",
    "\n",
    "# print(\"\\nSuper Learner ROC-AUC score: %.3f\" % roc_auc_score(y_test_sc, p_sl[:, 1]))\n"
   ]
  },
  {
   "cell_type": "code",
   "execution_count": null,
   "metadata": {
    "_uuid": "f5fb0981be06563833434d35218d7b5ead7b64cf",
    "collapsed": true,
    "jupyter": {
     "outputs_hidden": true
    }
   },
   "outputs": [],
   "source": [
    "pp = []\n",
    "for p in p_sl[:, 1]:\n",
    "    if p>0.5:\n",
    "        pp.append(1.)\n",
    "    else:\n",
    "        pp.append(0.)"
   ]
  },
  {
   "cell_type": "code",
   "execution_count": null,
   "metadata": {
    "_uuid": "bfddf9c785b045e1601697aee9fc303bde1afe54"
   },
   "outputs": [],
   "source": [
    "print(\"\\nSuper Learner Accuracy score: %.8f\" % (y_test_sc== pp).mean())"
   ]
  },
  {
   "cell_type": "markdown",
   "metadata": {
    "_uuid": "00e22e7466c63ca7f570a9663138727a45855e39"
   },
   "source": [
    "# Conclusion:\n",
    "- We could reach 86 % accuracy\n",
    "- Now you can do more feature engineering \n",
    "- Tune better \n",
    "- Use XGBoost, LightGBM, Nueal Network and other boosting method to improve your result\n",
    "- Stack more diverse model\n",
    "- Use your creativity \n",
    "- Your comments is warmly welcome\n",
    "> - Thank you, it there is a misstke Please let me know"
   ]
  },
  {
   "cell_type": "markdown",
   "metadata": {
    "_uuid": "9dae5aaa36c4fe8ad1b09f24ee4b9e772ca66c91"
   },
   "source": [
    "# Happy Kaggling!"
   ]
  },
  {
   "cell_type": "markdown",
   "metadata": {
    "_uuid": "213c0c624aff0a9168dd3fc11ac78daeeabb177b"
   },
   "source": [
    "# If the kernel is useful, Please UpVote"
   ]
  }
 ],
 "metadata": {
  "kernelspec": {
   "display_name": "Python 3",
   "language": "python",
   "name": "python3"
  },
  "language_info": {
   "codemirror_mode": {
    "name": "ipython",
    "version": 3
   },
   "file_extension": ".py",
   "mimetype": "text/x-python",
   "name": "python",
   "nbconvert_exporter": "python",
   "pygments_lexer": "ipython3",
   "version": "3.7.4"
  }
 },
 "nbformat": 4,
 "nbformat_minor": 4
}
