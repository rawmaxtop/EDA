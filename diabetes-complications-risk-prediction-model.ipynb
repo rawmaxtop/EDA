{
 "cells": [
  {
   "cell_type": "markdown",
   "metadata": {
    "id": "9585A1C3811F4F168786B752D9F1A31C",
    "jupyter": {},
    "mdEditEnable": false,
    "slideshow": {
     "slide_type": "slide"
    },
    "tags": []
   },
   "source": [
    "## 一、心血管疾病风险预测\n",
    "\n",
    "### Step 1：数据分析"
   ]
  },
  {
   "cell_type": "code",
   "execution_count": 1,
   "metadata": {
    "id": "3881A9DA9DE84A6085173B4DE6B1BC8A",
    "jupyter": {},
    "scrolled": false,
    "slideshow": {
     "slide_type": "slide"
    },
    "tags": []
   },
   "outputs": [
    {
     "name": "stdout",
     "output_type": "stream",
     "text": [
      "hw_Cardiovascular.csv  hw_Nephropathy.csv  test.csv  test_y.csv  train.csv\r\n"
     ]
    }
   ],
   "source": [
    "ls '/home/kesci/input/diabetes8566/'"
   ]
  },
  {
   "cell_type": "code",
   "execution_count": 2,
   "metadata": {
    "id": "0D13081A9DBC4BF58B03C59461911AE2",
    "jupyter": {},
    "scrolled": false,
    "slideshow": {
     "slide_type": "slide"
    },
    "tags": []
   },
   "outputs": [],
   "source": [
    "import pandas as pd\n",
    "import numpy as np\n",
    "import matplotlib.pyplot as plt\n",
    "import seaborn as sns"
   ]
  },
  {
   "cell_type": "code",
   "execution_count": 4,
   "metadata": {
    "id": "BBD1C62BD54644A0836AFEE7EF31700B",
    "jupyter": {},
    "notebookId": "604ecb395316950016ea65dc",
    "scrolled": false,
    "slideshow": {
     "slide_type": "slide"
    },
    "tags": []
   },
   "outputs": [
    {
     "data": {
      "text/html": [
       "<div>\n",
       "<style scoped>\n",
       "    .dataframe tbody tr th:only-of-type {\n",
       "        vertical-align: middle;\n",
       "    }\n",
       "\n",
       "    .dataframe tbody tr th {\n",
       "        vertical-align: top;\n",
       "    }\n",
       "\n",
       "    .dataframe thead th {\n",
       "        text-align: right;\n",
       "    }\n",
       "</style>\n",
       "<table border=\"1\" class=\"dataframe\">\n",
       "  <thead>\n",
       "    <tr style=\"text-align: right;\">\n",
       "      <th></th>\n",
       "      <th>Age</th>\n",
       "      <th>Sex</th>\n",
       "      <th>Body.height..at.0M</th>\n",
       "      <th>Waist.circumstances.at.0M</th>\n",
       "      <th>Duration.of.T2DM</th>\n",
       "      <th>Smoking.habit</th>\n",
       "      <th>Drinking.habit</th>\n",
       "      <th>History.of.complications</th>\n",
       "      <th>History.of.hypertension</th>\n",
       "      <th>History.of.dyslipidemia</th>\n",
       "      <th>...</th>\n",
       "      <th>Urinary.sugar.at.3M</th>\n",
       "      <th>Urinary.sugar.at.12M</th>\n",
       "      <th>Urinary.albumin.creatinine.ratio.at.0M</th>\n",
       "      <th>Urinary.albumin.creatinine.ratio.at.3M</th>\n",
       "      <th>Urinary.albumin.creatinine.ratio.at.12M</th>\n",
       "      <th>eGFR.at.0M</th>\n",
       "      <th>eGFR.at.1M</th>\n",
       "      <th>eGFR.at.3M</th>\n",
       "      <th>eGFR.at.12M</th>\n",
       "      <th>Cardiovascular Risk</th>\n",
       "    </tr>\n",
       "  </thead>\n",
       "  <tbody>\n",
       "    <tr>\n",
       "      <th>0</th>\n",
       "      <td>61</td>\n",
       "      <td>1</td>\n",
       "      <td>170.0</td>\n",
       "      <td>101.000</td>\n",
       "      <td>72.0</td>\n",
       "      <td>0</td>\n",
       "      <td>0</td>\n",
       "      <td>1</td>\n",
       "      <td>1</td>\n",
       "      <td>1</td>\n",
       "      <td>...</td>\n",
       "      <td>0</td>\n",
       "      <td>0</td>\n",
       "      <td>53.300</td>\n",
       "      <td>94.218</td>\n",
       "      <td>6.400</td>\n",
       "      <td>55.940643</td>\n",
       "      <td>52.670513</td>\n",
       "      <td>50.686818</td>\n",
       "      <td>61.643003</td>\n",
       "      <td>1</td>\n",
       "    </tr>\n",
       "    <tr>\n",
       "      <th>1</th>\n",
       "      <td>42</td>\n",
       "      <td>1</td>\n",
       "      <td>184.0</td>\n",
       "      <td>99.532</td>\n",
       "      <td>36.0</td>\n",
       "      <td>2</td>\n",
       "      <td>0</td>\n",
       "      <td>1</td>\n",
       "      <td>0</td>\n",
       "      <td>1</td>\n",
       "      <td>...</td>\n",
       "      <td>4</td>\n",
       "      <td>3</td>\n",
       "      <td>84.301</td>\n",
       "      <td>76.349</td>\n",
       "      <td>58.541</td>\n",
       "      <td>98.878513</td>\n",
       "      <td>96.060985</td>\n",
       "      <td>96.013865</td>\n",
       "      <td>89.393232</td>\n",
       "      <td>0</td>\n",
       "    </tr>\n",
       "    <tr>\n",
       "      <th>2</th>\n",
       "      <td>64</td>\n",
       "      <td>1</td>\n",
       "      <td>169.0</td>\n",
       "      <td>94.627</td>\n",
       "      <td>168.0</td>\n",
       "      <td>2</td>\n",
       "      <td>0</td>\n",
       "      <td>1</td>\n",
       "      <td>0</td>\n",
       "      <td>1</td>\n",
       "      <td>...</td>\n",
       "      <td>4</td>\n",
       "      <td>0</td>\n",
       "      <td>14.497</td>\n",
       "      <td>13.418</td>\n",
       "      <td>12.110</td>\n",
       "      <td>83.486588</td>\n",
       "      <td>83.701169</td>\n",
       "      <td>80.666781</td>\n",
       "      <td>79.474729</td>\n",
       "      <td>0</td>\n",
       "    </tr>\n",
       "    <tr>\n",
       "      <th>3</th>\n",
       "      <td>57</td>\n",
       "      <td>1</td>\n",
       "      <td>168.5</td>\n",
       "      <td>96.122</td>\n",
       "      <td>144.0</td>\n",
       "      <td>2</td>\n",
       "      <td>1</td>\n",
       "      <td>1</td>\n",
       "      <td>1</td>\n",
       "      <td>1</td>\n",
       "      <td>...</td>\n",
       "      <td>0</td>\n",
       "      <td>0</td>\n",
       "      <td>19.916</td>\n",
       "      <td>19.455</td>\n",
       "      <td>16.512</td>\n",
       "      <td>85.148398</td>\n",
       "      <td>85.273085</td>\n",
       "      <td>83.015438</td>\n",
       "      <td>79.775872</td>\n",
       "      <td>1</td>\n",
       "    </tr>\n",
       "    <tr>\n",
       "      <th>4</th>\n",
       "      <td>63</td>\n",
       "      <td>2</td>\n",
       "      <td>151.0</td>\n",
       "      <td>88.500</td>\n",
       "      <td>72.0</td>\n",
       "      <td>1</td>\n",
       "      <td>0</td>\n",
       "      <td>1</td>\n",
       "      <td>1</td>\n",
       "      <td>1</td>\n",
       "      <td>...</td>\n",
       "      <td>0</td>\n",
       "      <td>0</td>\n",
       "      <td>30.000</td>\n",
       "      <td>27.100</td>\n",
       "      <td>56.600</td>\n",
       "      <td>77.754106</td>\n",
       "      <td>87.433453</td>\n",
       "      <td>89.274571</td>\n",
       "      <td>83.961202</td>\n",
       "      <td>0</td>\n",
       "    </tr>\n",
       "  </tbody>\n",
       "</table>\n",
       "<p>5 rows × 165 columns</p>\n",
       "</div>"
      ],
      "text/plain": [
       "   Age  Sex  Body.height..at.0M  Waist.circumstances.at.0M  Duration.of.T2DM  \\\n",
       "0   61    1               170.0                    101.000              72.0   \n",
       "1   42    1               184.0                     99.532              36.0   \n",
       "2   64    1               169.0                     94.627             168.0   \n",
       "3   57    1               168.5                     96.122             144.0   \n",
       "4   63    2               151.0                     88.500              72.0   \n",
       "\n",
       "   Smoking.habit  Drinking.habit  History.of.complications  \\\n",
       "0              0               0                         1   \n",
       "1              2               0                         1   \n",
       "2              2               0                         1   \n",
       "3              2               1                         1   \n",
       "4              1               0                         1   \n",
       "\n",
       "   History.of.hypertension  History.of.dyslipidemia  ...  Urinary.sugar.at.3M  \\\n",
       "0                        1                        1  ...                    0   \n",
       "1                        0                        1  ...                    4   \n",
       "2                        0                        1  ...                    4   \n",
       "3                        1                        1  ...                    0   \n",
       "4                        1                        1  ...                    0   \n",
       "\n",
       "   Urinary.sugar.at.12M  Urinary.albumin.creatinine.ratio.at.0M  \\\n",
       "0                     0                                  53.300   \n",
       "1                     3                                  84.301   \n",
       "2                     0                                  14.497   \n",
       "3                     0                                  19.916   \n",
       "4                     0                                  30.000   \n",
       "\n",
       "   Urinary.albumin.creatinine.ratio.at.3M  \\\n",
       "0                                  94.218   \n",
       "1                                  76.349   \n",
       "2                                  13.418   \n",
       "3                                  19.455   \n",
       "4                                  27.100   \n",
       "\n",
       "   Urinary.albumin.creatinine.ratio.at.12M  eGFR.at.0M  eGFR.at.1M  \\\n",
       "0                                    6.400   55.940643   52.670513   \n",
       "1                                   58.541   98.878513   96.060985   \n",
       "2                                   12.110   83.486588   83.701169   \n",
       "3                                   16.512   85.148398   85.273085   \n",
       "4                                   56.600   77.754106   87.433453   \n",
       "\n",
       "   eGFR.at.3M  eGFR.at.12M  Cardiovascular Risk  \n",
       "0   50.686818    61.643003                    1  \n",
       "1   96.013865    89.393232                    0  \n",
       "2   80.666781    79.474729                    0  \n",
       "3   83.015438    79.775872                    1  \n",
       "4   89.274571    83.961202                    0  \n",
       "\n",
       "[5 rows x 165 columns]"
      ]
     },
     "execution_count": 4,
     "metadata": {},
     "output_type": "execute_result"
    }
   ],
   "source": [
    "# 加载数据\n",
    "card_df = pd.read_csv('/home/kesci/input/diabetes8566/hw_Cardiovascular.csv',encoding='utf-8')\n",
    "card_df.head()"
   ]
  },
  {
   "cell_type": "code",
   "execution_count": 8,
   "metadata": {
    "id": "3DE445D645DD4EFA8E7AB8283F5DA8F0",
    "jupyter": {},
    "notebookId": "604ecb395316950016ea65dc",
    "scrolled": false,
    "slideshow": {
     "slide_type": "slide"
    },
    "tags": []
   },
   "outputs": [
    {
     "name": "stdout",
     "output_type": "stream",
     "text": [
      "(778, 165)\n"
     ]
    },
    {
     "data": {
      "text/html": [
       "<div>\n",
       "<style scoped>\n",
       "    .dataframe tbody tr th:only-of-type {\n",
       "        vertical-align: middle;\n",
       "    }\n",
       "\n",
       "    .dataframe tbody tr th {\n",
       "        vertical-align: top;\n",
       "    }\n",
       "\n",
       "    .dataframe thead th {\n",
       "        text-align: right;\n",
       "    }\n",
       "</style>\n",
       "<table border=\"1\" class=\"dataframe\">\n",
       "  <thead>\n",
       "    <tr style=\"text-align: right;\">\n",
       "      <th></th>\n",
       "      <th>Age</th>\n",
       "      <th>Sex</th>\n",
       "      <th>Body.height..at.0M</th>\n",
       "      <th>Waist.circumstances.at.0M</th>\n",
       "      <th>Duration.of.T2DM</th>\n",
       "      <th>Smoking.habit</th>\n",
       "      <th>Drinking.habit</th>\n",
       "      <th>History.of.complications</th>\n",
       "      <th>History.of.hypertension</th>\n",
       "      <th>History.of.dyslipidemia</th>\n",
       "      <th>...</th>\n",
       "      <th>Urinary.sugar.at.3M</th>\n",
       "      <th>Urinary.sugar.at.12M</th>\n",
       "      <th>Urinary.albumin.creatinine.ratio.at.0M</th>\n",
       "      <th>Urinary.albumin.creatinine.ratio.at.3M</th>\n",
       "      <th>Urinary.albumin.creatinine.ratio.at.12M</th>\n",
       "      <th>eGFR.at.0M</th>\n",
       "      <th>eGFR.at.1M</th>\n",
       "      <th>eGFR.at.3M</th>\n",
       "      <th>eGFR.at.12M</th>\n",
       "      <th>Cardiovascular Risk</th>\n",
       "    </tr>\n",
       "  </thead>\n",
       "  <tbody>\n",
       "    <tr>\n",
       "      <th>count</th>\n",
       "      <td>778.0</td>\n",
       "      <td>778.0</td>\n",
       "      <td>778.0</td>\n",
       "      <td>778.0</td>\n",
       "      <td>778.0</td>\n",
       "      <td>778.0</td>\n",
       "      <td>778.0</td>\n",
       "      <td>778.0</td>\n",
       "      <td>778.0</td>\n",
       "      <td>778.0</td>\n",
       "      <td>...</td>\n",
       "      <td>778.0</td>\n",
       "      <td>778.0</td>\n",
       "      <td>778.0</td>\n",
       "      <td>778.0</td>\n",
       "      <td>778.0</td>\n",
       "      <td>778.0</td>\n",
       "      <td>778.0</td>\n",
       "      <td>778.0</td>\n",
       "      <td>778.0</td>\n",
       "      <td>778.0</td>\n",
       "    </tr>\n",
       "    <tr>\n",
       "      <th>mean</th>\n",
       "      <td>64.0</td>\n",
       "      <td>1.0</td>\n",
       "      <td>163.0</td>\n",
       "      <td>88.0</td>\n",
       "      <td>106.0</td>\n",
       "      <td>1.0</td>\n",
       "      <td>0.0</td>\n",
       "      <td>1.0</td>\n",
       "      <td>1.0</td>\n",
       "      <td>1.0</td>\n",
       "      <td>...</td>\n",
       "      <td>1.0</td>\n",
       "      <td>1.0</td>\n",
       "      <td>85.0</td>\n",
       "      <td>80.0</td>\n",
       "      <td>97.0</td>\n",
       "      <td>79.0</td>\n",
       "      <td>77.0</td>\n",
       "      <td>76.0</td>\n",
       "      <td>75.0</td>\n",
       "      <td>0.0</td>\n",
       "    </tr>\n",
       "    <tr>\n",
       "      <th>std</th>\n",
       "      <td>12.0</td>\n",
       "      <td>0.0</td>\n",
       "      <td>10.0</td>\n",
       "      <td>10.0</td>\n",
       "      <td>78.0</td>\n",
       "      <td>1.0</td>\n",
       "      <td>1.0</td>\n",
       "      <td>0.0</td>\n",
       "      <td>0.0</td>\n",
       "      <td>0.0</td>\n",
       "      <td>...</td>\n",
       "      <td>1.0</td>\n",
       "      <td>1.0</td>\n",
       "      <td>217.0</td>\n",
       "      <td>192.0</td>\n",
       "      <td>274.0</td>\n",
       "      <td>19.0</td>\n",
       "      <td>19.0</td>\n",
       "      <td>19.0</td>\n",
       "      <td>18.0</td>\n",
       "      <td>0.0</td>\n",
       "    </tr>\n",
       "    <tr>\n",
       "      <th>min</th>\n",
       "      <td>27.0</td>\n",
       "      <td>1.0</td>\n",
       "      <td>135.0</td>\n",
       "      <td>38.0</td>\n",
       "      <td>1.0</td>\n",
       "      <td>0.0</td>\n",
       "      <td>0.0</td>\n",
       "      <td>0.0</td>\n",
       "      <td>0.0</td>\n",
       "      <td>0.0</td>\n",
       "      <td>...</td>\n",
       "      <td>0.0</td>\n",
       "      <td>0.0</td>\n",
       "      <td>0.0</td>\n",
       "      <td>0.0</td>\n",
       "      <td>0.0</td>\n",
       "      <td>17.0</td>\n",
       "      <td>16.0</td>\n",
       "      <td>15.0</td>\n",
       "      <td>12.0</td>\n",
       "      <td>0.0</td>\n",
       "    </tr>\n",
       "    <tr>\n",
       "      <th>25%</th>\n",
       "      <td>56.0</td>\n",
       "      <td>1.0</td>\n",
       "      <td>155.0</td>\n",
       "      <td>82.0</td>\n",
       "      <td>48.0</td>\n",
       "      <td>0.0</td>\n",
       "      <td>0.0</td>\n",
       "      <td>1.0</td>\n",
       "      <td>0.0</td>\n",
       "      <td>0.0</td>\n",
       "      <td>...</td>\n",
       "      <td>0.0</td>\n",
       "      <td>0.0</td>\n",
       "      <td>11.0</td>\n",
       "      <td>13.0</td>\n",
       "      <td>11.0</td>\n",
       "      <td>67.0</td>\n",
       "      <td>65.0</td>\n",
       "      <td>64.0</td>\n",
       "      <td>64.0</td>\n",
       "      <td>0.0</td>\n",
       "    </tr>\n",
       "    <tr>\n",
       "      <th>50%</th>\n",
       "      <td>64.0</td>\n",
       "      <td>1.0</td>\n",
       "      <td>164.0</td>\n",
       "      <td>88.0</td>\n",
       "      <td>96.0</td>\n",
       "      <td>0.0</td>\n",
       "      <td>0.0</td>\n",
       "      <td>1.0</td>\n",
       "      <td>1.0</td>\n",
       "      <td>1.0</td>\n",
       "      <td>...</td>\n",
       "      <td>0.0</td>\n",
       "      <td>0.0</td>\n",
       "      <td>24.0</td>\n",
       "      <td>30.0</td>\n",
       "      <td>26.0</td>\n",
       "      <td>78.0</td>\n",
       "      <td>76.0</td>\n",
       "      <td>75.0</td>\n",
       "      <td>75.0</td>\n",
       "      <td>0.0</td>\n",
       "    </tr>\n",
       "    <tr>\n",
       "      <th>75%</th>\n",
       "      <td>73.0</td>\n",
       "      <td>2.0</td>\n",
       "      <td>170.0</td>\n",
       "      <td>93.0</td>\n",
       "      <td>135.0</td>\n",
       "      <td>2.0</td>\n",
       "      <td>1.0</td>\n",
       "      <td>1.0</td>\n",
       "      <td>1.0</td>\n",
       "      <td>1.0</td>\n",
       "      <td>...</td>\n",
       "      <td>0.0</td>\n",
       "      <td>0.0</td>\n",
       "      <td>64.0</td>\n",
       "      <td>67.0</td>\n",
       "      <td>71.0</td>\n",
       "      <td>90.0</td>\n",
       "      <td>89.0</td>\n",
       "      <td>86.0</td>\n",
       "      <td>85.0</td>\n",
       "      <td>0.0</td>\n",
       "    </tr>\n",
       "    <tr>\n",
       "      <th>max</th>\n",
       "      <td>98.0</td>\n",
       "      <td>2.0</td>\n",
       "      <td>188.0</td>\n",
       "      <td>187.0</td>\n",
       "      <td>480.0</td>\n",
       "      <td>2.0</td>\n",
       "      <td>1.0</td>\n",
       "      <td>1.0</td>\n",
       "      <td>1.0</td>\n",
       "      <td>1.0</td>\n",
       "      <td>...</td>\n",
       "      <td>5.0</td>\n",
       "      <td>5.0</td>\n",
       "      <td>3451.0</td>\n",
       "      <td>3525.0</td>\n",
       "      <td>3678.0</td>\n",
       "      <td>155.0</td>\n",
       "      <td>158.0</td>\n",
       "      <td>154.0</td>\n",
       "      <td>141.0</td>\n",
       "      <td>1.0</td>\n",
       "    </tr>\n",
       "  </tbody>\n",
       "</table>\n",
       "<p>8 rows × 165 columns</p>\n",
       "</div>"
      ],
      "text/plain": [
       "         Age    Sex  Body.height..at.0M  Waist.circumstances.at.0M  \\\n",
       "count  778.0  778.0               778.0                      778.0   \n",
       "mean    64.0    1.0               163.0                       88.0   \n",
       "std     12.0    0.0                10.0                       10.0   \n",
       "min     27.0    1.0               135.0                       38.0   \n",
       "25%     56.0    1.0               155.0                       82.0   \n",
       "50%     64.0    1.0               164.0                       88.0   \n",
       "75%     73.0    2.0               170.0                       93.0   \n",
       "max     98.0    2.0               188.0                      187.0   \n",
       "\n",
       "       Duration.of.T2DM  Smoking.habit  Drinking.habit  \\\n",
       "count             778.0          778.0           778.0   \n",
       "mean              106.0            1.0             0.0   \n",
       "std                78.0            1.0             1.0   \n",
       "min                 1.0            0.0             0.0   \n",
       "25%                48.0            0.0             0.0   \n",
       "50%                96.0            0.0             0.0   \n",
       "75%               135.0            2.0             1.0   \n",
       "max               480.0            2.0             1.0   \n",
       "\n",
       "       History.of.complications  History.of.hypertension  \\\n",
       "count                     778.0                    778.0   \n",
       "mean                        1.0                      1.0   \n",
       "std                         0.0                      0.0   \n",
       "min                         0.0                      0.0   \n",
       "25%                         1.0                      0.0   \n",
       "50%                         1.0                      1.0   \n",
       "75%                         1.0                      1.0   \n",
       "max                         1.0                      1.0   \n",
       "\n",
       "       History.of.dyslipidemia  ...  Urinary.sugar.at.3M  \\\n",
       "count                    778.0  ...                778.0   \n",
       "mean                       1.0  ...                  1.0   \n",
       "std                        0.0  ...                  1.0   \n",
       "min                        0.0  ...                  0.0   \n",
       "25%                        0.0  ...                  0.0   \n",
       "50%                        1.0  ...                  0.0   \n",
       "75%                        1.0  ...                  0.0   \n",
       "max                        1.0  ...                  5.0   \n",
       "\n",
       "       Urinary.sugar.at.12M  Urinary.albumin.creatinine.ratio.at.0M  \\\n",
       "count                 778.0                                   778.0   \n",
       "mean                    1.0                                    85.0   \n",
       "std                     1.0                                   217.0   \n",
       "min                     0.0                                     0.0   \n",
       "25%                     0.0                                    11.0   \n",
       "50%                     0.0                                    24.0   \n",
       "75%                     0.0                                    64.0   \n",
       "max                     5.0                                  3451.0   \n",
       "\n",
       "       Urinary.albumin.creatinine.ratio.at.3M  \\\n",
       "count                                   778.0   \n",
       "mean                                     80.0   \n",
       "std                                     192.0   \n",
       "min                                       0.0   \n",
       "25%                                      13.0   \n",
       "50%                                      30.0   \n",
       "75%                                      67.0   \n",
       "max                                    3525.0   \n",
       "\n",
       "       Urinary.albumin.creatinine.ratio.at.12M  eGFR.at.0M  eGFR.at.1M  \\\n",
       "count                                    778.0       778.0       778.0   \n",
       "mean                                      97.0        79.0        77.0   \n",
       "std                                      274.0        19.0        19.0   \n",
       "min                                        0.0        17.0        16.0   \n",
       "25%                                       11.0        67.0        65.0   \n",
       "50%                                       26.0        78.0        76.0   \n",
       "75%                                       71.0        90.0        89.0   \n",
       "max                                     3678.0       155.0       158.0   \n",
       "\n",
       "       eGFR.at.3M  eGFR.at.12M  Cardiovascular Risk  \n",
       "count       778.0        778.0                778.0  \n",
       "mean         76.0         75.0                  0.0  \n",
       "std          19.0         18.0                  0.0  \n",
       "min          15.0         12.0                  0.0  \n",
       "25%          64.0         64.0                  0.0  \n",
       "50%          75.0         75.0                  0.0  \n",
       "75%          86.0         85.0                  0.0  \n",
       "max         154.0        141.0                  1.0  \n",
       "\n",
       "[8 rows x 165 columns]"
      ]
     },
     "execution_count": 8,
     "metadata": {},
     "output_type": "execute_result"
    }
   ],
   "source": [
    "print(card_df.shape)  #数据量大小\n",
    "round(card_df.describe()) "
   ]
  },
  {
   "cell_type": "code",
   "execution_count": 10,
   "metadata": {
    "id": "7D4754215F8549EF973B3565959C4630",
    "jupyter": {},
    "notebookId": "604ecb395316950016ea65dc",
    "scrolled": false,
    "slideshow": {
     "slide_type": "slide"
    },
    "tags": []
   },
   "outputs": [
    {
     "name": "stdout",
     "output_type": "stream",
     "text": [
      "Age                                        0\n",
      "Sex                                        0\n",
      "Body.height..at.0M                         0\n",
      "Waist.circumstances.at.0M                  0\n",
      "Duration.of.T2DM                           0\n",
      "Smoking.habit                              0\n",
      "Drinking.habit                             0\n",
      "History.of.complications                   0\n",
      "History.of.hypertension                    0\n",
      "History.of.dyslipidemia                    0\n",
      "History.of.hyperuricemia                   0\n",
      "History.of.retinopathy                     0\n",
      "History.of.arteriosclerosis.obliterans     0\n",
      "History.of.atrial.fibrillation             0\n",
      "History.of.kidney.disease                  0\n",
      "History.of.liver.disease                   0\n",
      "History.of.myocardial.infarction           0\n",
      "History.of.cerebral.infarction             0\n",
      "History.of.angina.pectoris                 0\n",
      "History.of.heart.failure                   0\n",
      "Systolic.blood.pressure.at.0M              0\n",
      "Systolic.blood.pressure.at.1M              0\n",
      "Systolic.blood.pressure.at.3M              0\n",
      "Systolic.blood.pressure.at.12M             0\n",
      "Diastolic.blood.pressure.at.0M             0\n",
      "Diastolic.blood.pressure.at.1M             0\n",
      "Diastolic.blood.pressure.at.3M             0\n",
      "Diastolic.blood.pressure.at.12M            0\n",
      "Pulse.rate.at.0M                           0\n",
      "Pulse.rate.at.1M                           0\n",
      "                                          ..\n",
      "Creatinine.at.3M                           0\n",
      "Creatinine.at.12M                          0\n",
      "Na.at.0M                                   0\n",
      "Na.at.1M                                   0\n",
      "Na.at.3M                                   0\n",
      "Na.at.12M                                  0\n",
      "Cl.at.0M                                   0\n",
      "Cl.at.1M                                   0\n",
      "Cl.at.3M                                   0\n",
      "Cl.at.12M                                  0\n",
      "K.at.0M                                    0\n",
      "K.at.1M                                    0\n",
      "K.at.3M                                    0\n",
      "K.at.12M                                   0\n",
      "Urinary.protein.at.0M                      0\n",
      "Urinary.protein.at.1M                      0\n",
      "Urinary.protein.at.3M                      0\n",
      "Urinary.protein.at.12M                     0\n",
      "Urinary.sugar.at.0M                        0\n",
      "Urinary.sugar.at.1M                        0\n",
      "Urinary.sugar.at.3M                        0\n",
      "Urinary.sugar.at.12M                       0\n",
      "Urinary.albumin.creatinine.ratio.at.0M     0\n",
      "Urinary.albumin.creatinine.ratio.at.3M     0\n",
      "Urinary.albumin.creatinine.ratio.at.12M    0\n",
      "eGFR.at.0M                                 0\n",
      "eGFR.at.1M                                 0\n",
      "eGFR.at.3M                                 0\n",
      "eGFR.at.12M                                0\n",
      "Cardiovascular Risk                        0\n",
      "Length: 165, dtype: int64\n"
     ]
    }
   ],
   "source": [
    "# 查看是否有缺失值\n",
    "print(card_df.isnull().sum()) #判断每列缺失值的数量"
   ]
  },
  {
   "cell_type": "code",
   "execution_count": 13,
   "metadata": {
    "id": "F1B40D9082EC41F3857EAA2A68648E3F",
    "jupyter": {},
    "notebookId": "604ecb395316950016ea65dc",
    "scrolled": false,
    "slideshow": {
     "slide_type": "slide"
    },
    "tags": []
   },
   "outputs": [
    {
     "name": "stdout",
     "output_type": "stream",
     "text": [
      "0    703\n",
      "1     75\n",
      "Name: Cardiovascular Risk, dtype: int64\n"
     ]
    },
    {
     "data": {
      "text/html": [
       "<img src=\"https://cdn.kesci.com/rt_upload/F1B40D9082EC41F3857EAA2A68648E3F/qpzq7gcmb.png\">"
      ],
      "text/plain": [
       "<Figure size 432x288 with 1 Axes>"
      ]
     },
     "metadata": {},
     "output_type": "display_data"
    }
   ],
   "source": [
    "# 查看数据类别是否平衡\n",
    "fig, ax = plt.subplots()\n",
    "sns.set()\n",
    "ax = sns.distplot(card_df['Cardiovascular Risk'],kde=False)\n",
    "\n",
    "print(card_df['Cardiovascular Risk'].value_counts())"
   ]
  },
  {
   "cell_type": "markdown",
   "metadata": {
    "id": "879F1BDF2452496B88D67B57BDD68FAA",
    "jupyter": {},
    "mdEditEnable": false,
    "notebookId": "604ecb395316950016ea65dc",
    "slideshow": {
     "slide_type": "slide"
    },
    "tags": []
   },
   "source": [
    "**分析结果**：由上面的基本分析，该数据包含778个样本，165列，其中最后一列Cardiovascular Risk为label。由label的值可知该问题**是个二分类问题**。\n",
    "数据集中不存在缺失值。但是数据**存在极大的类别不平衡**，标签为0的有703个样本，而标签为1的只有75个。"
   ]
  },
  {
   "cell_type": "markdown",
   "metadata": {
    "id": "C63FEE7C8CC341718DB0BF06F172360F",
    "jupyter": {},
    "mdEditEnable": false,
    "notebookId": "604ecb395316950016ea65dc",
    "slideshow": {
     "slide_type": "slide"
    },
    "tags": []
   },
   "source": [
    "### Step 2：数据预处理\n",
    "\n",
    "1. 训练，测试和标签数据划分；\n",
    "1. 数据归一化：由于不同特征之间的取值范围不一样，进行归一化可加速模型收敛；参考：https://www.jianshu.com/p/95a8f035c86c\n",
    "1. 类别不平衡处理：由于该数据集中正样本数量较少，而在实际临床中，**正样本（发送心血管疾病）的预测远远比一个负样本的预测重要**。因此可采用加权处理，过采样或降采样的方法。参考：https://mp.weixin.qq.com/s/pOJof9aGp8iRlJuKH_Iz-A?"
   ]
  },
  {
   "cell_type": "code",
   "execution_count": 6,
   "metadata": {
    "id": "FDB6F0DA34154EE48863B146CCDC3385",
    "jupyter": {},
    "notebookId": "604ecb395316950016ea65dc",
    "scrolled": false,
    "slideshow": {
     "slide_type": "slide"
    },
    "tags": []
   },
   "outputs": [
    {
     "data": {
      "text/plain": [
       "0    1\n",
       "1    0\n",
       "2    0\n",
       "3    1\n",
       "4    0\n",
       "Name: Cardiovascular Risk, dtype: int64"
      ]
     },
     "execution_count": 6,
     "metadata": {},
     "output_type": "execute_result"
    }
   ],
   "source": [
    "#把标签列删除\n",
    "card_X = card_df.drop(columns='Cardiovascular Risk')\n",
    "#把标签列取出\n",
    "card_Y = card_df['Cardiovascular Risk']\n",
    "card_Y.head()"
   ]
  },
  {
   "cell_type": "code",
   "execution_count": 7,
   "metadata": {
    "id": "40EE35238AC44E4C84731A55067BCD8D",
    "jupyter": {},
    "notebookId": "604ecb395316950016ea65dc",
    "scrolled": false,
    "slideshow": {
     "slide_type": "slide"
    },
    "tags": []
   },
   "outputs": [
    {
     "name": "stdout",
     "output_type": "stream",
     "text": [
      "[[0.47887324 0.         0.65779468 ... 0.25692934 0.25408388 0.38730928]\n",
      " [0.21126761 0.         0.92395437 ... 0.56298794 0.58138568 0.60206425]\n",
      " [0.52112676 0.         0.63878327 ... 0.47580686 0.47056601 0.5253064 ]\n",
      " ...\n",
      " [0.71830986 1.         0.19201521 ... 0.50364594 0.49439476 0.57402128]\n",
      " [0.22535211 0.         0.7338403  ... 0.55142926 0.53073369 0.63003969]\n",
      " [0.64788732 0.         0.58174905 ... 0.37515457 0.39613001 0.46211443]]\n"
     ]
    }
   ],
   "source": [
    "from sklearn import preprocessing\n",
    "\n",
    "min_max_scaler = preprocessing.MinMaxScaler() \n",
    "card_X = min_max_scaler.fit_transform(card_X)\n",
    "print(card_X)"
   ]
  },
  {
   "cell_type": "code",
   "execution_count": 11,
   "metadata": {
    "id": "A38F63ED4F334C7D81725B68602B1833",
    "jupyter": {},
    "notebookId": "604ecb395316950016ea65dc",
    "scrolled": false,
    "slideshow": {
     "slide_type": "slide"
    },
    "tags": []
   },
   "outputs": [
    {
     "name": "stdout",
     "output_type": "stream",
     "text": [
      "(544, 164) (544,)\n",
      "(234, 164) (234,)\n"
     ]
    }
   ],
   "source": [
    "from sklearn.model_selection import train_test_split\n",
    "\n",
    "#进行数据集划分，70%作为训练， 30作为测试\n",
    "cx_train,cx_test,cy_train,cy_test = train_test_split(card_X, card_Y, test_size=0.3)\n",
    "\n",
    "print(cx_train.shape,cy_train.shape)\n",
    "print(cx_test.shape,cy_test.shape)"
   ]
  },
  {
   "cell_type": "markdown",
   "metadata": {
    "id": "4EB518890B644D9EA1038EA4433282F7",
    "jupyter": {},
    "mdEditEnable": false,
    "notebookId": "604ecb395316950016ea65dc",
    "slideshow": {
     "slide_type": "slide"
    },
    "tags": []
   },
   "source": [
    "### Step 3:  模型构建：模型选择，训练\n",
    "作为机器学习或统计学习模型，构建过程最基本的要考虑训练集与验证集，建模过程要通过交叉检验来完成，这里我们使用sklearn 包提供的机器学习框架。\n",
    "\n",
    "对于类别不平衡，我们采用在模型训练过程中，通过设置损失函数的权重进行加权处理，并对比处理后和不处理的效果。"
   ]
  },
  {
   "cell_type": "code",
   "execution_count": 15,
   "metadata": {
    "id": "0202FA9EB79B4316A3A49447E0E34ED1",
    "jupyter": {},
    "notebookId": "604ecb395316950016ea65dc",
    "scrolled": false,
    "slideshow": {
     "slide_type": "slide"
    },
    "tags": []
   },
   "outputs": [
    {
     "name": "stderr",
     "output_type": "stream",
     "text": [
      "/opt/conda/lib/python3.6/site-packages/sklearn/ensemble/forest.py:245: FutureWarning: The default value of n_estimators will change from 10 in version 0.20 to 100 in 0.22.\n",
      "  \"10 in version 0.20 to 100 in 0.22.\", FutureWarning)\n",
      "/opt/conda/lib/python3.6/site-packages/sklearn/ensemble/forest.py:245: FutureWarning: The default value of n_estimators will change from 10 in version 0.20 to 100 in 0.22.\n",
      "  \"10 in version 0.20 to 100 in 0.22.\", FutureWarning)\n",
      "/opt/conda/lib/python3.6/site-packages/sklearn/ensemble/forest.py:245: FutureWarning: The default value of n_estimators will change from 10 in version 0.20 to 100 in 0.22.\n",
      "  \"10 in version 0.20 to 100 in 0.22.\", FutureWarning)\n",
      "/opt/conda/lib/python3.6/site-packages/sklearn/ensemble/forest.py:245: FutureWarning: The default value of n_estimators will change from 10 in version 0.20 to 100 in 0.22.\n",
      "  \"10 in version 0.20 to 100 in 0.22.\", FutureWarning)\n",
      "/opt/conda/lib/python3.6/site-packages/sklearn/ensemble/forest.py:245: FutureWarning: The default value of n_estimators will change from 10 in version 0.20 to 100 in 0.22.\n",
      "  \"10 in version 0.20 to 100 in 0.22.\", FutureWarning)\n",
      "/opt/conda/lib/python3.6/site-packages/sklearn/ensemble/forest.py:245: FutureWarning: The default value of n_estimators will change from 10 in version 0.20 to 100 in 0.22.\n",
      "  \"10 in version 0.20 to 100 in 0.22.\", FutureWarning)\n",
      "/opt/conda/lib/python3.6/site-packages/sklearn/ensemble/forest.py:245: FutureWarning: The default value of n_estimators will change from 10 in version 0.20 to 100 in 0.22.\n",
      "  \"10 in version 0.20 to 100 in 0.22.\", FutureWarning)\n",
      "/opt/conda/lib/python3.6/site-packages/sklearn/ensemble/forest.py:245: FutureWarning: The default value of n_estimators will change from 10 in version 0.20 to 100 in 0.22.\n",
      "  \"10 in version 0.20 to 100 in 0.22.\", FutureWarning)\n",
      "/opt/conda/lib/python3.6/site-packages/sklearn/ensemble/forest.py:245: FutureWarning: The default value of n_estimators will change from 10 in version 0.20 to 100 in 0.22.\n",
      "  \"10 in version 0.20 to 100 in 0.22.\", FutureWarning)\n",
      "/opt/conda/lib/python3.6/site-packages/sklearn/ensemble/forest.py:245: FutureWarning: The default value of n_estimators will change from 10 in version 0.20 to 100 in 0.22.\n",
      "  \"10 in version 0.20 to 100 in 0.22.\", FutureWarning)\n",
      "/opt/conda/lib/python3.6/site-packages/sklearn/svm/base.py:193: FutureWarning: The default value of gamma will change from 'auto' to 'scale' in version 0.22 to account better for unscaled features. Set gamma explicitly to 'auto' or 'scale' to avoid this warning.\n",
      "  \"avoid this warning.\", FutureWarning)\n",
      "/opt/conda/lib/python3.6/site-packages/sklearn/svm/base.py:193: FutureWarning: The default value of gamma will change from 'auto' to 'scale' in version 0.22 to account better for unscaled features. Set gamma explicitly to 'auto' or 'scale' to avoid this warning.\n",
      "  \"avoid this warning.\", FutureWarning)\n"
     ]
    },
    {
     "name": "stdout",
     "output_type": "stream",
     "text": [
      "随机森林 Accuracy： 0.9009990009990009\n"
     ]
    },
    {
     "name": "stderr",
     "output_type": "stream",
     "text": [
      "/opt/conda/lib/python3.6/site-packages/sklearn/svm/base.py:193: FutureWarning: The default value of gamma will change from 'auto' to 'scale' in version 0.22 to account better for unscaled features. Set gamma explicitly to 'auto' or 'scale' to avoid this warning.\n",
      "  \"avoid this warning.\", FutureWarning)\n",
      "/opt/conda/lib/python3.6/site-packages/sklearn/svm/base.py:193: FutureWarning: The default value of gamma will change from 'auto' to 'scale' in version 0.22 to account better for unscaled features. Set gamma explicitly to 'auto' or 'scale' to avoid this warning.\n",
      "  \"avoid this warning.\", FutureWarning)\n",
      "/opt/conda/lib/python3.6/site-packages/sklearn/svm/base.py:193: FutureWarning: The default value of gamma will change from 'auto' to 'scale' in version 0.22 to account better for unscaled features. Set gamma explicitly to 'auto' or 'scale' to avoid this warning.\n",
      "  \"avoid this warning.\", FutureWarning)\n",
      "/opt/conda/lib/python3.6/site-packages/sklearn/svm/base.py:193: FutureWarning: The default value of gamma will change from 'auto' to 'scale' in version 0.22 to account better for unscaled features. Set gamma explicitly to 'auto' or 'scale' to avoid this warning.\n",
      "  \"avoid this warning.\", FutureWarning)\n",
      "/opt/conda/lib/python3.6/site-packages/sklearn/svm/base.py:193: FutureWarning: The default value of gamma will change from 'auto' to 'scale' in version 0.22 to account better for unscaled features. Set gamma explicitly to 'auto' or 'scale' to avoid this warning.\n",
      "  \"avoid this warning.\", FutureWarning)\n",
      "/opt/conda/lib/python3.6/site-packages/sklearn/svm/base.py:193: FutureWarning: The default value of gamma will change from 'auto' to 'scale' in version 0.22 to account better for unscaled features. Set gamma explicitly to 'auto' or 'scale' to avoid this warning.\n",
      "  \"avoid this warning.\", FutureWarning)\n",
      "/opt/conda/lib/python3.6/site-packages/sklearn/svm/base.py:193: FutureWarning: The default value of gamma will change from 'auto' to 'scale' in version 0.22 to account better for unscaled features. Set gamma explicitly to 'auto' or 'scale' to avoid this warning.\n",
      "  \"avoid this warning.\", FutureWarning)\n",
      "/opt/conda/lib/python3.6/site-packages/sklearn/svm/base.py:193: FutureWarning: The default value of gamma will change from 'auto' to 'scale' in version 0.22 to account better for unscaled features. Set gamma explicitly to 'auto' or 'scale' to avoid this warning.\n",
      "  \"avoid this warning.\", FutureWarning)\n"
     ]
    },
    {
     "name": "stdout",
     "output_type": "stream",
     "text": [
      "SVM Accuracy： 0.9035797535797536\n",
      "xgboost Accuracy： 0.9126040626040627\n"
     ]
    }
   ],
   "source": [
    "import xgboost as xgboost\n",
    "from sklearn.ensemble import RandomForestClassifier\n",
    "import sklearn.svm as svm\n",
    "from sklearn.model_selection import KFold, cross_val_score\n",
    "\n",
    "#10折交叉验证\n",
    "kfold = KFold(n_splits=10, random_state=6) #10折交叉验证\n",
    "\n",
    "#随机森林\n",
    "forest = RandomForestClassifier()\n",
    "rt = cross_val_score(forest, card_X, card_Y, cv=kfold)\n",
    "print('随机森林 Accuracy：',rt.mean())\n",
    "\n",
    "#SVM\n",
    "sv_k = svm.SVC()\n",
    "sv = cross_val_score(sv_k, card_X, card_Y, cv=kfold)\n",
    "print('SVM Accuracy：',sv.mean())\n",
    "\n",
    "#xgboost\n",
    "xgboost = xgboost.XGBClassifier()\n",
    "xgb = cross_val_score(xgboost, card_X, card_Y, cv=kfold)\n",
    "print('xgboost Accuracy：',xgb.mean())"
   ]
  },
  {
   "cell_type": "markdown",
   "metadata": {
    "id": "61543D098ADF475FB0216011027479EB",
    "jupyter": {},
    "mdEditEnable": false,
    "notebookId": "604ecb395316950016ea65dc",
    "slideshow": {
     "slide_type": "slide"
    },
    "tags": []
   },
   "source": [
    "经过10折交叉验证，发现xgboost 模型（0.913）性能比随机森林（0.901）和SVM（0.903）略好，因此我们选择xgboost进行训练，测试"
   ]
  },
  {
   "cell_type": "code",
   "execution_count": 97,
   "metadata": {
    "id": "65E5BEAD0A46477083A5ACFA4E02CD01",
    "jupyter": {},
    "notebookId": "604ecb395316950016ea65dc",
    "scrolled": false,
    "slideshow": {
     "slide_type": "slide"
    },
    "tags": []
   },
   "outputs": [
    {
     "data": {
      "text/plain": [
       "XGBClassifier(base_score=0.5, booster='gbtree', colsample_bylevel=1,\n",
       "              colsample_bytree=1, gamma=0.2, learning_rate=0.01,\n",
       "              max_delta_step=0, max_depth=10, min_child_weight=1, missing=None,\n",
       "              n_estimators=100, n_jobs=1, nthread=None,\n",
       "              objective='binary:logistic', random_state=0, reg_alpha=0,\n",
       "              reg_lambda=1, scale_pos_weight=1, seed=None, silent=True,\n",
       "              subsample=1)"
      ]
     },
     "execution_count": 97,
     "metadata": {},
     "output_type": "execute_result"
    }
   ],
   "source": [
    "import xgboost as xgb\n",
    "# xgboot： https://www.cnblogs.com/pinard/p/11114748.html \n",
    "#训练模型: 未处理类别不平衡问题\n",
    "xgboost = xgb.XGBClassifier(learning_rate=0.01, max_depth=10, gamma=0.2) \n",
    "xgboost.fit(cx_train, cy_train)"
   ]
  },
  {
   "cell_type": "code",
   "execution_count": 98,
   "metadata": {
    "id": "5CF2DBD498654D7D9F6669DE6F86D6D8",
    "jupyter": {},
    "notebookId": "604ecb395316950016ea65dc",
    "scrolled": false,
    "slideshow": {
     "slide_type": "slide"
    },
    "tags": []
   },
   "outputs": [
    {
     "name": "stdout",
     "output_type": "stream",
     "text": [
      "Acc:  0.9273504273504274\n",
      "[[212  17]\n",
      " [  0   5]]\n"
     ]
    }
   ],
   "source": [
    "from sklearn.metrics import accuracy_score,precision_score,recall_score,confusion_matrix\n",
    "from sklearn.metrics import roc_auc_score\n",
    "#测试模型\n",
    "cy_pred = xgboost.predict(cx_test)\n",
    "\n",
    "print(\"Acc: \" ,accuracy_score(cy_pred, cy_test))\n",
    "\n",
    "print(confusion_matrix(cy_pred, cy_test))"
   ]
  },
  {
   "cell_type": "code",
   "execution_count": 99,
   "metadata": {
    "id": "CE04DE6AC4B249268D3DBC5C6BB260FF",
    "jupyter": {},
    "notebookId": "604ecb395316950016ea65dc",
    "scrolled": false,
    "slideshow": {
     "slide_type": "slide"
    },
    "tags": []
   },
   "outputs": [
    {
     "data": {
      "text/plain": [
       "XGBClassifier(base_score=0.5, booster='gbtree', colsample_bylevel=1,\n",
       "              colsample_bytree=1, gamma=0.2, learning_rate=0.1,\n",
       "              max_delta_step=0, max_depth=10, min_child_weight=1, missing=None,\n",
       "              n_estimators=100, n_jobs=1, nthread=None,\n",
       "              objective='binary:logistic', random_state=0, reg_alpha=0,\n",
       "              reg_lambda=1, scale_pos_weight=9.264150943396226, seed=None,\n",
       "              silent=True, subsample=1)"
      ]
     },
     "execution_count": 99,
     "metadata": {},
     "output_type": "execute_result"
    }
   ],
   "source": [
    "# 类别平衡：https://www.cnblogs.com/qi-yuan-008/p/11992156.html\n",
    "# 使用scale_pos_weight方法对lable不平衡问题进行处理 https://machinelearningmastery.com/xgboost-for-imbalanced-classification/ \n",
    "from sklearn.utils.class_weight import compute_sample_weight\n",
    "from collections import Counter\n",
    "cnt = Counter(cy_train)\n",
    "xgboost2 = xgb.XGBClassifier(max_depth=10, gamma=0.2, scale_pos_weight=cnt[0]/cnt[1])  #设置类别平衡\n",
    "xgboost2.fit(cx_train, cy_train)"
   ]
  },
  {
   "cell_type": "code",
   "execution_count": 100,
   "metadata": {
    "id": "28A9391A485149CF85FC8F37DE20126C",
    "jupyter": {},
    "notebookId": "604ecb395316950016ea65dc",
    "scrolled": false,
    "slideshow": {
     "slide_type": "slide"
    },
    "tags": []
   },
   "outputs": [
    {
     "name": "stdout",
     "output_type": "stream",
     "text": [
      "Acc:  0.8974358974358975\n",
      "[[204  16]\n",
      " [  8   6]]\n"
     ]
    }
   ],
   "source": [
    "#测试模型\n",
    "#测试模型\n",
    "cy_pred2 = xgboost2.predict(cx_test)\n",
    "\n",
    "print(\"Acc: \" ,accuracy_score(cy_pred2, cy_test))\n",
    "\n",
    "print(confusion_matrix(cy_pred2, cy_test))"
   ]
  },
  {
   "cell_type": "markdown",
   "metadata": {
    "id": "05887E693EB1430CBAEFA8481C8EC5AC",
    "jupyter": {},
    "mdEditEnable": false,
    "notebookId": "604ecb395316950016ea65dc",
    "slideshow": {
     "slide_type": "slide"
    },
    "tags": []
   },
   "source": [
    "**ROC曲线绘制**"
   ]
  },
  {
   "cell_type": "code",
   "execution_count": 101,
   "metadata": {
    "id": "B60B46DAFCFB42048F2A19B750D7D543",
    "jupyter": {},
    "notebookId": "604ecb395316950016ea65dc",
    "scrolled": false,
    "slideshow": {
     "slide_type": "slide"
    },
    "tags": []
   },
   "outputs": [
    {
     "data": {
      "text/plain": [
       "<matplotlib.legend.Legend at 0x7f8d32a155f8>"
      ]
     },
     "execution_count": 101,
     "metadata": {},
     "output_type": "execute_result"
    },
    {
     "data": {
      "text/html": [
       "<img src=\"https://cdn.kesci.com/rt_upload/B60B46DAFCFB42048F2A19B750D7D543/qq05a2gus7.png\">"
      ],
      "text/plain": [
       "<Figure size 432x288 with 1 Axes>"
      ]
     },
     "metadata": {
      "needs_background": "light"
     },
     "output_type": "display_data"
    }
   ],
   "source": [
    "from sklearn.metrics import roc_curve\n",
    "cy_pred_p = xgboost.predict_proba(cx_test)\n",
    "cy_pred_p2 = xgboost2.predict_proba(cx_test)\n",
    "fpr, tpr, thresholds = roc_curve(cy_test, cy_pred_p[:,1], pos_label=1)\n",
    "fpr2, tpr2, thresholds2 = roc_curve(cy_test,cy_pred_p2[:,1], pos_label=1)\n",
    "\n",
    "AUC_ROC = roc_auc_score(cy_test, cy_pred_p[:,1])\n",
    "AUC_ROC2 = roc_auc_score(cy_test, cy_pred_p2[:,1])\n",
    "\n",
    "roc_curve =plt.figure()\n",
    "plt.plot(fpr,tpr,'-',label='xgboost (AUC = %0.4f)' % AUC_ROC)\n",
    "plt.plot(fpr2,tpr2,'-',label='xgboost2 (AUC = %0.4f)' % AUC_ROC2)\n",
    "plt.title('ROC curve')\n",
    "plt.xlabel(\"FPR (False Positive Rate)\")\n",
    "plt.ylabel(\"TPR (True Positive Rate)\")\n",
    "plt.legend(loc=\"lower right\")"
   ]
  },
  {
   "cell_type": "markdown",
   "metadata": {
    "id": "7A9FDFEB1075417783F7407EDFE51D6E",
    "jupyter": {},
    "mdEditEnable": false,
    "notebookId": "604ecb395316950016ea65dc",
    "slideshow": {
     "slide_type": "slide"
    },
    "tags": []
   },
   "source": [
    "### Step 4：总结分析\n",
    "\n",
    "从上面可知，对于心血管数据集，使用Xgboost模型进行分类，可以达到比较好的分类准确率。\n",
    "同时，我们对数据类别不平衡进行了研究处理，通过设置xgboost的scale_pos_weight参数进行加权后，虽然模型的准确率有所下降，但是对于二分类问题，以及这种不平衡的数据，通过比较正样本的AUC值具有比较大的意义，从上面的实验可得，**对样本类别进行加权处理后，模型在测试集的AUC值略有提升**。\n",
    "\n",
    "不过，对于实际临床来数，以上两个模型在心血管疾病正样本的预测精确率上还有很大的提升空间。可继续深入研究"
   ]
  },
  {
   "cell_type": "markdown",
   "metadata": {
    "id": "886ADB1FAF554504AF14A06B2E26084A",
    "jupyter": {},
    "mdEditEnable": false,
    "notebookId": "604ecb395316950016ea65dc",
    "slideshow": {
     "slide_type": "slide"
    },
    "tags": []
   },
   "source": [
    "## 二、肾病风险预测\n",
    "\n",
    "### Step 1：数据分析"
   ]
  },
  {
   "cell_type": "code",
   "execution_count": 3,
   "metadata": {
    "id": "BEFB336993E9420F85827AF3C9E28ACB",
    "jupyter": {},
    "notebookId": "604ecb395316950016ea65dc",
    "scrolled": false,
    "slideshow": {
     "slide_type": "slide"
    },
    "tags": []
   },
   "outputs": [
    {
     "data": {
      "text/html": [
       "<div>\n",
       "<style scoped>\n",
       "    .dataframe tbody tr th:only-of-type {\n",
       "        vertical-align: middle;\n",
       "    }\n",
       "\n",
       "    .dataframe tbody tr th {\n",
       "        vertical-align: top;\n",
       "    }\n",
       "\n",
       "    .dataframe thead th {\n",
       "        text-align: right;\n",
       "    }\n",
       "</style>\n",
       "<table border=\"1\" class=\"dataframe\">\n",
       "  <thead>\n",
       "    <tr style=\"text-align: right;\">\n",
       "      <th></th>\n",
       "      <th>Age</th>\n",
       "      <th>Sex</th>\n",
       "      <th>Body height  at 0M</th>\n",
       "      <th>Waist circumstances at 0M</th>\n",
       "      <th>Duration of T2DM</th>\n",
       "      <th>Smoking habit</th>\n",
       "      <th>Drinking habit</th>\n",
       "      <th>History of complications</th>\n",
       "      <th>History of hypertension</th>\n",
       "      <th>History of dyslipidemia</th>\n",
       "      <th>...</th>\n",
       "      <th>Urinary sugar at 3M</th>\n",
       "      <th>Urinary sugar at 12M</th>\n",
       "      <th>Urinary albumin/creatinine ratio at 0M</th>\n",
       "      <th>Urinary albumin/creatinine ratio at 3M</th>\n",
       "      <th>Urinary albumin/creatinine ratio at 12M</th>\n",
       "      <th>eGFR at 0M</th>\n",
       "      <th>eGFR at 1M</th>\n",
       "      <th>eGFR at 3M</th>\n",
       "      <th>eGFR at 12M</th>\n",
       "      <th>Risk of Nephropathy</th>\n",
       "    </tr>\n",
       "  </thead>\n",
       "  <tbody>\n",
       "    <tr>\n",
       "      <th>0</th>\n",
       "      <td>61.0</td>\n",
       "      <td>1.0</td>\n",
       "      <td>170.0</td>\n",
       "      <td>101.0</td>\n",
       "      <td>72.0</td>\n",
       "      <td>0.0</td>\n",
       "      <td>0.0</td>\n",
       "      <td>1.0</td>\n",
       "      <td>1.0</td>\n",
       "      <td>1.0</td>\n",
       "      <td>...</td>\n",
       "      <td>NaN</td>\n",
       "      <td>0.0</td>\n",
       "      <td>53.3</td>\n",
       "      <td>NaN</td>\n",
       "      <td>6.4</td>\n",
       "      <td>55.940643</td>\n",
       "      <td>52.670513</td>\n",
       "      <td>50.686818</td>\n",
       "      <td>61.643003</td>\n",
       "      <td>0.0</td>\n",
       "    </tr>\n",
       "    <tr>\n",
       "      <th>1</th>\n",
       "      <td>42.0</td>\n",
       "      <td>1.0</td>\n",
       "      <td>184.0</td>\n",
       "      <td>NaN</td>\n",
       "      <td>36.0</td>\n",
       "      <td>2.0</td>\n",
       "      <td>0.0</td>\n",
       "      <td>1.0</td>\n",
       "      <td>0.0</td>\n",
       "      <td>1.0</td>\n",
       "      <td>...</td>\n",
       "      <td>4.0</td>\n",
       "      <td>NaN</td>\n",
       "      <td>NaN</td>\n",
       "      <td>NaN</td>\n",
       "      <td>NaN</td>\n",
       "      <td>NaN</td>\n",
       "      <td>NaN</td>\n",
       "      <td>NaN</td>\n",
       "      <td>NaN</td>\n",
       "      <td>0.0</td>\n",
       "    </tr>\n",
       "    <tr>\n",
       "      <th>2</th>\n",
       "      <td>64.0</td>\n",
       "      <td>1.0</td>\n",
       "      <td>169.0</td>\n",
       "      <td>NaN</td>\n",
       "      <td>168.0</td>\n",
       "      <td>2.0</td>\n",
       "      <td>0.0</td>\n",
       "      <td>1.0</td>\n",
       "      <td>0.0</td>\n",
       "      <td>1.0</td>\n",
       "      <td>...</td>\n",
       "      <td>4.0</td>\n",
       "      <td>NaN</td>\n",
       "      <td>NaN</td>\n",
       "      <td>NaN</td>\n",
       "      <td>NaN</td>\n",
       "      <td>NaN</td>\n",
       "      <td>NaN</td>\n",
       "      <td>NaN</td>\n",
       "      <td>NaN</td>\n",
       "      <td>0.0</td>\n",
       "    </tr>\n",
       "    <tr>\n",
       "      <th>3</th>\n",
       "      <td>57.0</td>\n",
       "      <td>1.0</td>\n",
       "      <td>168.5</td>\n",
       "      <td>NaN</td>\n",
       "      <td>144.0</td>\n",
       "      <td>2.0</td>\n",
       "      <td>1.0</td>\n",
       "      <td>1.0</td>\n",
       "      <td>1.0</td>\n",
       "      <td>1.0</td>\n",
       "      <td>...</td>\n",
       "      <td>0.0</td>\n",
       "      <td>0.0</td>\n",
       "      <td>NaN</td>\n",
       "      <td>NaN</td>\n",
       "      <td>NaN</td>\n",
       "      <td>NaN</td>\n",
       "      <td>NaN</td>\n",
       "      <td>NaN</td>\n",
       "      <td>NaN</td>\n",
       "      <td>0.0</td>\n",
       "    </tr>\n",
       "    <tr>\n",
       "      <th>4</th>\n",
       "      <td>63.0</td>\n",
       "      <td>2.0</td>\n",
       "      <td>151.0</td>\n",
       "      <td>88.5</td>\n",
       "      <td>72.0</td>\n",
       "      <td>1.0</td>\n",
       "      <td>0.0</td>\n",
       "      <td>1.0</td>\n",
       "      <td>1.0</td>\n",
       "      <td>1.0</td>\n",
       "      <td>...</td>\n",
       "      <td>0.0</td>\n",
       "      <td>0.0</td>\n",
       "      <td>30.0</td>\n",
       "      <td>27.1</td>\n",
       "      <td>56.6</td>\n",
       "      <td>77.754106</td>\n",
       "      <td>87.433453</td>\n",
       "      <td>89.274571</td>\n",
       "      <td>83.961202</td>\n",
       "      <td>1.0</td>\n",
       "    </tr>\n",
       "  </tbody>\n",
       "</table>\n",
       "<p>5 rows × 165 columns</p>\n",
       "</div>"
      ],
      "text/plain": [
       "    Age  Sex  Body height  at 0M   Waist circumstances at 0M   \\\n",
       "0  61.0  1.0                170.0                       101.0   \n",
       "1  42.0  1.0                184.0                         NaN   \n",
       "2  64.0  1.0                169.0                         NaN   \n",
       "3  57.0  1.0                168.5                         NaN   \n",
       "4  63.0  2.0                151.0                        88.5   \n",
       "\n",
       "   Duration of T2DM  Smoking habit  Drinking habit  History of complications  \\\n",
       "0              72.0            0.0             0.0                       1.0   \n",
       "1              36.0            2.0             0.0                       1.0   \n",
       "2             168.0            2.0             0.0                       1.0   \n",
       "3             144.0            2.0             1.0                       1.0   \n",
       "4              72.0            1.0             0.0                       1.0   \n",
       "\n",
       "   History of hypertension  History of dyslipidemia  ...  Urinary sugar at 3M  \\\n",
       "0                      1.0                      1.0  ...                  NaN   \n",
       "1                      0.0                      1.0  ...                  4.0   \n",
       "2                      0.0                      1.0  ...                  4.0   \n",
       "3                      1.0                      1.0  ...                  0.0   \n",
       "4                      1.0                      1.0  ...                  0.0   \n",
       "\n",
       "   Urinary sugar at 12M  Urinary albumin/creatinine ratio at 0M   \\\n",
       "0                   0.0                                     53.3   \n",
       "1                   NaN                                      NaN   \n",
       "2                   NaN                                      NaN   \n",
       "3                   0.0                                      NaN   \n",
       "4                   0.0                                     30.0   \n",
       "\n",
       "   Urinary albumin/creatinine ratio at 3M   \\\n",
       "0                                      NaN   \n",
       "1                                      NaN   \n",
       "2                                      NaN   \n",
       "3                                      NaN   \n",
       "4                                     27.1   \n",
       "\n",
       "   Urinary albumin/creatinine ratio at 12M   eGFR at 0M  eGFR at 1M  \\\n",
       "0                                       6.4   55.940643   52.670513   \n",
       "1                                       NaN         NaN         NaN   \n",
       "2                                       NaN         NaN         NaN   \n",
       "3                                       NaN         NaN         NaN   \n",
       "4                                      56.6   77.754106   87.433453   \n",
       "\n",
       "   eGFR at 3M  eGFR at 12M  Risk of Nephropathy  \n",
       "0   50.686818    61.643003                  0.0  \n",
       "1         NaN          NaN                  0.0  \n",
       "2         NaN          NaN                  0.0  \n",
       "3         NaN          NaN                  0.0  \n",
       "4   89.274571    83.961202                  1.0  \n",
       "\n",
       "[5 rows x 165 columns]"
      ]
     },
     "execution_count": 3,
     "metadata": {},
     "output_type": "execute_result"
    }
   ],
   "source": [
    "# 加载数据\n",
    "neph_df = pd.read_csv('/home/kesci/input/diabetes8566/hw_Nephropathy.csv',encoding='utf-8')\n",
    "neph_df.head()"
   ]
  },
  {
   "cell_type": "code",
   "execution_count": 4,
   "metadata": {
    "id": "F4F82AEAD9654F2A8830B2BEDA87508A",
    "jupyter": {},
    "notebookId": "604ecb395316950016ea65dc",
    "scrolled": true,
    "slideshow": {
     "slide_type": "slide"
    },
    "tags": []
   },
   "outputs": [
    {
     "name": "stdout",
     "output_type": "stream",
     "text": [
      "<class 'pandas.core.frame.DataFrame'>\n",
      "RangeIndex: 779 entries, 0 to 778\n",
      "Columns: 165 entries, Age to Risk of Nephropathy\n",
      "dtypes: float64(151), object(14)\n",
      "memory usage: 1004.3+ KB\n",
      "None\n"
     ]
    },
    {
     "data": {
      "text/html": [
       "<div>\n",
       "<style scoped>\n",
       "    .dataframe tbody tr th:only-of-type {\n",
       "        vertical-align: middle;\n",
       "    }\n",
       "\n",
       "    .dataframe tbody tr th {\n",
       "        vertical-align: top;\n",
       "    }\n",
       "\n",
       "    .dataframe thead th {\n",
       "        text-align: right;\n",
       "    }\n",
       "</style>\n",
       "<table border=\"1\" class=\"dataframe\">\n",
       "  <thead>\n",
       "    <tr style=\"text-align: right;\">\n",
       "      <th></th>\n",
       "      <th>Age</th>\n",
       "      <th>Sex</th>\n",
       "      <th>Body height  at 0M</th>\n",
       "      <th>Waist circumstances at 0M</th>\n",
       "      <th>Duration of T2DM</th>\n",
       "      <th>Smoking habit</th>\n",
       "      <th>Drinking habit</th>\n",
       "      <th>History of complications</th>\n",
       "      <th>History of hypertension</th>\n",
       "      <th>History of dyslipidemia</th>\n",
       "      <th>...</th>\n",
       "      <th>Urinary sugar at 3M</th>\n",
       "      <th>Urinary sugar at 12M</th>\n",
       "      <th>Urinary albumin/creatinine ratio at 0M</th>\n",
       "      <th>Urinary albumin/creatinine ratio at 3M</th>\n",
       "      <th>Urinary albumin/creatinine ratio at 12M</th>\n",
       "      <th>eGFR at 0M</th>\n",
       "      <th>eGFR at 1M</th>\n",
       "      <th>eGFR at 3M</th>\n",
       "      <th>eGFR at 12M</th>\n",
       "      <th>Risk of Nephropathy</th>\n",
       "    </tr>\n",
       "  </thead>\n",
       "  <tbody>\n",
       "    <tr>\n",
       "      <th>count</th>\n",
       "      <td>778.0</td>\n",
       "      <td>778.0</td>\n",
       "      <td>765.0</td>\n",
       "      <td>467.0</td>\n",
       "      <td>713.0</td>\n",
       "      <td>748.0</td>\n",
       "      <td>745.0</td>\n",
       "      <td>778.0</td>\n",
       "      <td>778.0</td>\n",
       "      <td>778.0</td>\n",
       "      <td>...</td>\n",
       "      <td>665.0</td>\n",
       "      <td>623.0</td>\n",
       "      <td>360.0</td>\n",
       "      <td>291.0</td>\n",
       "      <td>358.0</td>\n",
       "      <td>690.0</td>\n",
       "      <td>643.0</td>\n",
       "      <td>644.0</td>\n",
       "      <td>624.0</td>\n",
       "      <td>778.0</td>\n",
       "    </tr>\n",
       "    <tr>\n",
       "      <th>mean</th>\n",
       "      <td>64.0</td>\n",
       "      <td>1.0</td>\n",
       "      <td>163.0</td>\n",
       "      <td>88.0</td>\n",
       "      <td>106.0</td>\n",
       "      <td>1.0</td>\n",
       "      <td>0.0</td>\n",
       "      <td>1.0</td>\n",
       "      <td>1.0</td>\n",
       "      <td>1.0</td>\n",
       "      <td>...</td>\n",
       "      <td>1.0</td>\n",
       "      <td>1.0</td>\n",
       "      <td>67.0</td>\n",
       "      <td>69.0</td>\n",
       "      <td>88.0</td>\n",
       "      <td>79.0</td>\n",
       "      <td>76.0</td>\n",
       "      <td>75.0</td>\n",
       "      <td>75.0</td>\n",
       "      <td>0.0</td>\n",
       "    </tr>\n",
       "    <tr>\n",
       "      <th>std</th>\n",
       "      <td>12.0</td>\n",
       "      <td>0.0</td>\n",
       "      <td>10.0</td>\n",
       "      <td>11.0</td>\n",
       "      <td>81.0</td>\n",
       "      <td>1.0</td>\n",
       "      <td>1.0</td>\n",
       "      <td>0.0</td>\n",
       "      <td>0.0</td>\n",
       "      <td>0.0</td>\n",
       "      <td>...</td>\n",
       "      <td>1.0</td>\n",
       "      <td>1.0</td>\n",
       "      <td>271.0</td>\n",
       "      <td>261.0</td>\n",
       "      <td>356.0</td>\n",
       "      <td>20.0</td>\n",
       "      <td>20.0</td>\n",
       "      <td>20.0</td>\n",
       "      <td>19.0</td>\n",
       "      <td>0.0</td>\n",
       "    </tr>\n",
       "    <tr>\n",
       "      <th>min</th>\n",
       "      <td>27.0</td>\n",
       "      <td>1.0</td>\n",
       "      <td>135.0</td>\n",
       "      <td>38.0</td>\n",
       "      <td>1.0</td>\n",
       "      <td>0.0</td>\n",
       "      <td>0.0</td>\n",
       "      <td>0.0</td>\n",
       "      <td>0.0</td>\n",
       "      <td>0.0</td>\n",
       "      <td>...</td>\n",
       "      <td>0.0</td>\n",
       "      <td>0.0</td>\n",
       "      <td>0.0</td>\n",
       "      <td>0.0</td>\n",
       "      <td>0.0</td>\n",
       "      <td>17.0</td>\n",
       "      <td>16.0</td>\n",
       "      <td>15.0</td>\n",
       "      <td>12.0</td>\n",
       "      <td>0.0</td>\n",
       "    </tr>\n",
       "    <tr>\n",
       "      <th>25%</th>\n",
       "      <td>56.0</td>\n",
       "      <td>1.0</td>\n",
       "      <td>155.0</td>\n",
       "      <td>82.0</td>\n",
       "      <td>48.0</td>\n",
       "      <td>0.0</td>\n",
       "      <td>0.0</td>\n",
       "      <td>1.0</td>\n",
       "      <td>0.0</td>\n",
       "      <td>0.0</td>\n",
       "      <td>...</td>\n",
       "      <td>0.0</td>\n",
       "      <td>0.0</td>\n",
       "      <td>6.0</td>\n",
       "      <td>6.0</td>\n",
       "      <td>6.0</td>\n",
       "      <td>66.0</td>\n",
       "      <td>64.0</td>\n",
       "      <td>62.0</td>\n",
       "      <td>63.0</td>\n",
       "      <td>0.0</td>\n",
       "    </tr>\n",
       "    <tr>\n",
       "      <th>50%</th>\n",
       "      <td>64.0</td>\n",
       "      <td>1.0</td>\n",
       "      <td>164.0</td>\n",
       "      <td>87.0</td>\n",
       "      <td>90.0</td>\n",
       "      <td>0.0</td>\n",
       "      <td>0.0</td>\n",
       "      <td>1.0</td>\n",
       "      <td>1.0</td>\n",
       "      <td>1.0</td>\n",
       "      <td>...</td>\n",
       "      <td>0.0</td>\n",
       "      <td>0.0</td>\n",
       "      <td>13.0</td>\n",
       "      <td>12.0</td>\n",
       "      <td>12.0</td>\n",
       "      <td>77.0</td>\n",
       "      <td>74.0</td>\n",
       "      <td>74.0</td>\n",
       "      <td>74.0</td>\n",
       "      <td>0.0</td>\n",
       "    </tr>\n",
       "    <tr>\n",
       "      <th>75%</th>\n",
       "      <td>73.0</td>\n",
       "      <td>2.0</td>\n",
       "      <td>170.0</td>\n",
       "      <td>94.0</td>\n",
       "      <td>141.0</td>\n",
       "      <td>2.0</td>\n",
       "      <td>1.0</td>\n",
       "      <td>1.0</td>\n",
       "      <td>1.0</td>\n",
       "      <td>1.0</td>\n",
       "      <td>...</td>\n",
       "      <td>1.0</td>\n",
       "      <td>1.0</td>\n",
       "      <td>31.0</td>\n",
       "      <td>32.0</td>\n",
       "      <td>30.0</td>\n",
       "      <td>91.0</td>\n",
       "      <td>89.0</td>\n",
       "      <td>86.0</td>\n",
       "      <td>85.0</td>\n",
       "      <td>1.0</td>\n",
       "    </tr>\n",
       "    <tr>\n",
       "      <th>max</th>\n",
       "      <td>98.0</td>\n",
       "      <td>2.0</td>\n",
       "      <td>188.0</td>\n",
       "      <td>187.0</td>\n",
       "      <td>480.0</td>\n",
       "      <td>2.0</td>\n",
       "      <td>1.0</td>\n",
       "      <td>1.0</td>\n",
       "      <td>1.0</td>\n",
       "      <td>1.0</td>\n",
       "      <td>...</td>\n",
       "      <td>5.0</td>\n",
       "      <td>5.0</td>\n",
       "      <td>3451.0</td>\n",
       "      <td>3525.0</td>\n",
       "      <td>3678.0</td>\n",
       "      <td>155.0</td>\n",
       "      <td>158.0</td>\n",
       "      <td>154.0</td>\n",
       "      <td>141.0</td>\n",
       "      <td>1.0</td>\n",
       "    </tr>\n",
       "  </tbody>\n",
       "</table>\n",
       "<p>8 rows × 151 columns</p>\n",
       "</div>"
      ],
      "text/plain": [
       "         Age    Sex  Body height  at 0M   Waist circumstances at 0M   \\\n",
       "count  778.0  778.0                765.0                       467.0   \n",
       "mean    64.0    1.0                163.0                        88.0   \n",
       "std     12.0    0.0                 10.0                        11.0   \n",
       "min     27.0    1.0                135.0                        38.0   \n",
       "25%     56.0    1.0                155.0                        82.0   \n",
       "50%     64.0    1.0                164.0                        87.0   \n",
       "75%     73.0    2.0                170.0                        94.0   \n",
       "max     98.0    2.0                188.0                       187.0   \n",
       "\n",
       "       Duration of T2DM  Smoking habit  Drinking habit  \\\n",
       "count             713.0          748.0           745.0   \n",
       "mean              106.0            1.0             0.0   \n",
       "std                81.0            1.0             1.0   \n",
       "min                 1.0            0.0             0.0   \n",
       "25%                48.0            0.0             0.0   \n",
       "50%                90.0            0.0             0.0   \n",
       "75%               141.0            2.0             1.0   \n",
       "max               480.0            2.0             1.0   \n",
       "\n",
       "       History of complications  History of hypertension  \\\n",
       "count                     778.0                    778.0   \n",
       "mean                        1.0                      1.0   \n",
       "std                         0.0                      0.0   \n",
       "min                         0.0                      0.0   \n",
       "25%                         1.0                      0.0   \n",
       "50%                         1.0                      1.0   \n",
       "75%                         1.0                      1.0   \n",
       "max                         1.0                      1.0   \n",
       "\n",
       "       History of dyslipidemia  ...  Urinary sugar at 3M  \\\n",
       "count                    778.0  ...                665.0   \n",
       "mean                       1.0  ...                  1.0   \n",
       "std                        0.0  ...                  1.0   \n",
       "min                        0.0  ...                  0.0   \n",
       "25%                        0.0  ...                  0.0   \n",
       "50%                        1.0  ...                  0.0   \n",
       "75%                        1.0  ...                  1.0   \n",
       "max                        1.0  ...                  5.0   \n",
       "\n",
       "       Urinary sugar at 12M  Urinary albumin/creatinine ratio at 0M   \\\n",
       "count                 623.0                                    360.0   \n",
       "mean                    1.0                                     67.0   \n",
       "std                     1.0                                    271.0   \n",
       "min                     0.0                                      0.0   \n",
       "25%                     0.0                                      6.0   \n",
       "50%                     0.0                                     13.0   \n",
       "75%                     1.0                                     31.0   \n",
       "max                     5.0                                   3451.0   \n",
       "\n",
       "       Urinary albumin/creatinine ratio at 3M   \\\n",
       "count                                    291.0   \n",
       "mean                                      69.0   \n",
       "std                                      261.0   \n",
       "min                                        0.0   \n",
       "25%                                        6.0   \n",
       "50%                                       12.0   \n",
       "75%                                       32.0   \n",
       "max                                     3525.0   \n",
       "\n",
       "       Urinary albumin/creatinine ratio at 12M   eGFR at 0M  eGFR at 1M  \\\n",
       "count                                     358.0       690.0       643.0   \n",
       "mean                                       88.0        79.0        76.0   \n",
       "std                                       356.0        20.0        20.0   \n",
       "min                                         0.0        17.0        16.0   \n",
       "25%                                         6.0        66.0        64.0   \n",
       "50%                                        12.0        77.0        74.0   \n",
       "75%                                        30.0        91.0        89.0   \n",
       "max                                      3678.0       155.0       158.0   \n",
       "\n",
       "       eGFR at 3M  eGFR at 12M  Risk of Nephropathy  \n",
       "count       644.0        624.0                778.0  \n",
       "mean         75.0         75.0                  0.0  \n",
       "std          20.0         19.0                  0.0  \n",
       "min          15.0         12.0                  0.0  \n",
       "25%          62.0         63.0                  0.0  \n",
       "50%          74.0         74.0                  0.0  \n",
       "75%          86.0         85.0                  1.0  \n",
       "max         154.0        141.0                  1.0  \n",
       "\n",
       "[8 rows x 151 columns]"
      ]
     },
     "execution_count": 4,
     "metadata": {},
     "output_type": "execute_result"
    }
   ],
   "source": [
    "print(neph_df.info())  #基本信息\n",
    "round(neph_df.describe()) "
   ]
  },
  {
   "cell_type": "code",
   "execution_count": 15,
   "metadata": {
    "id": "98F16AC16AE44432917C784337DD241C",
    "jupyter": {},
    "notebookId": "604ecb395316950016ea65dc",
    "scrolled": false,
    "slideshow": {
     "slide_type": "slide"
    },
    "tags": []
   },
   "outputs": [
    {
     "name": "stdout",
     "output_type": "stream",
     "text": [
      "Age                                         True\n",
      "Sex                                         True\n",
      "Body height  at 0M                          True\n",
      "Waist circumstances at 0M                   True\n",
      "Duration of T2DM                            True\n",
      "Smoking habit                               True\n",
      "Drinking habit                              True\n",
      "History of complications                    True\n",
      "History of hypertension                     True\n",
      "History of dyslipidemia                     True\n",
      "History of hyperuricemia                    True\n",
      "History of retinopathy                      True\n",
      "History of arteriosclerosis obliterans      True\n",
      "History of atrial fibrillation              True\n",
      "History of kidney disease                   True\n",
      "History of liver disease                    True\n",
      "History of myocardial infarction            True\n",
      "History of cerebral infarction              True\n",
      "History of angina pectoris                  True\n",
      "History of heart failure                    True\n",
      "Systolic blood pressure at 0M               True\n",
      "Systolic blood pressure at 1M               True\n",
      "Systolic blood pressure at 3M               True\n",
      "Systolic blood pressure at 12M              True\n",
      "Diastolic blood pressure at 0M              True\n",
      "Diastolic blood pressure at 1M              True\n",
      "Diastolic blood pressure at 3M              True\n",
      "Diastolic blood pressure at 12M             True\n",
      "Pulse rate at 0M                            True\n",
      "Pulse rate at 1M                            True\n",
      "                                            ... \n",
      "Creatinine at 3M                            True\n",
      "Creatinine at 12M                           True\n",
      "Na at 0M                                    True\n",
      "Na at 1M                                    True\n",
      "Na at 3M                                    True\n",
      "Na at 12M                                   True\n",
      "Cl at 0M                                    True\n",
      "Cl at 1M                                    True\n",
      "Cl at 3M                                    True\n",
      "Cl at 12M                                   True\n",
      "K at 0M                                     True\n",
      "K at 1M                                     True\n",
      "K at 3M                                     True\n",
      "K at 12M                                    True\n",
      "Urinary protein at 0M                       True\n",
      "Urinary protein at 1M                       True\n",
      "Urinary protein at 3M                       True\n",
      "Urinary protein at 12M                      True\n",
      "Urinary sugar at 0M                         True\n",
      "Urinary sugar at 1M                         True\n",
      "Urinary sugar at 3M                         True\n",
      "Urinary sugar at 12M                        True\n",
      "Urinary albumin/creatinine ratio at 0M      True\n",
      "Urinary albumin/creatinine ratio at 3M      True\n",
      "Urinary albumin/creatinine ratio at 12M     True\n",
      "eGFR at 0M                                  True\n",
      "eGFR at 1M                                  True\n",
      "eGFR at 3M                                  True\n",
      "eGFR at 12M                                 True\n",
      "Risk of Nephropathy                         True\n",
      "Length: 165, dtype: bool\n"
     ]
    },
    {
     "data": {
      "text/html": [
       "<img src=\"https://cdn.kesci.com/rt_upload/98F16AC16AE44432917C784337DD241C/qq09nrjqe4.png\">"
      ],
      "text/plain": [
       "<Figure size 1152x2160 with 1 Axes>"
      ]
     },
     "metadata": {},
     "output_type": "display_data"
    }
   ],
   "source": [
    "#缺失值观察\n",
    "print(neph_df.isnull().any()) #判断哪些列包含缺失值\n",
    "\n",
    "#显示各特征缺失比例图像\n",
    "plt.style.use('ggplot')     #设置背景网格\n",
    "plt.rcParams['font.family']='Microsoft YaHei'   #字体\n",
    "\n",
    "null_percentage = neph_df.isnull().sum()/len(neph_df)#计算每列缺失比例\n",
    "# print ('The null data percentage is:',null_percentage)\n",
    "null_percentage = null_percentage.reset_index()\n",
    "null_percentage.columns = ['column_name','column_value']\n",
    "ind = np.arange(null_percentage.shape[0])\n",
    "fig , ax = plt.subplots(figsize = (16, 30))\n",
    "rects = ax.barh(ind,null_percentage.column_value.values,color='red')\n",
    "ax.set_yticks(ind)\n",
    "ax.set_yticklabels(null_percentage.column_name.values,rotation='horizontal')\n",
    "ax.set_xlabel(\"各基本特征缺失数据值\")\n",
    "plt.show()"
   ]
  },
  {
   "cell_type": "markdown",
   "metadata": {
    "id": "EB9ADEC2591A4B568467541917CBD598",
    "jupyter": {},
    "mdEditEnable": false,
    "notebookId": "604ecb395316950016ea65dc",
    "scrolled": false,
    "slideshow": {
     "slide_type": "slide"
    },
    "tags": []
   },
   "source": [
    "**分析结果**：由上面的基本分析，该数据包含779个样本，165列，其中最后一列Risk of Nephropathy为label。由label的值可知该问题**是个二分类问题**。\n",
    "而且数据集中存在大量缺失值。下面对数据进行处理"
   ]
  },
  {
   "cell_type": "markdown",
   "metadata": {
    "id": "7EE77D6A2BCB4A1886092CAFD95B60F5",
    "jupyter": {},
    "mdEditEnable": false,
    "notebookId": "604ecb395316950016ea65dc",
    "scrolled": false,
    "slideshow": {
     "slide_type": "slide"
    },
    "tags": []
   },
   "source": [
    "### Step 2：数据预处理\n",
    "\n",
    "1. 缺失值处理：对缺少标签的样本删除，对缺失值太多的特征进行删除，对剩下的缺失值进行填充\n",
    "1. 特征分析，选择\n",
    "\n"
   ]
  },
  {
   "cell_type": "code",
   "execution_count": 19,
   "metadata": {
    "id": "AA5379C3847A4318892630FFA46F768B",
    "jupyter": {},
    "notebookId": "604ecb395316950016ea65dc",
    "scrolled": false,
    "slideshow": {
     "slide_type": "slide"
    },
    "tags": []
   },
   "outputs": [
    {
     "data": {
      "text/plain": [
       "(778, 165)"
      ]
     },
     "execution_count": 19,
     "metadata": {},
     "output_type": "execute_result"
    }
   ],
   "source": [
    "# 删除缺少标签的行\n",
    "neph_data = neph_df.dropna(subset=['Risk of Nephropathy'])\n",
    "neph_data.shape"
   ]
  },
  {
   "cell_type": "code",
   "execution_count": 5,
   "metadata": {
    "id": "174F7033847E41B6826D4CD0C27191AC",
    "jupyter": {},
    "notebookId": "604ecb395316950016ea65dc",
    "scrolled": false,
    "slideshow": {
     "slide_type": "slide"
    },
    "tags": []
   },
   "outputs": [
    {
     "name": "stdout",
     "output_type": "stream",
     "text": [
      "0.0    556\n",
      "1.0    222\n",
      "Name: Risk of Nephropathy, dtype: int64\n"
     ]
    },
    {
     "data": {
      "text/html": [
       "<img src=\"https://cdn.kesci.com/rt_upload/174F7033847E41B6826D4CD0C27191AC/qq0h22cowj.png\">"
      ],
      "text/plain": [
       "<Figure size 432x288 with 1 Axes>"
      ]
     },
     "metadata": {
      "needs_background": "light"
     },
     "output_type": "display_data"
    }
   ],
   "source": [
    "import seaborn as sns\n",
    "\n",
    "# 查看数据类别是否平衡\n",
    "fig, ax = plt.subplots()\n",
    "sns.set()\n",
    "ax = sns.distplot(neph_data['Risk of Nephropathy'],kde=False)\n",
    "\n",
    "print(neph_data['Risk of Nephropathy'].value_counts())"
   ]
  },
  {
   "cell_type": "code",
   "execution_count": 20,
   "metadata": {
    "id": "1CF8052AF1174A1682E5F488665A536E",
    "jupyter": {},
    "notebookId": "604ecb395316950016ea65dc",
    "scrolled": false,
    "slideshow": {
     "slide_type": "slide"
    },
    "tags": []
   },
   "outputs": [
    {
     "name": "stdout",
     "output_type": "stream",
     "text": [
      "['Age', 'Sex', 'Body height  at 0M ', 'Duration of T2DM', 'Smoking habit', 'Drinking habit', 'History of complications', 'History of hypertension', 'History of dyslipidemia', 'History of hyperuricemia', 'History of retinopathy', 'History of arteriosclerosis obliterans ', 'History of atrial fibrillation', 'History of kidney disease', 'History of liver disease', 'History of myocardial infarction', 'History of cerebral infarction', 'History of angina pectoris', 'History of heart failure', 'Systolic blood pressure at 0M ', 'Systolic blood pressure at 1M ', 'Systolic blood pressure at 3M ', 'Systolic blood pressure at 12M ', 'Diastolic blood pressure at 0M', 'Diastolic blood pressure at 1M', 'Diastolic blood pressure at 3M', 'Diastolic blood pressure at 12M', 'Pulse rate at 0M', 'Pulse rate at 1M', 'Pulse rate at 3M', 'Body weight at 0M', 'Body weight at 1M', 'Body weight at 3M', 'Body weight at 12M', 'BMI at 0M', 'BMI at 1M', 'BMI at 3M', 'BMI at 12M', 'HbA1c (NGSP*) at 0M', 'HbA1c (NGSP*) at 1M', 'HbA1c (NGSP*) at 3M', 'HbA1c (NGSP*) at 12M', 'Fasting plasma glucose at 0M ', 'Red blood cell at 0M', 'Red blood cell at 1M', 'Red blood cell at 3M', 'Red blood cell at 12M', 'White blood cell at 0M', 'White blood cell at 1M', 'White blood cell at 3M', 'White blood cell at 12M', 'Hemoglobin at 0M', 'Hemoglobin at 1M', 'Hemoglobin at 3M', 'Hemoglobin at 12M', 'Hematocrit at 0M', 'Hematocrit at 1M', 'Hematocrit at 3M', 'Hematocrit at 12M', 'Platele at 0M', 'Platele at 1M', 'Platele at 3M', 'Platele at 12M', 'Triglyceride at 0M', 'Triglyceride at 1M', 'Triglyceride at 3M', 'Triglyceride at 12M', 'HDL-C at 0M', 'HDL-C at 1M', 'HDL-C at 3M', 'HDL-C at 12M', 'LDL-C at 0M', 'LDL-C at 1M', 'LDL-C at 3M', 'LDL-C at 12M', 'AST at 0M', 'AST at 1M', 'AST at 3M', 'AST at 12M', 'ALT at 0M', 'ALT at 1M', 'ALT at 3M', 'ALT at 12M', 'gamma-GTP at 0M', 'gamma-GTP at 1M', 'gamma-GTP at 3M', 'gamma-GTP at 12M', 'BUN at 0M', 'BUN at 1M', 'BUN at 3M', 'BUN at 12M', 'Uric acid at 0M ', 'Uric acid at 1M ', 'Uric acid at 3M ', 'Uric acid at 12M ', 'Creatinine at 0M ', 'Creatinine at 1M ', 'Creatinine at 3M ', 'Creatinine at 12M', 'Na at 0M', 'Na at 1M', 'Na at 3M', 'Na at 12M', 'Cl at 0M', 'Cl at 1M', 'Cl at 3M', 'Cl at 12M', 'K at 0M', 'K at 1M', 'K at 3M', 'K at 12M', 'Urinary protein at 0M', 'Urinary protein at 1M', 'Urinary protein at 3M', 'Urinary protein at 12M', 'Urinary sugar at 0M', 'Urinary sugar at 1M', 'Urinary sugar at 3M', 'Urinary sugar at 12M', 'eGFR at 0M', 'eGFR at 1M', 'eGFR at 3M', 'eGFR at 12M', 'Risk of Nephropathy'] 124\n"
     ]
    }
   ],
   "source": [
    "# 保留缺失值比例不大于0.2的特征\n",
    "feats = []\n",
    "null_percentage = neph_data.isnull().sum()/len(neph_data)#计算每列缺失比例\n",
    "\n",
    "for i in range(0,null_percentage.shape[0]):\n",
    "    if null_percentage.values[i] <= 0.3:\n",
    "        feats.append(null_percentage.index[i])\n",
    "\n",
    "print(feats, len(feats))"
   ]
  },
  {
   "cell_type": "code",
   "execution_count": 21,
   "metadata": {
    "id": "0EFC69A02B8F49B6815EA8188808D21A",
    "jupyter": {},
    "notebookId": "604ecb395316950016ea65dc",
    "scrolled": false,
    "slideshow": {
     "slide_type": "slide"
    },
    "tags": []
   },
   "outputs": [
    {
     "name": "stdout",
     "output_type": "stream",
     "text": [
      "(778, 124)\n"
     ]
    }
   ],
   "source": [
    "neph_data = neph_data[feats]\n",
    "print(neph_data.shape)"
   ]
  },
  {
   "cell_type": "code",
   "execution_count": 22,
   "metadata": {
    "id": "73272DA837834108A9A2FC92596D753B",
    "jupyter": {},
    "notebookId": "604ecb395316950016ea65dc",
    "scrolled": false,
    "slideshow": {
     "slide_type": "slide"
    },
    "tags": []
   },
   "outputs": [
    {
     "name": "stdout",
     "output_type": "stream",
     "text": [
      "Imputing row 1/778 with 3 missing, elapsed time: 0.403\n",
      "Imputing row 101/778 with 69 missing, elapsed time: 0.435\n",
      "Imputing row 201/778 with 36 missing, elapsed time: 0.456\n",
      "Imputing row 301/778 with 1 missing, elapsed time: 0.475\n",
      "Imputing row 401/778 with 14 missing, elapsed time: 0.497\n",
      "Imputing row 501/778 with 0 missing, elapsed time: 0.509\n",
      "Imputing row 601/778 with 69 missing, elapsed time: 0.549\n",
      "Imputing row 701/778 with 83 missing, elapsed time: 0.576\n"
     ]
    }
   ],
   "source": [
    "# 对剩下的缺失值进行填充\n",
    "#离散变量，使用众数填充\n",
    "feat_a = ['Sex', 'Body height  at 0M ', 'Duration of T2DM', 'Smoking habit', 'Drinking habit', 'History of complications', 'History of hypertension', \n",
    "'History of dyslipidemia', 'History of hyperuricemia', 'History of retinopathy', 'History of arteriosclerosis obliterans ', 'History of atrial fibrillation', \n",
    "'History of kidney disease', 'History of liver disease', 'History of myocardial infarction', 'History of cerebral infarction', 'History of angina pectoris', \n",
    "'History of heart failure']\n",
    "\n",
    "neph_data[feat_a]=neph_data[feat_a].fillna(method='pad')\n",
    "# neph_data.fillna(neph_data.mean(),inplace=True)\n",
    "#使用KNN填充数据 https://mp.weixin.qq.com/s/B-C-E1WtHFnSm-V8MyETvA\n",
    "# !pip install fancyimpute  #安装相应的包\n",
    "from fancyimpute import KNN\n",
    "\n",
    "neph_data = pd.DataFrame(KNN(k=3).fit_transform(neph_data), columns=neph_data.columns)"
   ]
  },
  {
   "cell_type": "code",
   "execution_count": 59,
   "metadata": {
    "id": "8360D94429EA4D318B20CD41D188AD27",
    "jupyter": {},
    "notebookId": "604ecb395316950016ea65dc",
    "scrolled": false,
    "slideshow": {
     "slide_type": "slide"
    },
    "tags": []
   },
   "outputs": [
    {
     "name": "stdout",
     "output_type": "stream",
     "text": [
      "Age                                        False\n",
      "Sex                                        False\n",
      "Body height  at 0M                         False\n",
      "Duration of T2DM                           False\n",
      "Smoking habit                              False\n",
      "Drinking habit                             False\n",
      "History of complications                   False\n",
      "History of hypertension                    False\n",
      "History of dyslipidemia                    False\n",
      "History of hyperuricemia                   False\n",
      "History of retinopathy                     False\n",
      "History of arteriosclerosis obliterans     False\n",
      "History of atrial fibrillation             False\n",
      "History of kidney disease                  False\n",
      "History of liver disease                   False\n",
      "History of myocardial infarction           False\n",
      "History of cerebral infarction             False\n",
      "History of angina pectoris                 False\n",
      "History of heart failure                   False\n",
      "Systolic blood pressure at 0M              False\n",
      "Systolic blood pressure at 1M              False\n",
      "Systolic blood pressure at 3M              False\n",
      "Systolic blood pressure at 12M             False\n",
      "Diastolic blood pressure at 0M             False\n",
      "Diastolic blood pressure at 1M             False\n",
      "Diastolic blood pressure at 3M             False\n",
      "Diastolic blood pressure at 12M            False\n",
      "Body weight at 0M                          False\n",
      "Body weight at 1M                          False\n",
      "Body weight at 3M                          False\n",
      "                                           ...  \n",
      "ALT at 0M                                  False\n",
      "ALT at 1M                                  False\n",
      "ALT at 3M                                  False\n",
      "ALT at 12M                                 False\n",
      "gamma-GTP at 0M                            False\n",
      "gamma-GTP at 1M                            False\n",
      "gamma-GTP at 3M                            False\n",
      "gamma-GTP at 12M                           False\n",
      "BUN at 0M                                  False\n",
      "Uric acid at 0M                            False\n",
      "Uric acid at 1M                            False\n",
      "Uric acid at 3M                            False\n",
      "Creatinine at 0M                           False\n",
      "Creatinine at 1M                           False\n",
      "Creatinine at 3M                           False\n",
      "Creatinine at 12M                          False\n",
      "Na at 0M                                   False\n",
      "Cl at 0M                                   False\n",
      "K at 0M                                    False\n",
      "Urinary protein at 0M                      False\n",
      "Urinary protein at 1M                      False\n",
      "Urinary protein at 3M                      False\n",
      "Urinary sugar at 0M                        False\n",
      "Urinary sugar at 1M                        False\n",
      "Urinary sugar at 3M                        False\n",
      "eGFR at 0M                                 False\n",
      "eGFR at 1M                                 False\n",
      "eGFR at 3M                                 False\n",
      "eGFR at 12M                                False\n",
      "Risk of Nephropathy                        False\n",
      "Length: 89, dtype: bool\n"
     ]
    }
   ],
   "source": [
    "print(neph_data.isnull().any()) #判断哪些列包含缺失值"
   ]
  },
  {
   "cell_type": "code",
   "execution_count": 23,
   "metadata": {
    "id": "A06B6C697C414177812857CBC5619CE6",
    "jupyter": {},
    "notebookId": "604ecb395316950016ea65dc",
    "scrolled": false,
    "slideshow": {
     "slide_type": "slide"
    },
    "tags": []
   },
   "outputs": [
    {
     "data": {
      "text/plain": [
       "0.0    394\n",
       "1.0    384\n",
       "Name: Drinking habit, dtype: int64"
      ]
     },
     "execution_count": 23,
     "metadata": {},
     "output_type": "execute_result"
    }
   ],
   "source": [
    "# c = neph_data[['Sex','Risk of Nephropathy']].groupby(['Sex'],as_index=False).agg({'Risk of Nephropathy':sum})\n",
    "# print(c)\n",
    "\n",
    "neph_data['Drinking habit'].value_counts()"
   ]
  },
  {
   "cell_type": "code",
   "execution_count": 24,
   "metadata": {
    "id": "6FCC7BE697284681881FCC328A7DB30F",
    "jupyter": {},
    "notebookId": "604ecb395316950016ea65dc",
    "scrolled": false,
    "slideshow": {
     "slide_type": "slide"
    },
    "tags": []
   },
   "outputs": [
    {
     "name": "stdout",
     "output_type": "stream",
     "text": [
      "0    0.0\n",
      "1    0.0\n",
      "2    0.0\n",
      "3    0.0\n",
      "4    1.0\n",
      "Name: Risk of Nephropathy, dtype: float64\n"
     ]
    }
   ],
   "source": [
    "#把数据标签和特征划分\n",
    "from sklearn import preprocessing\n",
    "\n",
    "#把标签列取出\n",
    "neph_Y = neph_data['Risk of Nephropathy']\n",
    "print(neph_Y.head())\n",
    "\n",
    "#把标签列删除\n",
    "neph_X = neph_data.drop(columns='Risk of Nephropathy')\n",
    "\n",
    "# min_max_scaler = preprocessing.MinMaxScaler() \n",
    "# neph_X = min_max_scaler.fit_transform(neph_X)\n",
    "# print(neph_X)"
   ]
  },
  {
   "cell_type": "code",
   "execution_count": 38,
   "metadata": {
    "id": "301A83D91C47439A93CE02A512711E8D",
    "jupyter": {},
    "notebookId": "604ecb395316950016ea65dc",
    "scrolled": false,
    "slideshow": {
     "slide_type": "slide"
    },
    "tags": []
   },
   "outputs": [
    {
     "name": "stdout",
     "output_type": "stream",
     "text": [
      "(778, 20)\n"
     ]
    }
   ],
   "source": [
    "from sklearn.decomposition import PCA   #加载PCA算法包\n",
    "\n",
    "pca=PCA(n_components=20)  #加载PCA算法，设置降维后主成分数目为10\n",
    "reduced_x=pca.fit_transform(neph_X)#对样本进行降维\n",
    "print(reduced_x.shape)"
   ]
  },
  {
   "cell_type": "markdown",
   "metadata": {
    "id": "C64DD394847E4F3E8F581691BE311B88",
    "jupyter": {},
    "mdEditEnable": false,
    "notebookId": "604ecb395316950016ea65dc",
    "slideshow": {
     "slide_type": "slide"
    },
    "tags": []
   },
   "source": [
    "由于对数据特征表示的意思，以及每个特征的正常取值范围不太了解，仅仅对数据做以上简单处理，在实际科研，或者临床建模中，应对特征进行熟悉的了解（借助医生），可进一步筛选和衍生新的特征（如教案中的“白球比”）"
   ]
  },
  {
   "cell_type": "markdown",
   "metadata": {
    "id": "31359DA57DBC4D808883DBE387DA6161",
    "jupyter": {},
    "mdEditEnable": false,
    "notebookId": "604ecb395316950016ea65dc",
    "slideshow": {
     "slide_type": "slide"
    },
    "tags": []
   },
   "source": [
    "### Step 3: 模型构建：模型选择，训练 \n",
    "\n",
    "\n",
    "1. 单一模型\n",
    "1. 模型集成"
   ]
  },
  {
   "cell_type": "code",
   "execution_count": 25,
   "metadata": {
    "id": "732C47B4E2234BA19C5F2EF60CDA6A7F",
    "jupyter": {},
    "notebookId": "604ecb395316950016ea65dc",
    "scrolled": false,
    "slideshow": {
     "slide_type": "slide"
    },
    "tags": []
   },
   "outputs": [
    {
     "name": "stdout",
     "output_type": "stream",
     "text": [
      "(622, 123) (622,)\n",
      "(156, 123) (156,)\n"
     ]
    }
   ],
   "source": [
    "from sklearn.model_selection import train_test_split\n",
    "\n",
    "#数据量较少，80%作为训练， 20%作为测试\n",
    "x_train,x_test,y_train,y_test = train_test_split(neph_X, neph_Y, test_size=0.2)\n",
    "\n",
    "print(x_train.shape,y_train.shape)\n",
    "print(x_test.shape,y_test.shape)"
   ]
  },
  {
   "cell_type": "code",
   "execution_count": 26,
   "metadata": {
    "id": "35E54ACFD5044896A51B1CC6FC182003",
    "jupyter": {},
    "notebookId": "604ecb395316950016ea65dc",
    "scrolled": false,
    "slideshow": {
     "slide_type": "slide"
    },
    "tags": []
   },
   "outputs": [
    {
     "data": {
      "text/plain": [
       "XGBClassifier(eval_metric='auc', gamma=2, max_depth=5, min_child_weight=4,\n",
       "              n_estimators=20)"
      ]
     },
     "execution_count": 26,
     "metadata": {},
     "output_type": "execute_result"
    }
   ],
   "source": [
    "import xgboost as xgboost\n",
    "from sklearn.ensemble import RandomForestClassifier\n",
    "import sklearn.svm as svm\n",
    "\n",
    "#随机森林\n",
    "forest = RandomForestClassifier(n_estimators= 20, oob_score=True, max_depth= 5)\n",
    "forest.fit(x_train,y_train)\n",
    "\n",
    "#SVM\n",
    "sv_k = svm.SVC(kernel='poly', degree=5, probability=True)\n",
    "sv_k.fit(x_train,y_train)\n",
    "\n",
    "#xgboost\n",
    "# from collections import Counter\n",
    "# cnt = Counter(neph_Y)\n",
    "xgb = xgboost.XGBClassifier(n_estimators= 20,  max_depth= 5,gamma=2, eval_metric='auc', min_child_weight=4)\n",
    "xgb.fit(x_train, y_train)"
   ]
  },
  {
   "cell_type": "code",
   "execution_count": 27,
   "metadata": {
    "id": "4568E6DF9B9547E28EBA61EE30BFE087",
    "jupyter": {},
    "notebookId": "604ecb395316950016ea65dc",
    "scrolled": false,
    "slideshow": {
     "slide_type": "slide"
    },
    "tags": []
   },
   "outputs": [
    {
     "name": "stdout",
     "output_type": "stream",
     "text": [
      "随机森林 Acc:  0.7628205128205128\n",
      "[[118  37]\n",
      " [  0   1]]\n",
      "SVM Acc:  0.75\n",
      "[[117  38]\n",
      " [  1   0]]\n",
      "xgboost Acc:  0.7371794871794872\n",
      "[[114  37]\n",
      " [  4   1]]\n"
     ]
    }
   ],
   "source": [
    "from sklearn.metrics import accuracy_score,precision_score,recall_score,confusion_matrix\n",
    "from sklearn.metrics import roc_auc_score\n",
    "#测试随机森林模型\n",
    "y_pred_rt = forest.predict(x_test)\n",
    "\n",
    "print(\"随机森林 Acc: \" ,accuracy_score(y_pred_rt, y_test))\n",
    "\n",
    "print(confusion_matrix(y_pred_rt, y_test))\n",
    "\n",
    "#测试随机森林模型\n",
    "y_pred_svm = sv_k.predict(x_test)\n",
    "\n",
    "print(\"SVM Acc: \" ,accuracy_score(y_pred_svm, y_test))\n",
    "\n",
    "print(confusion_matrix(y_pred_svm, y_test))\n",
    "\n",
    "#测试随机森林模型\n",
    "y_pred_xgb = xgb.predict(x_test)\n",
    "\n",
    "print(\"xgboost Acc: \" ,accuracy_score(y_pred_xgb, y_test))\n",
    "\n",
    "print(confusion_matrix(y_pred_xgb, y_test))"
   ]
  },
  {
   "cell_type": "code",
   "execution_count": 28,
   "metadata": {
    "id": "A8BE8D01D0FF4638A19B93145560C67D",
    "jupyter": {},
    "notebookId": "604ecb395316950016ea65dc",
    "scrolled": false,
    "slideshow": {
     "slide_type": "slide"
    },
    "tags": []
   },
   "outputs": [
    {
     "data": {
      "text/plain": [
       "<matplotlib.legend.Legend at 0x7fd12fbdd358>"
      ]
     },
     "execution_count": 28,
     "metadata": {},
     "output_type": "execute_result"
    },
    {
     "data": {
      "text/html": [
       "<img src=\"https://cdn.kesci.com/rt_upload/A8BE8D01D0FF4638A19B93145560C67D/qq1xex1zp4.png\">"
      ],
      "text/plain": [
       "<Figure size 432x288 with 1 Axes>"
      ]
     },
     "metadata": {
      "needs_background": "light"
     },
     "output_type": "display_data"
    }
   ],
   "source": [
    "#绘制ROC曲线\n",
    "from sklearn.metrics import roc_curve\n",
    "y_pred_p = forest.predict_proba(x_test)\n",
    "y_pred_p2 = sv_k.predict_proba(x_test)\n",
    "y_pred_p3 = xgb.predict_proba(x_test)\n",
    "\n",
    "fpr, tpr, thresholds = roc_curve(y_test, y_pred_p[:,1], pos_label=1)\n",
    "fpr2, tpr2, thresholds2 = roc_curve(y_test,y_pred_p2[:,1], pos_label=1)\n",
    "fpr3, tpr3, thresholds3 = roc_curve(y_test,y_pred_p3[:,1], pos_label=1)\n",
    "\n",
    "AUC_ROC = roc_auc_score(y_test, y_pred_p[:,1])\n",
    "AUC_ROC2 = roc_auc_score(y_test, y_pred_p2[:,1])\n",
    "AUC_ROC3 = roc_auc_score(y_test, y_pred_p3[:,1])\n",
    "\n",
    "roc_curve =plt.figure()\n",
    "plt.plot(fpr,tpr,'-',label='RandomForest (AUC = %0.4f)' % AUC_ROC)\n",
    "plt.plot(fpr2,tpr2,'-',label='SVM (AUC = %0.4f)' % AUC_ROC2)\n",
    "plt.plot(fpr3,tpr3,'-',label='Xgboost (AUC = %0.4f)' % AUC_ROC3)\n",
    "\n",
    "plt.title('ROC curve')\n",
    "plt.xlabel(\"FPR (False Positive Rate)\")\n",
    "plt.ylabel(\"TPR (True Positive Rate)\")\n",
    "plt.legend(loc=\"lower right\")"
   ]
  },
  {
   "cell_type": "markdown",
   "metadata": {
    "id": "C60C4DB6A5034FC897AB23FAE40B799F",
    "jupyter": {},
    "mdEditEnable": false,
    "notebookId": "604ecb395316950016ea65dc",
    "slideshow": {
     "slide_type": "slide"
    },
    "tags": []
   },
   "source": [
    "**特征选择**：训练好的模型中，根据特征的重要性（贡献度）重新选择一组特征，再训练模型。"
   ]
  },
  {
   "cell_type": "code",
   "execution_count": 29,
   "metadata": {
    "id": "B812F17A9F59456D9B594DB59588C63A",
    "jupyter": {},
    "notebookId": "604ecb395316950016ea65dc",
    "scrolled": false,
    "slideshow": {
     "slide_type": "slide"
    },
    "tags": []
   },
   "outputs": [
    {
     "name": "stdout",
     "output_type": "stream",
     "text": [
      "(622, 81)\n",
      "after select xgboost Acc:  0.7628205128205128\n",
      "[[118  37]\n",
      " [  0   1]]\n"
     ]
    }
   ],
   "source": [
    "from sklearn.feature_selection import SelectFromModel\n",
    "\n",
    "# select features using threshold\n",
    "selection = SelectFromModel(xgb, threshold=0.000001, prefit=True)\n",
    "select_X_train = selection.transform(x_train)\n",
    "print(select_X_train.shape)\n",
    "# train model\n",
    "selection_model =  xgboost.XGBClassifier(n_estimators= 10, gamma=0.2)\n",
    "selection_model.fit(select_X_train, y_train)\n",
    "# eval model\n",
    "select_X_test = selection.transform(x_test)\n",
    "select_y_pred_xgb = selection_model.predict(select_X_test)\n",
    "\n",
    "print(\"after select xgboost Acc: \" ,accuracy_score(select_y_pred_xgb, y_test))\n",
    "\n",
    "print(confusion_matrix(select_y_pred_xgb, y_test))"
   ]
  },
  {
   "cell_type": "markdown",
   "metadata": {
    "id": "E442D29DA8064E2F8855EB176F37E812",
    "jupyter": {},
    "mdEditEnable": false,
    "notebookId": "604ecb395316950016ea65dc",
    "slideshow": {
     "slide_type": "slide"
    },
    "tags": []
   },
   "source": [
    "单纯从准确率这个指标来看，通过选择更重要几个特征训练模型可以有一定提升。不过通过观察混淆矩阵，其实相差不大。\n",
    "\n",
    "下面采用模型组合的方式进行训练\n",
    "**模型组合**：对上面几种模型，用Voting的方法进行集成，采用软投票（即概率）得到分类结果。"
   ]
  },
  {
   "cell_type": "code",
   "execution_count": 33,
   "metadata": {
    "id": "11FFDDC6EC2D45EA95A82438AC94CCB4",
    "jupyter": {},
    "notebookId": "604ecb395316950016ea65dc",
    "scrolled": false,
    "slideshow": {
     "slide_type": "slide"
    },
    "tags": []
   },
   "outputs": [
    {
     "data": {
      "text/plain": [
       "VotingClassifier(estimators=[('rt', RandomForestClassifier(n_estimators=20)),\n",
       "                             ('svm', SVC(kernel='poly', probability=True)),\n",
       "                             ('xgboost',\n",
       "                              XGBClassifier(gamma=0.2, n_estimators=20))])"
      ]
     },
     "execution_count": 33,
     "metadata": {},
     "output_type": "execute_result"
    }
   ],
   "source": [
    "from sklearn.ensemble import VotingClassifier\n",
    "\n",
    "estimators = []\n",
    "#随机森林\n",
    "model1 = RandomForestClassifier(n_estimators= 20) #设置类别平衡\n",
    "estimators.append(('rt', model1))\n",
    "\n",
    "#SVM\n",
    "model2 = svm.SVC(kernel='poly', degree=3, probability=True) #设置类别平衡\n",
    "estimators.append(('svm', model2))\n",
    "\n",
    "#xgboost\n",
    "model3 = xgboost.XGBClassifier(n_estimators= 20, gamma=0.2) #设置类别平衡\n",
    "estimators.append(('xgboost', model3))\n",
    "\n",
    "ensemble = VotingClassifier(estimators)\n",
    "\n",
    "ensemble.fit(x_train,y_train)"
   ]
  },
  {
   "cell_type": "code",
   "execution_count": 34,
   "metadata": {
    "id": "32EE4AB12BEB420A9DB1B2CC246ADBA4",
    "jupyter": {},
    "notebookId": "604ecb395316950016ea65dc",
    "scrolled": false,
    "slideshow": {
     "slide_type": "slide"
    },
    "tags": []
   },
   "outputs": [
    {
     "name": "stdout",
     "output_type": "stream",
     "text": [
      "0.7628205128205128\n"
     ]
    }
   ],
   "source": [
    "#测试模型\n",
    "score = ensemble.score(x_test, y_test)\n",
    "print(score)"
   ]
  },
  {
   "cell_type": "markdown",
   "metadata": {
    "id": "BC61C9F65E574A7087A25200C89BE43C",
    "jupyter": {},
    "mdEditEnable": false,
    "notebookId": "604ecb395316950016ea65dc",
    "slideshow": {
     "slide_type": "slide"
    },
    "tags": []
   },
   "source": [
    "### Step4:  结果分析\n",
    "\n",
    "经过多次调参，模型还是不能比较好的拟合数据，如何比较好的提升模型精度：个人觉得，对于数据的缺失值填充，特征的选择和各特征的含义再深入了解，把数据质量变高，模型有比较大可能提升！"
   ]
  },
  {
   "cell_type": "code",
   "execution_count": null,
   "metadata": {
    "id": "259CDCA81CD14DD88FBD276A479AF37B",
    "jupyter": {},
    "notebookId": "604ecb395316950016ea65dc",
    "slideshow": {
     "slide_type": "slide"
    },
    "tags": []
   },
   "outputs": [],
   "source": []
  }
 ],
 "metadata": {
  "kernelspec": {
   "display_name": "Python 3",
   "language": "python",
   "name": "python3"
  },
  "language_info": {
   "codemirror_mode": {
    "name": "ipython",
    "version": 3
   },
   "file_extension": ".py",
   "mimetype": "text/x-python",
   "name": "python",
   "nbconvert_exporter": "python",
   "pygments_lexer": "ipython3",
   "version": "3.7.4"
  },
  "latex_envs": {
   "LaTeX_envs_menu_present": true,
   "autoclose": false,
   "autocomplete": true,
   "bibliofile": "biblio.bib",
   "cite_by": "apalike",
   "current_citInitial": 1,
   "eqLabelWithNumbers": true,
   "eqNumInitial": 1,
   "hotkeys": {
    "equation": "Ctrl-E",
    "itemize": "Ctrl-I"
   },
   "labels_anchors": false,
   "latex_user_defs": false,
   "report_style_numbering": false,
   "user_envs_cfg": false
  },
  "toc": {
   "base_numbering": 1,
   "nav_menu": {},
   "number_sections": true,
   "sideBar": true,
   "skip_h1_title": false,
   "title_cell": "Table of Contents",
   "title_sidebar": "Contents",
   "toc_cell": false,
   "toc_position": {},
   "toc_section_display": true,
   "toc_window_display": false
  }
 },
 "nbformat": 4,
 "nbformat_minor": 1
}
