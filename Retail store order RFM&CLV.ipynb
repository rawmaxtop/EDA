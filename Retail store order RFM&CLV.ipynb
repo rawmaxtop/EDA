{
 "cells": [
  {
   "cell_type": "markdown",
   "id": "fancy-virginia",
   "metadata": {},
   "source": [
    "# 一、项目背景\n",
    "通过\"扫描\"零售商店电子销售点个别产品的条形码而获得的消费品销售的详细数据。这些数据提供了有关所售商品的数量、特征和价值以及价格的详细信息。"
   ]
  },
  {
   "cell_type": "markdown",
   "id": "closing-slovak",
   "metadata": {},
   "source": [
    "# 二、数据来源\n",
    "https://www.kaggle.com/marian447/retail-store-sales-transactions"
   ]
  },
  {
   "cell_type": "markdown",
   "id": "alleged-vessel",
   "metadata": {},
   "source": [
    "# 三、提出问题\n",
    "- 消费情况分析及用户购买模式分析\n",
    "- RFM和CLV分析\n",
    "- 不同类别商品关联规则挖掘"
   ]
  },
  {
   "cell_type": "markdown",
   "id": "freelance-selection",
   "metadata": {},
   "source": [
    "# 四、理解数据\n",
    "- Date：购买日期\n",
    "- Customer_ID：用户ID\n",
    "- Transaction_ID：交易ID\n",
    "- SKU_Category：商品分类SKU编码\n",
    "- SKU：商品唯一SKU编码\n",
    "- Quantity：购买数量\n",
    "- Sales_Amount：购买金额"
   ]
  },
  {
   "cell_type": "markdown",
   "id": "analyzed-evaluation",
   "metadata": {},
   "source": [
    "# 五、数据清洗\n",
    "## 1.导入数据"
   ]
  },
  {
   "cell_type": "code",
   "execution_count": 4,
   "id": "civil-luther",
   "metadata": {},
   "outputs": [],
   "source": [
    "import numpy as np\n",
    "import pandas as pd\n",
    "from matplotlib import pyplot as plt\n",
    "import seaborn as sns\n",
    "%matplotlib inline\n",
    "# 更改设计风格\n",
    "plt.style.use('ggplot')\n",
    "plt.rcParams['font.sans-serif'] = ['SimHei']"
   ]
  },
  {
   "cell_type": "code",
   "execution_count": 5,
   "id": "entitled-healthcare",
   "metadata": {},
   "outputs": [
    {
     "data": {
      "text/html": [
       "<div>\n",
       "<style scoped>\n",
       "    .dataframe tbody tr th:only-of-type {\n",
       "        vertical-align: middle;\n",
       "    }\n",
       "\n",
       "    .dataframe tbody tr th {\n",
       "        vertical-align: top;\n",
       "    }\n",
       "\n",
       "    .dataframe thead th {\n",
       "        text-align: right;\n",
       "    }\n",
       "</style>\n",
       "<table border=\"1\" class=\"dataframe\">\n",
       "  <thead>\n",
       "    <tr style=\"text-align: right;\">\n",
       "      <th></th>\n",
       "      <th>Unnamed: 0</th>\n",
       "      <th>Date</th>\n",
       "      <th>Customer_ID</th>\n",
       "      <th>Transaction_ID</th>\n",
       "      <th>SKU_Category</th>\n",
       "      <th>SKU</th>\n",
       "      <th>Quantity</th>\n",
       "      <th>Sales_Amount</th>\n",
       "    </tr>\n",
       "  </thead>\n",
       "  <tbody>\n",
       "    <tr>\n",
       "      <th>0</th>\n",
       "      <td>1</td>\n",
       "      <td>02/01/2016</td>\n",
       "      <td>2547</td>\n",
       "      <td>1</td>\n",
       "      <td>X52</td>\n",
       "      <td>0EM7L</td>\n",
       "      <td>1.0</td>\n",
       "      <td>3.13</td>\n",
       "    </tr>\n",
       "    <tr>\n",
       "      <th>1</th>\n",
       "      <td>2</td>\n",
       "      <td>02/01/2016</td>\n",
       "      <td>822</td>\n",
       "      <td>2</td>\n",
       "      <td>2ML</td>\n",
       "      <td>68BRQ</td>\n",
       "      <td>1.0</td>\n",
       "      <td>5.46</td>\n",
       "    </tr>\n",
       "    <tr>\n",
       "      <th>2</th>\n",
       "      <td>3</td>\n",
       "      <td>02/01/2016</td>\n",
       "      <td>3686</td>\n",
       "      <td>3</td>\n",
       "      <td>0H2</td>\n",
       "      <td>CZUZX</td>\n",
       "      <td>1.0</td>\n",
       "      <td>6.35</td>\n",
       "    </tr>\n",
       "    <tr>\n",
       "      <th>3</th>\n",
       "      <td>4</td>\n",
       "      <td>02/01/2016</td>\n",
       "      <td>3719</td>\n",
       "      <td>4</td>\n",
       "      <td>0H2</td>\n",
       "      <td>549KK</td>\n",
       "      <td>1.0</td>\n",
       "      <td>5.59</td>\n",
       "    </tr>\n",
       "    <tr>\n",
       "      <th>4</th>\n",
       "      <td>5</td>\n",
       "      <td>02/01/2016</td>\n",
       "      <td>9200</td>\n",
       "      <td>5</td>\n",
       "      <td>0H2</td>\n",
       "      <td>K8EHH</td>\n",
       "      <td>1.0</td>\n",
       "      <td>6.88</td>\n",
       "    </tr>\n",
       "  </tbody>\n",
       "</table>\n",
       "</div>"
      ],
      "text/plain": [
       "   Unnamed: 0        Date  Customer_ID  Transaction_ID SKU_Category    SKU  \\\n",
       "0           1  02/01/2016         2547               1          X52  0EM7L   \n",
       "1           2  02/01/2016          822               2          2ML  68BRQ   \n",
       "2           3  02/01/2016         3686               3          0H2  CZUZX   \n",
       "3           4  02/01/2016         3719               4          0H2  549KK   \n",
       "4           5  02/01/2016         9200               5          0H2  K8EHH   \n",
       "\n",
       "   Quantity  Sales_Amount  \n",
       "0       1.0          3.13  \n",
       "1       1.0          5.46  \n",
       "2       1.0          6.35  \n",
       "3       1.0          5.59  \n",
       "4       1.0          6.88  "
      ]
     },
     "execution_count": 5,
     "metadata": {},
     "output_type": "execute_result"
    }
   ],
   "source": [
    "df = pd.read_csv('./scanner_data.csv')\n",
    "df.head()"
   ]
  },
  {
   "cell_type": "code",
   "execution_count": 6,
   "id": "southeast-employment",
   "metadata": {},
   "outputs": [
    {
     "name": "stdout",
     "output_type": "stream",
     "text": [
      "<class 'pandas.core.frame.DataFrame'>\n",
      "RangeIndex: 131706 entries, 0 to 131705\n",
      "Data columns (total 8 columns):\n",
      " #   Column          Non-Null Count   Dtype  \n",
      "---  ------          --------------   -----  \n",
      " 0   Unnamed: 0      131706 non-null  int64  \n",
      " 1   Date            131706 non-null  object \n",
      " 2   Customer_ID     131706 non-null  int64  \n",
      " 3   Transaction_ID  131706 non-null  int64  \n",
      " 4   SKU_Category    131706 non-null  object \n",
      " 5   SKU             131706 non-null  object \n",
      " 6   Quantity        131706 non-null  float64\n",
      " 7   Sales_Amount    131706 non-null  float64\n",
      "dtypes: float64(2), int64(3), object(3)\n",
      "memory usage: 8.0+ MB\n"
     ]
    }
   ],
   "source": [
    "df.info()"
   ]
  },
  {
   "cell_type": "markdown",
   "id": "forbidden-premises",
   "metadata": {},
   "source": [
    "## 2.选择子集\n",
    "第一列为数据编号，已有索引故删除"
   ]
  },
  {
   "cell_type": "code",
   "execution_count": 8,
   "id": "fitted-cleaning",
   "metadata": {},
   "outputs": [
    {
     "name": "stdout",
     "output_type": "stream",
     "text": [
      "<class 'pandas.core.frame.DataFrame'>\n",
      "RangeIndex: 131706 entries, 0 to 131705\n",
      "Data columns (total 7 columns):\n",
      " #   Column          Non-Null Count   Dtype  \n",
      "---  ------          --------------   -----  \n",
      " 0   Date            131706 non-null  object \n",
      " 1   Customer_ID     131706 non-null  int64  \n",
      " 2   Transaction_ID  131706 non-null  int64  \n",
      " 3   SKU_Category    131706 non-null  object \n",
      " 4   SKU             131706 non-null  object \n",
      " 5   Quantity        131706 non-null  float64\n",
      " 6   Sales_Amount    131706 non-null  float64\n",
      "dtypes: float64(2), int64(2), object(3)\n",
      "memory usage: 7.0+ MB\n"
     ]
    }
   ],
   "source": [
    "df.drop(columns='Unnamed: 0', inplace=True)\n",
    "df.info()"
   ]
  },
  {
   "cell_type": "markdown",
   "id": "previous-combine",
   "metadata": {},
   "source": [
    "## 3.删除重复值"
   ]
  },
  {
   "cell_type": "code",
   "execution_count": 9,
   "id": "certain-annual",
   "metadata": {},
   "outputs": [
    {
     "data": {
      "text/plain": [
       "0"
      ]
     },
     "execution_count": 9,
     "metadata": {},
     "output_type": "execute_result"
    }
   ],
   "source": [
    "df.duplicated().sum()"
   ]
  },
  {
   "cell_type": "markdown",
   "id": "direct-peripheral",
   "metadata": {},
   "source": [
    "## 4. 缺失值处理"
   ]
  },
  {
   "cell_type": "code",
   "execution_count": 10,
   "id": "separated-alloy",
   "metadata": {},
   "outputs": [
    {
     "data": {
      "text/plain": [
       "Date              0\n",
       "Customer_ID       0\n",
       "Transaction_ID    0\n",
       "SKU_Category      0\n",
       "SKU               0\n",
       "Quantity          0\n",
       "Sales_Amount      0\n",
       "dtype: int64"
      ]
     },
     "execution_count": 10,
     "metadata": {},
     "output_type": "execute_result"
    }
   ],
   "source": [
    "df.isnull().sum()"
   ]
  },
  {
   "cell_type": "markdown",
   "id": "binary-career",
   "metadata": {},
   "source": [
    "## 5. 标准化处理"
   ]
  },
  {
   "cell_type": "code",
   "execution_count": 11,
   "id": "hawaiian-bottom",
   "metadata": {},
   "outputs": [
    {
     "data": {
      "text/plain": [
       "Date               object\n",
       "Customer_ID         int64\n",
       "Transaction_ID      int64\n",
       "SKU_Category       object\n",
       "SKU                object\n",
       "Quantity          float64\n",
       "Sales_Amount      float64\n",
       "dtype: object"
      ]
     },
     "execution_count": 11,
     "metadata": {},
     "output_type": "execute_result"
    }
   ],
   "source": [
    "df.dtypes"
   ]
  },
  {
   "cell_type": "markdown",
   "id": "drawn-junior",
   "metadata": {},
   "source": [
    "Date为对象类型，需要标准化为日期类型格式"
   ]
  },
  {
   "cell_type": "code",
   "execution_count": 18,
   "id": "straight-cancellation",
   "metadata": {},
   "outputs": [
    {
     "data": {
      "text/plain": [
       "Date              datetime64[ns]\n",
       "Customer_ID                int64\n",
       "Transaction_ID             int64\n",
       "SKU_Category              object\n",
       "SKU                       object\n",
       "Quantity                 float64\n",
       "Sales_Amount             float64\n",
       "dtype: object"
      ]
     },
     "execution_count": 18,
     "metadata": {},
     "output_type": "execute_result"
    }
   ],
   "source": [
    "df.Date = pd.to_datetime(df.Date, format=\"%d/%m/%Y\")\n",
    "df.dtypes"
   ]
  },
  {
   "cell_type": "markdown",
   "id": "drawn-adrian",
   "metadata": {},
   "source": [
    "## 6. 异常值处理"
   ]
  },
  {
   "cell_type": "code",
   "execution_count": 20,
   "id": "statutory-daisy",
   "metadata": {},
   "outputs": [
    {
     "data": {
      "text/html": [
       "<div>\n",
       "<style scoped>\n",
       "    .dataframe tbody tr th:only-of-type {\n",
       "        vertical-align: middle;\n",
       "    }\n",
       "\n",
       "    .dataframe tbody tr th {\n",
       "        vertical-align: top;\n",
       "    }\n",
       "\n",
       "    .dataframe thead th {\n",
       "        text-align: right;\n",
       "    }\n",
       "</style>\n",
       "<table border=\"1\" class=\"dataframe\">\n",
       "  <thead>\n",
       "    <tr style=\"text-align: right;\">\n",
       "      <th></th>\n",
       "      <th>Quantity</th>\n",
       "      <th>Sales_Amount</th>\n",
       "    </tr>\n",
       "  </thead>\n",
       "  <tbody>\n",
       "    <tr>\n",
       "      <th>count</th>\n",
       "      <td>131706.000000</td>\n",
       "      <td>131706.000000</td>\n",
       "    </tr>\n",
       "    <tr>\n",
       "      <th>mean</th>\n",
       "      <td>1.485311</td>\n",
       "      <td>11.981524</td>\n",
       "    </tr>\n",
       "    <tr>\n",
       "      <th>std</th>\n",
       "      <td>3.872667</td>\n",
       "      <td>19.359699</td>\n",
       "    </tr>\n",
       "    <tr>\n",
       "      <th>min</th>\n",
       "      <td>0.010000</td>\n",
       "      <td>0.020000</td>\n",
       "    </tr>\n",
       "    <tr>\n",
       "      <th>25%</th>\n",
       "      <td>1.000000</td>\n",
       "      <td>4.230000</td>\n",
       "    </tr>\n",
       "    <tr>\n",
       "      <th>50%</th>\n",
       "      <td>1.000000</td>\n",
       "      <td>6.920000</td>\n",
       "    </tr>\n",
       "    <tr>\n",
       "      <th>75%</th>\n",
       "      <td>1.000000</td>\n",
       "      <td>12.330000</td>\n",
       "    </tr>\n",
       "    <tr>\n",
       "      <th>max</th>\n",
       "      <td>400.000000</td>\n",
       "      <td>707.730000</td>\n",
       "    </tr>\n",
       "  </tbody>\n",
       "</table>\n",
       "</div>"
      ],
      "text/plain": [
       "            Quantity   Sales_Amount\n",
       "count  131706.000000  131706.000000\n",
       "mean        1.485311      11.981524\n",
       "std         3.872667      19.359699\n",
       "min         0.010000       0.020000\n",
       "25%         1.000000       4.230000\n",
       "50%         1.000000       6.920000\n",
       "75%         1.000000      12.330000\n",
       "max       400.000000     707.730000"
      ]
     },
     "execution_count": 20,
     "metadata": {},
     "output_type": "execute_result"
    }
   ],
   "source": [
    "df[['Quantity','Sales_Amount']].describe()"
   ]
  },
  {
   "cell_type": "markdown",
   "id": "eligible-group",
   "metadata": {},
   "source": [
    "购买数量存在小于1是由于称重单位不足1所致，非异常值"
   ]
  },
  {
   "cell_type": "markdown",
   "id": "alternate-information",
   "metadata": {},
   "source": [
    "# 六、分析内容\n",
    "## 1.消费情况按月分析\n",
    "（1）每月消费总金额趋势分析"
   ]
  },
  {
   "cell_type": "code",
   "execution_count": 22,
   "id": "electric-preparation",
   "metadata": {},
   "outputs": [
    {
     "data": {
      "text/html": [
       "<div>\n",
       "<style scoped>\n",
       "    .dataframe tbody tr th:only-of-type {\n",
       "        vertical-align: middle;\n",
       "    }\n",
       "\n",
       "    .dataframe tbody tr th {\n",
       "        vertical-align: top;\n",
       "    }\n",
       "\n",
       "    .dataframe thead th {\n",
       "        text-align: right;\n",
       "    }\n",
       "</style>\n",
       "<table border=\"1\" class=\"dataframe\">\n",
       "  <thead>\n",
       "    <tr style=\"text-align: right;\">\n",
       "      <th></th>\n",
       "      <th>Date</th>\n",
       "      <th>Customer_ID</th>\n",
       "      <th>Transaction_ID</th>\n",
       "      <th>SKU_Category</th>\n",
       "      <th>SKU</th>\n",
       "      <th>Quantity</th>\n",
       "      <th>Sales_Amount</th>\n",
       "      <th>Month</th>\n",
       "    </tr>\n",
       "  </thead>\n",
       "  <tbody>\n",
       "    <tr>\n",
       "      <th>0</th>\n",
       "      <td>2016-01-02</td>\n",
       "      <td>2547</td>\n",
       "      <td>1</td>\n",
       "      <td>X52</td>\n",
       "      <td>0EM7L</td>\n",
       "      <td>1.0</td>\n",
       "      <td>3.13</td>\n",
       "      <td>2016-01-01</td>\n",
       "    </tr>\n",
       "    <tr>\n",
       "      <th>1</th>\n",
       "      <td>2016-01-02</td>\n",
       "      <td>822</td>\n",
       "      <td>2</td>\n",
       "      <td>2ML</td>\n",
       "      <td>68BRQ</td>\n",
       "      <td>1.0</td>\n",
       "      <td>5.46</td>\n",
       "      <td>2016-01-01</td>\n",
       "    </tr>\n",
       "    <tr>\n",
       "      <th>2</th>\n",
       "      <td>2016-01-02</td>\n",
       "      <td>3686</td>\n",
       "      <td>3</td>\n",
       "      <td>0H2</td>\n",
       "      <td>CZUZX</td>\n",
       "      <td>1.0</td>\n",
       "      <td>6.35</td>\n",
       "      <td>2016-01-01</td>\n",
       "    </tr>\n",
       "    <tr>\n",
       "      <th>3</th>\n",
       "      <td>2016-01-02</td>\n",
       "      <td>3719</td>\n",
       "      <td>4</td>\n",
       "      <td>0H2</td>\n",
       "      <td>549KK</td>\n",
       "      <td>1.0</td>\n",
       "      <td>5.59</td>\n",
       "      <td>2016-01-01</td>\n",
       "    </tr>\n",
       "    <tr>\n",
       "      <th>4</th>\n",
       "      <td>2016-01-02</td>\n",
       "      <td>9200</td>\n",
       "      <td>5</td>\n",
       "      <td>0H2</td>\n",
       "      <td>K8EHH</td>\n",
       "      <td>1.0</td>\n",
       "      <td>6.88</td>\n",
       "      <td>2016-01-01</td>\n",
       "    </tr>\n",
       "  </tbody>\n",
       "</table>\n",
       "</div>"
      ],
      "text/plain": [
       "        Date  Customer_ID  Transaction_ID SKU_Category    SKU  Quantity  \\\n",
       "0 2016-01-02         2547               1          X52  0EM7L       1.0   \n",
       "1 2016-01-02          822               2          2ML  68BRQ       1.0   \n",
       "2 2016-01-02         3686               3          0H2  CZUZX       1.0   \n",
       "3 2016-01-02         3719               4          0H2  549KK       1.0   \n",
       "4 2016-01-02         9200               5          0H2  K8EHH       1.0   \n",
       "\n",
       "   Sales_Amount      Month  \n",
       "0          3.13 2016-01-01  \n",
       "1          5.46 2016-01-01  \n",
       "2          6.35 2016-01-01  \n",
       "3          5.59 2016-01-01  \n",
       "4          6.88 2016-01-01  "
      ]
     },
     "execution_count": 22,
     "metadata": {},
     "output_type": "execute_result"
    }
   ],
   "source": [
    "df['Month'] = df.Date.astype('datetime64[M]')\n",
    "df.head()"
   ]
  },
  {
   "cell_type": "code",
   "execution_count": 23,
   "id": "compressed-lodge",
   "metadata": {},
   "outputs": [],
   "source": [
    "grouped_month = df.groupby('Month')"
   ]
  },
  {
   "cell_type": "code",
   "execution_count": 24,
   "id": "pediatric-stone",
   "metadata": {},
   "outputs": [
    {
     "data": {
      "text/plain": [
       "Month\n",
       "2016-01-01    111200.28\n",
       "2016-02-01    122114.61\n",
       "2016-03-01    127924.54\n",
       "2016-04-01    138172.11\n",
       "2016-05-01    142719.86\n",
       "2016-06-01    131305.35\n",
       "2016-07-01    120591.97\n",
       "2016-08-01    116908.98\n",
       "2016-09-01    141239.89\n",
       "2016-10-01    140853.51\n",
       "2016-11-01    132883.33\n",
       "2016-12-01    152124.19\n",
       "Name: Sales_Amount, dtype: float64"
      ]
     },
     "execution_count": 24,
     "metadata": {},
     "output_type": "execute_result"
    }
   ],
   "source": [
    "grouped_month.Sales_Amount.sum()"
   ]
  },
  {
   "cell_type": "code",
   "execution_count": null,
   "id": "registered-peninsula",
   "metadata": {},
   "outputs": [],
   "source": [
    "2018年1月数据可能统计不全，不纳入趋势分析"
   ]
  },
  {
   "cell_type": "code",
   "execution_count": 25,
   "id": "developing-indonesia",
   "metadata": {},
   "outputs": [
    {
     "data": {
      "text/plain": [
       "<AxesSubplot:xlabel='Month'>"
      ]
     },
     "execution_count": 25,
     "metadata": {},
     "output_type": "execute_result"
    },
    {
     "data": {
      "image/png": "[encoded data removed]",
      "text/plain": [
       "<Figure size 432x288 with 1 Axes>"
      ]
     },
     "metadata": {},
     "output_type": "display_data"
    }
   ],
   "source": [
    "grouped_month.Sales_Amount.sum().head(12).plot()"
   ]
  },
  {
   "cell_type": "markdown",
   "id": "coated-thumbnail",
   "metadata": {},
   "source": [
    "- 由上图可知：消费金额波动较大，其中第一季度保持持续上升，后续波动较大，整体呈上升趋势\n",
    "\n",
    "（2）每月交易次数趋势分析"
   ]
  },
  {
   "cell_type": "code",
   "execution_count": 26,
   "id": "detailed-genetics",
   "metadata": {},
   "outputs": [
    {
     "data": {
      "text/plain": [
       "<AxesSubplot:xlabel='Month'>"
      ]
     },
     "execution_count": 26,
     "metadata": {},
     "output_type": "execute_result"
    },
    {
     "data": {
      "image/png": "[encoded data removed]",
      "text/plain": [
       "<Figure size 432x288 with 1 Axes>"
      ]
     },
     "metadata": {},
     "output_type": "display_data"
    }
   ],
   "source": [
    "grouped_month.Transaction_ID.nunique().head(12).plot()"
   ]
  },
  {
   "cell_type": "markdown",
   "id": "positive-testament",
   "metadata": {},
   "source": [
    "- 由上图可知：交易次数波动较大，前期呈上升趋势，五月之后交易次数开始下降，在八月降至最低值，后续开始波动回升，在十二月份重回峰值\n",
    "\n",
    "（3）每月商品购买数量趋势分析"
   ]
  },
  {
   "cell_type": "code",
   "execution_count": 28,
   "id": "animated-qualification",
   "metadata": {},
   "outputs": [
    {
     "data": {
      "text/plain": [
       "<AxesSubplot:xlabel='Month'>"
      ]
     },
     "execution_count": 28,
     "metadata": {},
     "output_type": "execute_result"
    },
    {
     "data": {
      "image/png": "[encoded data removed]",
      "text/plain": [
       "<Figure size 432x288 with 1 Axes>"
      ]
     },
     "metadata": {},
     "output_type": "display_data"
    }
   ],
   "source": [
    "grouped_month.Quantity.sum().head(12).plot()"
   ]
  },
  {
   "cell_type": "markdown",
   "id": "statutory-bahrain",
   "metadata": {},
   "source": [
    "由上图可知：商品购买数量波动较大，整体趋势同交易次数保持一致"
   ]
  },
  {
   "cell_type": "markdown",
   "id": "conditional-apple",
   "metadata": {},
   "source": [
    "（4）每月消费人数趋势分析"
   ]
  },
  {
   "cell_type": "code",
   "execution_count": 29,
   "id": "informational-waters",
   "metadata": {},
   "outputs": [
    {
     "data": {
      "text/plain": [
       "<AxesSubplot:xlabel='Month'>"
      ]
     },
     "execution_count": 29,
     "metadata": {},
     "output_type": "execute_result"
    },
    {
     "data": {
      "image/png": "[encoded data removed]",
      "text/plain": [
       "<Figure size 432x288 with 1 Axes>"
      ]
     },
     "metadata": {},
     "output_type": "display_data"
    }
   ],
   "source": [
    "grouped_month.Customer_ID.nunique().head(12).plot()"
   ]
  },
  {
   "cell_type": "markdown",
   "id": "terminal-activation",
   "metadata": {},
   "source": [
    "由上图可知：每月购买人数可分简单为三个阶段，1-5月呈持续上升趋势，6—8呈持续下降趋势，9-12月呈波动上升趋势"
   ]
  },
  {
   "cell_type": "markdown",
   "id": "toxic-beach",
   "metadata": {},
   "source": [
    "## 2.用户分布分析\n",
    "（1）新用户分布"
   ]
  },
  {
   "cell_type": "code",
   "execution_count": 77,
   "id": "olympic-friendship",
   "metadata": {},
   "outputs": [
    {
     "data": {
      "text/plain": [
       "<AxesSubplot:>"
      ]
     },
     "execution_count": 77,
     "metadata": {},
     "output_type": "execute_result"
    },
    {
     "data": {
      "image/png": "[encoded data removed]",
      "text/plain": [
       "<Figure size 432x288 with 1 Axes>"
      ]
     },
     "metadata": {},
     "output_type": "display_data"
    }
   ],
   "source": [
    "grouped_customer = df.groupby('Customer_ID')\n",
    "grouped_customer.Date.min().value_counts().plot()"
   ]
  },
  {
   "cell_type": "markdown",
   "id": "funky-think",
   "metadata": {},
   "source": [
    "由上图可知：新用户获取不稳定，波动较大，整体有略微下降趋势"
   ]
  },
  {
   "cell_type": "code",
   "execution_count": 68,
   "id": "likely-integration",
   "metadata": {},
   "outputs": [
    {
     "data": {
      "text/plain": [
       "<AxesSubplot:>"
      ]
     },
     "execution_count": 68,
     "metadata": {},
     "output_type": "execute_result"
    },
    {
     "data": {
      "image/png": "[encoded data removed]",
      "text/plain": [
       "<Figure size 432x288 with 1 Axes>"
      ]
     },
     "metadata": {},
     "output_type": "display_data"
    }
   ],
   "source": [
    "grouped_customer.Month.min().value_counts().plot()"
   ]
  },
  {
   "cell_type": "markdown",
   "id": "least-laser",
   "metadata": {},
   "source": [
    "- 由上图可知：按月统计，每月新用户用户数有明显下降趋势。说明新用户获取呈大幅下降趋势，需要引起注意，适当增加营销活动提升新用户的获取\n"
   ]
  },
  {
   "cell_type": "markdown",
   "id": "sound-ending",
   "metadata": {},
   "source": [
    "(2) 一次消费及多次消费用户占比分析"
   ]
  },
  {
   "cell_type": "code",
   "execution_count": 34,
   "id": "ceramic-services",
   "metadata": {},
   "outputs": [
    {
     "data": {
      "text/plain": [
       "0.5098342541436464"
      ]
     },
     "execution_count": 34,
     "metadata": {},
     "output_type": "execute_result"
    }
   ],
   "source": [
    "#仅消费一次用户占比\n",
    "(grouped_customer.Transaction_ID.nunique() == 1).sum()/df.Customer_ID.nunique()"
   ]
  },
  {
   "cell_type": "markdown",
   "id": "rational-northwest",
   "metadata": {},
   "source": [
    "- 由计算得：存在一半的用户只进行了一次消费"
   ]
  },
  {
   "cell_type": "code",
   "execution_count": 78,
   "id": "figured-oregon",
   "metadata": {},
   "outputs": [],
   "source": [
    "grouped_month_customer = df.groupby(['Month', 'Customer_ID'])"
   ]
  },
  {
   "cell_type": "code",
   "execution_count": 79,
   "id": "transparent-sessions",
   "metadata": {},
   "outputs": [],
   "source": [
    "#每个用户每月的第一次购买时间\n",
    "data_month_min_date = grouped_month_customer.Date.min().reset_index()\n",
    "#每个用户的第一次购买时间\n",
    "data_min_date = grouped_customer.Date.min().reset_index()"
   ]
  },
  {
   "cell_type": "code",
   "execution_count": 80,
   "id": "mighty-birthday",
   "metadata": {},
   "outputs": [
    {
     "data": {
      "text/html": [
       "<div>\n",
       "<style scoped>\n",
       "    .dataframe tbody tr th:only-of-type {\n",
       "        vertical-align: middle;\n",
       "    }\n",
       "\n",
       "    .dataframe tbody tr th {\n",
       "        vertical-align: top;\n",
       "    }\n",
       "\n",
       "    .dataframe thead th {\n",
       "        text-align: right;\n",
       "    }\n",
       "</style>\n",
       "<table border=\"1\" class=\"dataframe\">\n",
       "  <thead>\n",
       "    <tr style=\"text-align: right;\">\n",
       "      <th></th>\n",
       "      <th>Month</th>\n",
       "      <th>Customer_ID</th>\n",
       "      <th>Date_x</th>\n",
       "      <th>Date_y</th>\n",
       "    </tr>\n",
       "  </thead>\n",
       "  <tbody>\n",
       "    <tr>\n",
       "      <th>0</th>\n",
       "      <td>2016-01-01</td>\n",
       "      <td>1</td>\n",
       "      <td>2016-01-22</td>\n",
       "      <td>2016-01-22</td>\n",
       "    </tr>\n",
       "    <tr>\n",
       "      <th>1</th>\n",
       "      <td>2016-01-01</td>\n",
       "      <td>3</td>\n",
       "      <td>2016-01-02</td>\n",
       "      <td>2016-01-02</td>\n",
       "    </tr>\n",
       "    <tr>\n",
       "      <th>2</th>\n",
       "      <td>2016-01-01</td>\n",
       "      <td>11</td>\n",
       "      <td>2016-01-29</td>\n",
       "      <td>2016-01-29</td>\n",
       "    </tr>\n",
       "    <tr>\n",
       "      <th>3</th>\n",
       "      <td>2016-01-01</td>\n",
       "      <td>12</td>\n",
       "      <td>2016-01-07</td>\n",
       "      <td>2016-01-07</td>\n",
       "    </tr>\n",
       "    <tr>\n",
       "      <th>4</th>\n",
       "      <td>2016-01-01</td>\n",
       "      <td>13</td>\n",
       "      <td>2016-01-11</td>\n",
       "      <td>2016-01-11</td>\n",
       "    </tr>\n",
       "  </tbody>\n",
       "</table>\n",
       "</div>"
      ],
      "text/plain": [
       "       Month  Customer_ID     Date_x     Date_y\n",
       "0 2016-01-01            1 2016-01-22 2016-01-22\n",
       "1 2016-01-01            3 2016-01-02 2016-01-02\n",
       "2 2016-01-01           11 2016-01-29 2016-01-29\n",
       "3 2016-01-01           12 2016-01-07 2016-01-07\n",
       "4 2016-01-01           13 2016-01-11 2016-01-11"
      ]
     },
     "execution_count": 80,
     "metadata": {},
     "output_type": "execute_result"
    }
   ],
   "source": [
    "#通过Customer_ID联立两表\n",
    "merged_date = pd.merge(data_month_min_date, data_min_date, on='Customer_ID')\n",
    "merged_date.head()"
   ]
  },
  {
   "cell_type": "code",
   "execution_count": 81,
   "id": "south-thousand",
   "metadata": {},
   "outputs": [
    {
     "data": {
      "text/plain": [
       "<AxesSubplot:xlabel='Month'>"
      ]
     },
     "execution_count": 81,
     "metadata": {},
     "output_type": "execute_result"
    },
    {
     "data": {
      "image/png": "[encoded data removed]",
      "text/plain": [
       "<Figure size 432x288 with 1 Axes>"
      ]
     },
     "metadata": {},
     "output_type": "display_data"
    }
   ],
   "source": [
    "#Date_x等于Date_y则为每月新用户\n",
    "((merged_date.query('Date_x == Date_y')).groupby('Month').Customer_ID.count() / merged_date.groupby('Month').Customer_ID.count()).plot()"
   ]
  },
  {
   "cell_type": "markdown",
   "id": "arranged-heritage",
   "metadata": {},
   "source": [
    "- 由上图可知：每月新用户占比整体呈下降趋势，结合每月消费人数趋势可知，第四季度消费人数有上升趋势，故期间复购人数有所提升"
   ]
  },
  {
   "cell_type": "markdown",
   "id": "saving-piece",
   "metadata": {},
   "source": [
    "## 3.用户分层分析\n",
    "（1）RFM分层分析"
   ]
  },
  {
   "cell_type": "code",
   "execution_count": 87,
   "id": "dense-interaction",
   "metadata": {},
   "outputs": [
    {
     "data": {
      "text/html": [
       "<div>\n",
       "<style scoped>\n",
       "    .dataframe tbody tr th:only-of-type {\n",
       "        vertical-align: middle;\n",
       "    }\n",
       "\n",
       "    .dataframe tbody tr th {\n",
       "        vertical-align: top;\n",
       "    }\n",
       "\n",
       "    .dataframe thead th {\n",
       "        text-align: right;\n",
       "    }\n",
       "</style>\n",
       "<table border=\"1\" class=\"dataframe\">\n",
       "  <thead>\n",
       "    <tr style=\"text-align: right;\">\n",
       "      <th></th>\n",
       "      <th>Date</th>\n",
       "      <th>Sales_Amount</th>\n",
       "      <th>Transaction_ID</th>\n",
       "    </tr>\n",
       "    <tr>\n",
       "      <th>Customer_ID</th>\n",
       "      <th></th>\n",
       "      <th></th>\n",
       "      <th></th>\n",
       "    </tr>\n",
       "  </thead>\n",
       "  <tbody>\n",
       "    <tr>\n",
       "      <th>1</th>\n",
       "      <td>2016-01-22</td>\n",
       "      <td>16.29</td>\n",
       "      <td>1</td>\n",
       "    </tr>\n",
       "    <tr>\n",
       "      <th>2</th>\n",
       "      <td>2016-06-19</td>\n",
       "      <td>22.77</td>\n",
       "      <td>2</td>\n",
       "    </tr>\n",
       "    <tr>\n",
       "      <th>3</th>\n",
       "      <td>2016-01-02</td>\n",
       "      <td>10.92</td>\n",
       "      <td>1</td>\n",
       "    </tr>\n",
       "    <tr>\n",
       "      <th>4</th>\n",
       "      <td>2016-11-09</td>\n",
       "      <td>33.29</td>\n",
       "      <td>2</td>\n",
       "    </tr>\n",
       "    <tr>\n",
       "      <th>5</th>\n",
       "      <td>2016-07-05</td>\n",
       "      <td>78.82</td>\n",
       "      <td>5</td>\n",
       "    </tr>\n",
       "    <tr>\n",
       "      <th>...</th>\n",
       "      <td>...</td>\n",
       "      <td>...</td>\n",
       "      <td>...</td>\n",
       "    </tr>\n",
       "    <tr>\n",
       "      <th>22621</th>\n",
       "      <td>2016-12-10</td>\n",
       "      <td>9.69</td>\n",
       "      <td>1</td>\n",
       "    </tr>\n",
       "    <tr>\n",
       "      <th>22622</th>\n",
       "      <td>2016-12-16</td>\n",
       "      <td>6.07</td>\n",
       "      <td>1</td>\n",
       "    </tr>\n",
       "    <tr>\n",
       "      <th>22623</th>\n",
       "      <td>2016-12-21</td>\n",
       "      <td>128.01</td>\n",
       "      <td>1</td>\n",
       "    </tr>\n",
       "    <tr>\n",
       "      <th>22624</th>\n",
       "      <td>2016-12-02</td>\n",
       "      <td>19.60</td>\n",
       "      <td>1</td>\n",
       "    </tr>\n",
       "    <tr>\n",
       "      <th>22625</th>\n",
       "      <td>2016-12-31</td>\n",
       "      <td>83.62</td>\n",
       "      <td>4</td>\n",
       "    </tr>\n",
       "  </tbody>\n",
       "</table>\n",
       "<p>22625 rows × 3 columns</p>\n",
       "</div>"
      ],
      "text/plain": [
       "                  Date  Sales_Amount  Transaction_ID\n",
       "Customer_ID                                         \n",
       "1           2016-01-22         16.29               1\n",
       "2           2016-06-19         22.77               2\n",
       "3           2016-01-02         10.92               1\n",
       "4           2016-11-09         33.29               2\n",
       "5           2016-07-05         78.82               5\n",
       "...                ...           ...             ...\n",
       "22621       2016-12-10          9.69               1\n",
       "22622       2016-12-16          6.07               1\n",
       "22623       2016-12-21        128.01               1\n",
       "22624       2016-12-02         19.60               1\n",
       "22625       2016-12-31         83.62               4\n",
       "\n",
       "[22625 rows x 3 columns]"
      ]
     },
     "execution_count": 87,
     "metadata": {},
     "output_type": "execute_result"
    }
   ],
   "source": [
    "pivot_rfm = df.pivot_table(index='Customer_ID',\n",
    "              values=['Date', 'Transaction_ID', 'Sales_Amount'],\n",
    "              aggfunc={'Date':'max', 'Transaction_ID':'nunique', 'Sales_Amount':'sum'})\n",
    "pivot_rfm"
   ]
  },
  {
   "cell_type": "code",
   "execution_count": 83,
   "id": "offshore-portfolio",
   "metadata": {},
   "outputs": [],
   "source": [
    "pivot_rfm['R'] = (pivot_rfm.Date.max() - pivot_rfm.Date)/np.timedelta64(1, 'D')\n",
    "pivot_rfm.rename(columns={'Transaction_ID':'F', 'Sales_Amount':'M'}, inplace=True)"
   ]
  },
  {
   "cell_type": "code",
   "execution_count": 84,
   "id": "electric-press",
   "metadata": {},
   "outputs": [],
   "source": [
    "def label_func(data):\n",
    "    label = data.apply(lambda x:'1' if x > 0 else '0')\n",
    "    label = label.R + label.F + label.M\n",
    "    labels = {\n",
    "        '111':'重要价值客户',\n",
    "        '011':'重要保持客户',\n",
    "        '101':'重要发展客户',\n",
    "        '001':'重要挽留客户',\n",
    "        '110':'一般价值客户',\n",
    "        '010':'一般保持客户',\n",
    "        '100':'一般发展客户',\n",
    "        '000':'一般挽留客户'\n",
    "    }\n",
    "    return labels[label]\n",
    "pivot_rfm['label'] = pivot_rfm[['R','F','M']].apply(lambda x:x-x.mean()).apply(label_func, axis=1)"
   ]
  },
  {
   "cell_type": "code",
   "execution_count": 85,
   "id": "solar-sleeve",
   "metadata": {},
   "outputs": [
    {
     "data": {
      "text/plain": [
       "<AxesSubplot:>"
      ]
     },
     "execution_count": 85,
     "metadata": {},
     "output_type": "execute_result"
    },
    {
     "data": {
      "image/png": "[encoded data removed]",
      "text/plain": [
       "<Figure size 432x288 with 1 Axes>"
      ]
     },
     "metadata": {},
     "output_type": "display_data"
    }
   ],
   "source": [
    "pivot_rfm.label.value_counts().plot.barh()"
   ]
  },
  {
   "cell_type": "code",
   "execution_count": 86,
   "id": "needed-celtic",
   "metadata": {},
   "outputs": [
    {
     "data": {
      "text/plain": [
       "<AxesSubplot:ylabel='M'>"
      ]
     },
     "execution_count": 86,
     "metadata": {},
     "output_type": "execute_result"
    },
    {
     "data": {
      "image/png": "[encoded data removed]",
      "text/plain": [
       "<Figure size 432x432 with 1 Axes>"
      ]
     },
     "metadata": {},
     "output_type": "display_data"
    }
   ],
   "source": [
    "pivot_rfm.groupby('label').M.sum().plot.pie(figsize=(6,6), autopct='%3.2f%%')"
   ]
  },
  {
   "cell_type": "code",
   "execution_count": 44,
   "id": "corresponding-contemporary",
   "metadata": {},
   "outputs": [
    {
     "data": {
      "text/html": [
       "<div>\n",
       "<style scoped>\n",
       "    .dataframe tbody tr th:only-of-type {\n",
       "        vertical-align: middle;\n",
       "    }\n",
       "\n",
       "    .dataframe tbody tr th {\n",
       "        vertical-align: top;\n",
       "    }\n",
       "\n",
       "    .dataframe thead tr th {\n",
       "        text-align: left;\n",
       "    }\n",
       "\n",
       "    .dataframe thead tr:last-of-type th {\n",
       "        text-align: right;\n",
       "    }\n",
       "</style>\n",
       "<table border=\"1\" class=\"dataframe\">\n",
       "  <thead>\n",
       "    <tr>\n",
       "      <th></th>\n",
       "      <th colspan=\"2\" halign=\"left\">M</th>\n",
       "      <th colspan=\"2\" halign=\"left\">F</th>\n",
       "      <th colspan=\"2\" halign=\"left\">R</th>\n",
       "    </tr>\n",
       "    <tr>\n",
       "      <th></th>\n",
       "      <th>sum</th>\n",
       "      <th>count</th>\n",
       "      <th>sum</th>\n",
       "      <th>count</th>\n",
       "      <th>sum</th>\n",
       "      <th>count</th>\n",
       "    </tr>\n",
       "    <tr>\n",
       "      <th>label</th>\n",
       "      <th></th>\n",
       "      <th></th>\n",
       "      <th></th>\n",
       "      <th></th>\n",
       "      <th></th>\n",
       "      <th></th>\n",
       "    </tr>\n",
       "  </thead>\n",
       "  <tbody>\n",
       "    <tr>\n",
       "      <th>一般价值客户</th>\n",
       "      <td>38702.46</td>\n",
       "      <td>991</td>\n",
       "      <td>3653</td>\n",
       "      <td>991</td>\n",
       "      <td>258396.0</td>\n",
       "      <td>991</td>\n",
       "    </tr>\n",
       "    <tr>\n",
       "      <th>一般保持客户</th>\n",
       "      <td>75475.62</td>\n",
       "      <td>1802</td>\n",
       "      <td>7161</td>\n",
       "      <td>1802</td>\n",
       "      <td>97961.0</td>\n",
       "      <td>1802</td>\n",
       "    </tr>\n",
       "    <tr>\n",
       "      <th>一般发展客户</th>\n",
       "      <td>144065.48</td>\n",
       "      <td>8329</td>\n",
       "      <td>10089</td>\n",
       "      <td>8329</td>\n",
       "      <td>2256955.0</td>\n",
       "      <td>8329</td>\n",
       "    </tr>\n",
       "    <tr>\n",
       "      <th>一般挽留客户</th>\n",
       "      <td>119097.65</td>\n",
       "      <td>6313</td>\n",
       "      <td>8158</td>\n",
       "      <td>6313</td>\n",
       "      <td>443616.0</td>\n",
       "      <td>6313</td>\n",
       "    </tr>\n",
       "    <tr>\n",
       "      <th>重要价值客户</th>\n",
       "      <td>192090.11</td>\n",
       "      <td>1028</td>\n",
       "      <td>5475</td>\n",
       "      <td>1028</td>\n",
       "      <td>270431.0</td>\n",
       "      <td>1028</td>\n",
       "    </tr>\n",
       "    <tr>\n",
       "      <th>重要保持客户</th>\n",
       "      <td>860862.51</td>\n",
       "      <td>3069</td>\n",
       "      <td>28458</td>\n",
       "      <td>3069</td>\n",
       "      <td>120487.0</td>\n",
       "      <td>3069</td>\n",
       "    </tr>\n",
       "    <tr>\n",
       "      <th>重要发展客户</th>\n",
       "      <td>81377.67</td>\n",
       "      <td>600</td>\n",
       "      <td>892</td>\n",
       "      <td>600</td>\n",
       "      <td>162986.0</td>\n",
       "      <td>600</td>\n",
       "    </tr>\n",
       "    <tr>\n",
       "      <th>重要挽留客户</th>\n",
       "      <td>66367.12</td>\n",
       "      <td>493</td>\n",
       "      <td>796</td>\n",
       "      <td>493</td>\n",
       "      <td>33989.0</td>\n",
       "      <td>493</td>\n",
       "    </tr>\n",
       "  </tbody>\n",
       "</table>\n",
       "</div>"
      ],
      "text/plain": [
       "                M            F                R      \n",
       "              sum count    sum count        sum count\n",
       "label                                                \n",
       "一般价值客户   38702.46   991   3653   991   258396.0   991\n",
       "一般保持客户   75475.62  1802   7161  1802    97961.0  1802\n",
       "一般发展客户  144065.48  8329  10089  8329  2256955.0  8329\n",
       "一般挽留客户  119097.65  6313   8158  6313   443616.0  6313\n",
       "重要价值客户  192090.11  1028   5475  1028   270431.0  1028\n",
       "重要保持客户  860862.51  3069  28458  3069   120487.0  3069\n",
       "重要发展客户   81377.67   600    892   600   162986.0   600\n",
       "重要挽留客户   66367.12   493    796   493    33989.0   493"
      ]
     },
     "execution_count": 44,
     "metadata": {},
     "output_type": "execute_result"
    }
   ],
   "source": [
    "pivot_rfm.groupby('label').agg(['sum', 'count'])"
   ]
  },
  {
   "cell_type": "markdown",
   "id": "ancient-colleague",
   "metadata": {},
   "source": [
    "由上表及图可知：\n",
    "\n",
    "- 销售额主要来源重要保持客户，人数占比最高的为一般发展客户\n",
    "- 重要保持客户：销售额的主要来源，近期有消费，且消费高，消费频率不足，可以适当举行营销活动，提升此层客户的购买频率\n",
    "- 重要价值客户：销售额的第二来源，近期有消费，消费高，频率高，尽可能使该层客户保持现状\n",
    "- 重要发展客户：消费以及消费频次高，近期没有消费，可以使用适当策略召回用户，参与消费\n",
    "- 重要挽留客户：消费高，但频次低且近期未消费，处在流失的边缘，可以通过适当活动，使其参与到消费中来，防止流失\n",
    "- 一般价值客户：消费低，消费频率高且近期有消费，可以使用优惠券等形式活动刺激该层客户的消费，提升其消费额\n",
    "- 一般发展客户：人数占比最高，近期有消费，但消费额以及消费频次不高，考虑到人数占比高，可以适当举办活动提升消费频次和消费额\n",
    "- 一般保持客户：在成本与资源控制下，酌情考虑\n",
    "- 一般挽留客户：在成本与资源控制下，酌情考虑"
   ]
  },
  {
   "cell_type": "markdown",
   "id": "internal-asian",
   "metadata": {},
   "source": [
    "（2）用户状态分层分析"
   ]
  },
  {
   "cell_type": "code",
   "execution_count": 45,
   "id": "alleged-lawrence",
   "metadata": {},
   "outputs": [],
   "source": [
    "pivoted_status = df.pivot_table(index='Customer_ID', columns='Month', values='Date', aggfunc='count').fillna(0)"
   ]
  },
  {
   "cell_type": "code",
   "execution_count": 46,
   "id": "private-indication",
   "metadata": {},
   "outputs": [],
   "source": [
    "def active_status(data):\n",
    "    status = []\n",
    "    for i in range(len(data)):     \n",
    "        #若本月没有消费\n",
    "        if data[i] == 0:\n",
    "            if len(status) > 0:\n",
    "                if status[i-1] == 'unreg':\n",
    "                    status.append('unreg')\n",
    "                else:\n",
    "                    status.append('unactive')\n",
    "            else:\n",
    "                status.append('unreg')\n",
    "        #若本月有消费\n",
    "        else:\n",
    "            if len(status) > 0:\n",
    "                if status[i-1] == 'unreg':\n",
    "                    status.append('new')\n",
    "                elif status[i-1] == 'unactive':\n",
    "                    status.append('return')\n",
    "                else:\n",
    "                    status.append('active')\n",
    "            else:\n",
    "                status.append('new')\n",
    "    status = pd.Series(status, index = data.index)\n",
    "    return status"
   ]
  },
  {
   "cell_type": "code",
   "execution_count": 47,
   "id": "prime-ranch",
   "metadata": {},
   "outputs": [],
   "source": [
    "active_status = pivoted_status.apply(active_status, axis=1)"
   ]
  },
  {
   "cell_type": "code",
   "execution_count": 48,
   "id": "dimensional-willow",
   "metadata": {},
   "outputs": [
    {
     "data": {
      "text/plain": [
       "<AxesSubplot:xlabel='Month'>"
      ]
     },
     "execution_count": 48,
     "metadata": {},
     "output_type": "execute_result"
    },
    {
     "data": {
      "image/png": "[encoded data removed]",
      "text/plain": [
       "<Figure size 432x288 with 1 Axes>"
      ]
     },
     "metadata": {},
     "output_type": "display_data"
    }
   ],
   "source": [
    "active_status.replace('unreg', np.nan).apply(lambda x:x.value_counts()).fillna(0).T.apply(lambda x: x/x.sum(),axis=1).plot.area()"
   ]
  },
  {
   "cell_type": "markdown",
   "id": "continued-whale",
   "metadata": {},
   "source": [
    "由上图可知：\n",
    "- 新用户：新用户占比呈明显下降趋势，说明拉新运营不足\n",
    "- 活跃用户：在二月占比达到最高，后续呈缓慢下降趋势，说明消费运营正在下滑\n",
    "- 不活跃用户：不活跃用户呈明显上升趋势，客户流失较为明显\n",
    "- 回流客户：有缓慢上升趋势，说明召回运营不错"
   ]
  },
  {
   "cell_type": "markdown",
   "id": "popular-armstrong",
   "metadata": {},
   "source": [
    "## 4.用户生命周期分析\n",
    "（1）用户生命周期分布"
   ]
  },
  {
   "cell_type": "code",
   "execution_count": 49,
   "id": "executed-russian",
   "metadata": {},
   "outputs": [],
   "source": [
    "#构成用户生命周期研究的数据样本需要消费次数>=2次的用户\n",
    "clv = (grouped_customer[['Sales_Amount']].sum())[grouped_customer.Transaction_ID.nunique() > 1]"
   ]
  },
  {
   "cell_type": "code",
   "execution_count": 50,
   "id": "dense-reunion",
   "metadata": {},
   "outputs": [],
   "source": [
    "clv['lifetime'] = (grouped_customer.Date.max() - grouped_customer.Date.min())/np.timedelta64(1,'D')"
   ]
  },
  {
   "cell_type": "code",
   "execution_count": 51,
   "id": "rural-parts",
   "metadata": {},
   "outputs": [
    {
     "data": {
      "text/html": [
       "<div>\n",
       "<style scoped>\n",
       "    .dataframe tbody tr th:only-of-type {\n",
       "        vertical-align: middle;\n",
       "    }\n",
       "\n",
       "    .dataframe tbody tr th {\n",
       "        vertical-align: top;\n",
       "    }\n",
       "\n",
       "    .dataframe thead th {\n",
       "        text-align: right;\n",
       "    }\n",
       "</style>\n",
       "<table border=\"1\" class=\"dataframe\">\n",
       "  <thead>\n",
       "    <tr style=\"text-align: right;\">\n",
       "      <th></th>\n",
       "      <th>Sales_Amount</th>\n",
       "      <th>lifetime</th>\n",
       "    </tr>\n",
       "  </thead>\n",
       "  <tbody>\n",
       "    <tr>\n",
       "      <th>count</th>\n",
       "      <td>11090.000000</td>\n",
       "      <td>11090.000000</td>\n",
       "    </tr>\n",
       "    <tr>\n",
       "      <th>mean</th>\n",
       "      <td>121.473811</td>\n",
       "      <td>116.468260</td>\n",
       "    </tr>\n",
       "    <tr>\n",
       "      <th>std</th>\n",
       "      <td>202.733651</td>\n",
       "      <td>85.985488</td>\n",
       "    </tr>\n",
       "    <tr>\n",
       "      <th>min</th>\n",
       "      <td>2.240000</td>\n",
       "      <td>0.000000</td>\n",
       "    </tr>\n",
       "    <tr>\n",
       "      <th>25%</th>\n",
       "      <td>27.462500</td>\n",
       "      <td>42.000000</td>\n",
       "    </tr>\n",
       "    <tr>\n",
       "      <th>50%</th>\n",
       "      <td>55.635000</td>\n",
       "      <td>96.000000</td>\n",
       "    </tr>\n",
       "    <tr>\n",
       "      <th>75%</th>\n",
       "      <td>126.507500</td>\n",
       "      <td>190.000000</td>\n",
       "    </tr>\n",
       "    <tr>\n",
       "      <th>max</th>\n",
       "      <td>3985.940000</td>\n",
       "      <td>364.000000</td>\n",
       "    </tr>\n",
       "  </tbody>\n",
       "</table>\n",
       "</div>"
      ],
      "text/plain": [
       "       Sales_Amount      lifetime\n",
       "count  11090.000000  11090.000000\n",
       "mean     121.473811    116.468260\n",
       "std      202.733651     85.985488\n",
       "min        2.240000      0.000000\n",
       "25%       27.462500     42.000000\n",
       "50%       55.635000     96.000000\n",
       "75%      126.507500    190.000000\n",
       "max     3985.940000    364.000000"
      ]
     },
     "execution_count": 51,
     "metadata": {},
     "output_type": "execute_result"
    }
   ],
   "source": [
    "clv.describe()"
   ]
  },
  {
   "cell_type": "markdown",
   "id": "level-ferry",
   "metadata": {},
   "source": [
    "- 由上表可知：消费一次以上的用户平均生命周期为116天，用户生命周期内平均消费金额为121.47元\n"
   ]
  },
  {
   "cell_type": "code",
   "execution_count": 52,
   "id": "timely-sweden",
   "metadata": {},
   "outputs": [
    {
     "data": {
      "text/plain": [
       "<AxesSubplot:ylabel='Frequency'>"
      ]
     },
     "execution_count": 52,
     "metadata": {},
     "output_type": "execute_result"
    },
    {
     "data": {
      "image/png": "[encoded data removed]",
      "text/plain": [
       "<Figure size 432x288 with 1 Axes>"
      ]
     },
     "metadata": {},
     "output_type": "display_data"
    }
   ],
   "source": [
    "clv['lifetime'].plot.hist(bins = 50)"
   ]
  },
  {
   "cell_type": "markdown",
   "id": "bulgarian-milwaukee",
   "metadata": {},
   "source": [
    "由上图可知：\n",
    "- 生命周期在0-90天内的用户较多，说明生命周期短的客户占比较高，90天内流失率较高，此部分用户可以作为运营重点，延长这些用户的生命周期；\n",
    "- 生命周期在90-250之间的分布较为均匀，这也是大多数用户的生命周期，可以刺激这些用户的消费，使其在生命周期内提升消费金额；\n",
    "- 生命周期大于250天的人数极少，说明生命周期较长的忠诚客户占比不高。\n",
    "\n",
    "（2）用户生命周期价值分布"
   ]
  },
  {
   "cell_type": "code",
   "execution_count": 53,
   "id": "lyric-providence",
   "metadata": {},
   "outputs": [
    {
     "data": {
      "text/plain": [
       "<AxesSubplot:ylabel='Frequency'>"
      ]
     },
     "execution_count": 53,
     "metadata": {},
     "output_type": "execute_result"
    },
    {
     "data": {
      "image/png": "[encoded data removed]",
      "text/plain": [
       "<Figure size 432x288 with 1 Axes>"
      ]
     },
     "metadata": {},
     "output_type": "display_data"
    }
   ],
   "source": [
    "clv['Sales_Amount'].plot.hist(bins = 50)"
   ]
  },
  {
   "cell_type": "markdown",
   "id": "acceptable-appointment",
   "metadata": {},
   "source": [
    "由上图可知：\n",
    "\n",
    "- 绝大部分用户生命周期内价值在500以内，且其中大部分在100以内，存在较大极值拉高均值，数据向右偏斜。"
   ]
  },
  {
   "cell_type": "markdown",
   "id": "horizontal-report",
   "metadata": {},
   "source": [
    "（3）用户生命周期及其价值相关关系"
   ]
  },
  {
   "cell_type": "code",
   "execution_count": 54,
   "id": "pressed-recorder",
   "metadata": {},
   "outputs": [
    {
     "data": {
      "text/plain": [
       "<matplotlib.collections.PathCollection at 0x11c9beed0>"
      ]
     },
     "execution_count": 54,
     "metadata": {},
     "output_type": "execute_result"
    },
    {
     "data": {
      "image/png": "[encoded data removed]",
      "text/plain": [
       "<Figure size 432x288 with 1 Axes>"
      ]
     },
     "metadata": {},
     "output_type": "display_data"
    }
   ],
   "source": [
    "plt.scatter(x='lifetime', y='Sales_Amount', data=clv)"
   ]
  },
  {
   "cell_type": "markdown",
   "id": "variable-forward",
   "metadata": {},
   "source": [
    "由上图可知：\n",
    "\n",
    "- 用户生命周期与其期间客户价值不存在线性关系，当生命周期在300天内，部分生命周期较长用户贡献的价值高于生命周期较短的用户；\n",
    "- 当生命周期大于300天，存在部分用户贡献价值较少，由于数据量不足等原因，结果仅供参考"
   ]
  },
  {
   "cell_type": "markdown",
   "id": "intimate-swift",
   "metadata": {},
   "source": [
    "## 5.回购率与复购率分析¶\n",
    "(1) 复购率分析"
   ]
  },
  {
   "cell_type": "code",
   "execution_count": 55,
   "id": "labeled-batman",
   "metadata": {},
   "outputs": [
    {
     "data": {
      "text/plain": [
       "<AxesSubplot:xlabel='Month'>"
      ]
     },
     "execution_count": 55,
     "metadata": {},
     "output_type": "execute_result"
    },
    {
     "data": {
      "image/png": "[encoded data removed]",
      "text/plain": [
       "<Figure size 432x288 with 1 Axes>"
      ]
     },
     "metadata": {},
     "output_type": "display_data"
    }
   ],
   "source": [
    "#每月消费次数大于1的用户数\n",
    "customer_month_again = grouped_month_customer.nunique().query('Transaction_ID > 1').reset_index().groupby('Month').count().Customer_ID\n",
    "#每月消费用户数\n",
    "customer_month = grouped_month.Customer_ID.nunique()\n",
    "#每月复购率\n",
    "(customer_month_again/customer_month).plot()"
   ]
  },
  {
   "cell_type": "markdown",
   "id": "legendary-worship",
   "metadata": {},
   "source": [
    "- 由上图可知：复购率在25%上下浮动，说明每月有25%的用户会进行多次消费；前三个月的复购率有所下降，后续有所回升，整体有上升趋势，应结合本身商务模式，决定进一步提升复购率还是注重新用户的获取。最后一月由于数据量不足，结果以真实数据为主。"
   ]
  },
  {
   "cell_type": "markdown",
   "id": "tired-beverage",
   "metadata": {},
   "source": [
    "（2）回购率分析"
   ]
  },
  {
   "cell_type": "code",
   "execution_count": 56,
   "id": "neutral-packet",
   "metadata": {},
   "outputs": [],
   "source": [
    "#  1表示前90天消费且本月回购  0表示前90天消费本月未回购  nan表示前90天未消费\n",
    "def buy_back(data):\n",
    "    status = [np.nan,np.nan,np.nan]\n",
    "    for i in range(3,len(data)):\n",
    "        #本月购买\n",
    "        if data[i] == 1:\n",
    "            #前90天购买\n",
    "            if (data[i-1] == 1 or data[i-2] ==1 or data[i-3] == 1):\n",
    "                status.append(1)\n",
    "            #前90天未购买\n",
    "            else:\n",
    "                status.append(np.nan)\n",
    "        #本月未购买\n",
    "        else:\n",
    "            #前90天购买\n",
    "            if (data[i-1] == 1 or data[i-2] ==1 or data[i-3] == 1):\n",
    "                status.append(0)\n",
    "            #前90天未购买\n",
    "            else:\n",
    "                status.append(np.nan)\n",
    "    status = pd.Series(status, index = data.index)\n",
    "    return status"
   ]
  },
  {
   "cell_type": "code",
   "execution_count": 57,
   "id": "unavailable-painting",
   "metadata": {},
   "outputs": [
    {
     "data": {
      "text/html": [
       "<div>\n",
       "<style scoped>\n",
       "    .dataframe tbody tr th:only-of-type {\n",
       "        vertical-align: middle;\n",
       "    }\n",
       "\n",
       "    .dataframe tbody tr th {\n",
       "        vertical-align: top;\n",
       "    }\n",
       "\n",
       "    .dataframe thead th {\n",
       "        text-align: right;\n",
       "    }\n",
       "</style>\n",
       "<table border=\"1\" class=\"dataframe\">\n",
       "  <thead>\n",
       "    <tr style=\"text-align: right;\">\n",
       "      <th>Month</th>\n",
       "      <th>2016-01-01</th>\n",
       "      <th>2016-02-01</th>\n",
       "      <th>2016-03-01</th>\n",
       "      <th>2016-04-01</th>\n",
       "      <th>2016-05-01</th>\n",
       "      <th>2016-06-01</th>\n",
       "      <th>2016-07-01</th>\n",
       "      <th>2016-08-01</th>\n",
       "      <th>2016-09-01</th>\n",
       "      <th>2016-10-01</th>\n",
       "      <th>2016-11-01</th>\n",
       "      <th>2016-12-01</th>\n",
       "    </tr>\n",
       "    <tr>\n",
       "      <th>Customer_ID</th>\n",
       "      <th></th>\n",
       "      <th></th>\n",
       "      <th></th>\n",
       "      <th></th>\n",
       "      <th></th>\n",
       "      <th></th>\n",
       "      <th></th>\n",
       "      <th></th>\n",
       "      <th></th>\n",
       "      <th></th>\n",
       "      <th></th>\n",
       "      <th></th>\n",
       "    </tr>\n",
       "  </thead>\n",
       "  <tbody>\n",
       "    <tr>\n",
       "      <th>1</th>\n",
       "      <td>NaN</td>\n",
       "      <td>NaN</td>\n",
       "      <td>NaN</td>\n",
       "      <td>NaN</td>\n",
       "      <td>NaN</td>\n",
       "      <td>NaN</td>\n",
       "      <td>NaN</td>\n",
       "      <td>NaN</td>\n",
       "      <td>NaN</td>\n",
       "      <td>NaN</td>\n",
       "      <td>NaN</td>\n",
       "      <td>NaN</td>\n",
       "    </tr>\n",
       "    <tr>\n",
       "      <th>2</th>\n",
       "      <td>NaN</td>\n",
       "      <td>NaN</td>\n",
       "      <td>NaN</td>\n",
       "      <td>0.0</td>\n",
       "      <td>0.0</td>\n",
       "      <td>1.0</td>\n",
       "      <td>0.0</td>\n",
       "      <td>0.0</td>\n",
       "      <td>0.0</td>\n",
       "      <td>NaN</td>\n",
       "      <td>NaN</td>\n",
       "      <td>NaN</td>\n",
       "    </tr>\n",
       "    <tr>\n",
       "      <th>3</th>\n",
       "      <td>NaN</td>\n",
       "      <td>NaN</td>\n",
       "      <td>NaN</td>\n",
       "      <td>NaN</td>\n",
       "      <td>NaN</td>\n",
       "      <td>NaN</td>\n",
       "      <td>NaN</td>\n",
       "      <td>NaN</td>\n",
       "      <td>NaN</td>\n",
       "      <td>NaN</td>\n",
       "      <td>NaN</td>\n",
       "      <td>NaN</td>\n",
       "    </tr>\n",
       "    <tr>\n",
       "      <th>4</th>\n",
       "      <td>NaN</td>\n",
       "      <td>NaN</td>\n",
       "      <td>NaN</td>\n",
       "      <td>NaN</td>\n",
       "      <td>NaN</td>\n",
       "      <td>NaN</td>\n",
       "      <td>NaN</td>\n",
       "      <td>0.0</td>\n",
       "      <td>0.0</td>\n",
       "      <td>0.0</td>\n",
       "      <td>NaN</td>\n",
       "      <td>NaN</td>\n",
       "    </tr>\n",
       "    <tr>\n",
       "      <th>5</th>\n",
       "      <td>NaN</td>\n",
       "      <td>NaN</td>\n",
       "      <td>NaN</td>\n",
       "      <td>0.0</td>\n",
       "      <td>1.0</td>\n",
       "      <td>0.0</td>\n",
       "      <td>1.0</td>\n",
       "      <td>0.0</td>\n",
       "      <td>0.0</td>\n",
       "      <td>0.0</td>\n",
       "      <td>NaN</td>\n",
       "      <td>NaN</td>\n",
       "    </tr>\n",
       "  </tbody>\n",
       "</table>\n",
       "</div>"
      ],
      "text/plain": [
       "Month        2016-01-01  2016-02-01  2016-03-01  2016-04-01  2016-05-01  \\\n",
       "Customer_ID                                                               \n",
       "1                   NaN         NaN         NaN         NaN         NaN   \n",
       "2                   NaN         NaN         NaN         0.0         0.0   \n",
       "3                   NaN         NaN         NaN         NaN         NaN   \n",
       "4                   NaN         NaN         NaN         NaN         NaN   \n",
       "5                   NaN         NaN         NaN         0.0         1.0   \n",
       "\n",
       "Month        2016-06-01  2016-07-01  2016-08-01  2016-09-01  2016-10-01  \\\n",
       "Customer_ID                                                               \n",
       "1                   NaN         NaN         NaN         NaN         NaN   \n",
       "2                   1.0         0.0         0.0         0.0         NaN   \n",
       "3                   NaN         NaN         NaN         NaN         NaN   \n",
       "4                   NaN         NaN         0.0         0.0         0.0   \n",
       "5                   0.0         1.0         0.0         0.0         0.0   \n",
       "\n",
       "Month        2016-11-01  2016-12-01  \n",
       "Customer_ID                          \n",
       "1                   NaN         NaN  \n",
       "2                   NaN         NaN  \n",
       "3                   NaN         NaN  \n",
       "4                   NaN         NaN  \n",
       "5                   NaN         NaN  "
      ]
     },
     "execution_count": 57,
     "metadata": {},
     "output_type": "execute_result"
    }
   ],
   "source": [
    "back_status = pivoted_status.apply(buy_back, axis=1)\n",
    "back_status.head()"
   ]
  },
  {
   "cell_type": "code",
   "execution_count": 58,
   "id": "optional-disability",
   "metadata": {},
   "outputs": [
    {
     "data": {
      "text/plain": [
       "<AxesSubplot:xlabel='Month'>"
      ]
     },
     "execution_count": 58,
     "metadata": {},
     "output_type": "execute_result"
    },
    {
     "data": {
      "image/png": "[encoded data removed]",
      "text/plain": [
       "<Figure size 432x288 with 1 Axes>"
      ]
     },
     "metadata": {},
     "output_type": "display_data"
    }
   ],
   "source": [
    "(back_status.sum()/back_status.count()).plot()"
   ]
  },
  {
   "cell_type": "markdown",
   "id": "allied-motion",
   "metadata": {},
   "source": [
    "由上图可知：90天内回购率，即90天内重复购买率在10%以下，说明目前商店处于用户获取模式，然而由前面分析可知，新用户获取呈下降趋势，目前商店并不健康，当前阶段应当将重心放在新用户获取上。"
   ]
  },
  {
   "cell_type": "markdown",
   "id": "green-parks",
   "metadata": {},
   "source": [
    "## 6.商品关联规则挖掘¶\n",
    "(1)分析热销商品"
   ]
  },
  {
   "cell_type": "code",
   "execution_count": 59,
   "id": "herbal-negotiation",
   "metadata": {},
   "outputs": [
    {
     "data": {
      "text/plain": [
       "<BarContainer object of 10 artists>"
      ]
     },
     "execution_count": 59,
     "metadata": {},
     "output_type": "execute_result"
    },
    {
     "data": {
      "image/png": "[encoded data removed]",
      "text/plain": [
       "<Figure size 432x288 with 1 Axes>"
      ]
     },
     "metadata": {},
     "output_type": "display_data"
    }
   ],
   "source": [
    "#取出销量排名前10的商品类型\n",
    "hot_category = df.groupby('SKU_Category').count().Sales_Amount.sort_values(ascending=False)[:10].reset_index()\n",
    "plt.barh(hot_category.SKU_Category, hot_category.Sales_Amount)"
   ]
  },
  {
   "cell_type": "code",
   "execution_count": 60,
   "id": "elementary-welcome",
   "metadata": {},
   "outputs": [
    {
     "data": {
      "image/png": "[encoded data removed]",
      "text/plain": [
       "<Figure size 432x432 with 1 Axes>"
      ]
     },
     "metadata": {},
     "output_type": "display_data"
    }
   ],
   "source": [
    "#热销商品占比\n",
    "hot_category['percent'] = hot_category.Sales_Amount.apply(lambda x:x/hot_category.Sales_Amount.sum())\n",
    "plt.figure(figsize=(6,6))\n",
    "plt.pie(hot_category.percent,labels=hot_category.SKU_Category,autopct='%1.2f%%')\n",
    "plt.show()"
   ]
  },
  {
   "cell_type": "code",
   "execution_count": 61,
   "id": "artificial-battery",
   "metadata": {},
   "outputs": [],
   "source": [
    "category_list = df.groupby('Transaction_ID').SKU_Category.apply(list).values.tolist()"
   ]
  },
  {
   "cell_type": "code",
   "execution_count": 63,
   "id": "spoken-armor",
   "metadata": {},
   "outputs": [],
   "source": [
    "from apyori import apriori"
   ]
  },
  {
   "cell_type": "code",
   "execution_count": 64,
   "id": "beneficial-bidding",
   "metadata": {},
   "outputs": [],
   "source": [
    "min_support_value = 0.02\n",
    "min_confidence_value = 0.3\n",
    "result = list(apriori(transactions=category_list, min_support=min_support_value, min_confidence=min_confidence_value, min_left=0))"
   ]
  },
  {
   "cell_type": "code",
   "execution_count": 65,
   "id": "hollow-business",
   "metadata": {},
   "outputs": [
    {
     "data": {
      "text/plain": [
       "[RelationRecord(items=frozenset({'LPF', 'FU5'}), support=0.02067035651340404, ordered_statistics=[OrderedStatistic(items_base=frozenset({'FU5'}), items_add=frozenset({'LPF'}), confidence=0.4946355900850906, lift=6.8819142262602355)]),\n",
       " RelationRecord(items=frozenset({'IEV', 'LPF'}), support=0.031152407161188583, ordered_statistics=[OrderedStatistic(items_base=frozenset({'IEV'}), items_add=frozenset({'LPF'}), confidence=0.4889589905362776, lift=6.802935131397615), OrderedStatistic(items_base=frozenset({'LPF'}), items_add=frozenset({'IEV'}), confidence=0.43342654334265435, lift=6.802935131397614)]),\n",
       " RelationRecord(items=frozenset({'LPF', 'OXH'}), support=0.020067406697381034, ordered_statistics=[OrderedStatistic(items_base=frozenset({'OXH'}), items_add=frozenset({'LPF'}), confidence=0.4810971089696071, lift=6.693551990185444)])]"
      ]
     },
     "execution_count": 65,
     "metadata": {},
     "output_type": "execute_result"
    }
   ],
   "source": [
    "result"
   ]
  },
  {
   "cell_type": "markdown",
   "id": "assumed-wrist",
   "metadata": {},
   "source": [
    "由上结果可得：\n",
    "\n",
    "- ‘FU5’-->‘LPF’:支持度为约2.1%，置信度约为49.5%。说明同时购买这两类商品发生的可能性为约2.1%，先购买FU5类型产品后，同时购买LPF类型产品的概率为49.5%\n",
    "- ‘IEV’-->‘LPF’：支持度约为3.1%，置信度约为48.9%。说明同时购买这两类商品发生的可能性约为3.1%，先购买IEV类型产品后，同时购买LPF类型产品的概率约为48.9%\n",
    "- ‘LPF’-->‘IEV’：支持度约为3.1%，置信度约为43.3%。说明同时购买这两类商品发生的可能性约为3.1%，先购买LPF类型产品后，同时购买IEV类型产品的概率约为43.3%\n",
    "- ‘OXH’-->‘LPF’：支持度约为2.0%，置信度约为48.1%。说明同时购买这两类商品发生的可能性约为2.0%，先购买IEV类型产品后，同时购买LPF类型产品的概率约为48.1%"
   ]
  }
 ],
 "metadata": {
  "kernelspec": {
   "display_name": "Python 3",
   "language": "python",
   "name": "python3"
  },
  "language_info": {
   "codemirror_mode": {
    "name": "ipython",
    "version": 3
   },
   "file_extension": ".py",
   "mimetype": "text/x-python",
   "name": "python",
   "nbconvert_exporter": "python",
   "pygments_lexer": "ipython3",
   "version": "3.7.4"
  }
 },
 "nbformat": 4,
 "nbformat_minor": 5
}
