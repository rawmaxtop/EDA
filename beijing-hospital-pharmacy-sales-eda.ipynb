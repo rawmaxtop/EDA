{
 "cells": [
  {
   "cell_type": "code",
   "execution_count": 1,
   "id": "martial-visitor",
   "metadata": {
    "_cell_guid": "b1076dfc-b9ad-4769-8c92-a6c4dae69d19",
    "_uuid": "8f2839f25d086af736a60e9eeb907d3b93b6e0e5",
    "execution": {
     "iopub.execute_input": "2021-07-06T12:08:45.467962Z",
     "iopub.status.busy": "2021-07-06T12:08:45.467284Z",
     "iopub.status.idle": "2021-07-06T12:08:45.476911Z",
     "shell.execute_reply": "2021-07-06T12:08:45.477558Z",
     "shell.execute_reply.started": "2021-07-06T11:51:41.354614Z"
    },
    "papermill": {
     "duration": 0.046456,
     "end_time": "2021-07-06T12:08:45.478068",
     "exception": false,
     "start_time": "2021-07-06T12:08:45.431612",
     "status": "completed"
    },
    "tags": []
   },
   "outputs": [
    {
     "name": "stdout",
     "output_type": "stream",
     "text": [
      "/kaggle/input/beijing-hospital-pharmacy-sales-dataset/Beijing_hospital_pharmacy_sales_dataset.csv\n"
     ]
    }
   ],
   "source": [
    "# This Python 3 environment comes with many helpful analytics libraries installed\n",
    "# It is defined by the kaggle/python Docker image: https://github.com/kaggle/docker-python\n",
    "# For example, here's several helpful packages to load\n",
    "\n",
    "import numpy as np # linear algebra\n",
    "import pandas as pd # data processing, CSV file I/O (e.g. pd.read_csv)\n",
    "import matplotlib.pyplot as plt\n",
    "# Input data files are available in the read-only \"../input/\" directory\n",
    "# For example, running this (by clicking run or pressing Shift+Enter) will list all files under the input directory\n",
    "\n",
    "import os\n",
    "for dirname, _, filenames in os.walk('/kaggle/input'):\n",
    "    for filename in filenames:\n",
    "        print(os.path.join(dirname, filename))\n",
    "\n",
    "# You can write up to 20GB to the current directory (/kaggle/working/) that gets preserved as output when you create a version using \"Save & Run All\" \n",
    "# You can also write temporary files to /kaggle/temp/, but they won't be saved outside of the current session"
   ]
  },
  {
   "cell_type": "markdown",
   "id": "intimate-newport",
   "metadata": {
    "papermill": {
     "duration": 0.021381,
     "end_time": "2021-07-06T12:08:45.522938",
     "exception": false,
     "start_time": "2021-07-06T12:08:45.501557",
     "status": "completed"
    },
    "tags": []
   },
   "source": [
    "# 1 理解数据"
   ]
  },
  {
   "cell_type": "code",
   "execution_count": 2,
   "id": "blind-norfolk",
   "metadata": {
    "execution": {
     "iopub.execute_input": "2021-07-06T12:08:45.583879Z",
     "iopub.status.busy": "2021-07-06T12:08:45.583193Z",
     "iopub.status.idle": "2021-07-06T12:08:45.658362Z",
     "shell.execute_reply": "2021-07-06T12:08:45.657778Z",
     "shell.execute_reply.started": "2021-07-06T11:51:43.915436Z"
    },
    "papermill": {
     "duration": 0.106517,
     "end_time": "2021-07-06T12:08:45.658536",
     "exception": false,
     "start_time": "2021-07-06T12:08:45.552019",
     "status": "completed"
    },
    "tags": []
   },
   "outputs": [
    {
     "name": "stdout",
     "output_type": "stream",
     "text": [
      "<class 'pandas.core.frame.DataFrame'>\n",
      "RangeIndex: 6578 entries, 0 to 6577\n",
      "Data columns (total 7 columns):\n",
      " #   Column  Non-Null Count  Dtype  \n",
      "---  ------  --------------  -----  \n",
      " 0   购药时间    6576 non-null   object \n",
      " 1   社保卡号    6576 non-null   float64\n",
      " 2   商品编码    6577 non-null   float64\n",
      " 3   商品名称    6577 non-null   object \n",
      " 4   销售数量    6577 non-null   float64\n",
      " 5   应收金额    6577 non-null   float64\n",
      " 6   实收金额    6577 non-null   float64\n",
      "dtypes: float64(5), object(2)\n",
      "memory usage: 359.9+ KB\n"
     ]
    }
   ],
   "source": [
    "sales = pd.read_csv('../input/beijing-hospital-pharmacy-sales-dataset/Beijing_hospital_pharmacy_sales_dataset.csv')\n",
    "sales.info()"
   ]
  },
  {
   "cell_type": "code",
   "execution_count": 3,
   "id": "unsigned-snapshot",
   "metadata": {
    "execution": {
     "iopub.execute_input": "2021-07-06T12:08:45.712211Z",
     "iopub.status.busy": "2021-07-06T12:08:45.711093Z",
     "iopub.status.idle": "2021-07-06T12:08:45.736583Z",
     "shell.execute_reply": "2021-07-06T12:08:45.735632Z",
     "shell.execute_reply.started": "2021-07-06T11:51:45.832073Z"
    },
    "papermill": {
     "duration": 0.05464,
     "end_time": "2021-07-06T12:08:45.736769",
     "exception": false,
     "start_time": "2021-07-06T12:08:45.682129",
     "status": "completed"
    },
    "tags": []
   },
   "outputs": [
    {
     "data": {
      "text/html": [
       "<div>\n",
       "<style scoped>\n",
       "    .dataframe tbody tr th:only-of-type {\n",
       "        vertical-align: middle;\n",
       "    }\n",
       "\n",
       "    .dataframe tbody tr th {\n",
       "        vertical-align: top;\n",
       "    }\n",
       "\n",
       "    .dataframe thead th {\n",
       "        text-align: right;\n",
       "    }\n",
       "</style>\n",
       "<table border=\"1\" class=\"dataframe\">\n",
       "  <thead>\n",
       "    <tr style=\"text-align: right;\">\n",
       "      <th></th>\n",
       "      <th>购药时间</th>\n",
       "      <th>社保卡号</th>\n",
       "      <th>商品编码</th>\n",
       "      <th>商品名称</th>\n",
       "      <th>销售数量</th>\n",
       "      <th>应收金额</th>\n",
       "      <th>实收金额</th>\n",
       "    </tr>\n",
       "  </thead>\n",
       "  <tbody>\n",
       "    <tr>\n",
       "      <th>0</th>\n",
       "      <td>2018-01-01 星期五</td>\n",
       "      <td>1.616528e+06</td>\n",
       "      <td>236701.0</td>\n",
       "      <td>强力VC银翘片</td>\n",
       "      <td>6.0</td>\n",
       "      <td>82.8</td>\n",
       "      <td>69.00</td>\n",
       "    </tr>\n",
       "    <tr>\n",
       "      <th>1</th>\n",
       "      <td>2018-01-02 星期六</td>\n",
       "      <td>1.616528e+06</td>\n",
       "      <td>236701.0</td>\n",
       "      <td>清热解毒口服液</td>\n",
       "      <td>1.0</td>\n",
       "      <td>28.0</td>\n",
       "      <td>24.64</td>\n",
       "    </tr>\n",
       "    <tr>\n",
       "      <th>2</th>\n",
       "      <td>2018-01-06 星期三</td>\n",
       "      <td>1.260283e+07</td>\n",
       "      <td>236701.0</td>\n",
       "      <td>感康</td>\n",
       "      <td>2.0</td>\n",
       "      <td>16.8</td>\n",
       "      <td>15.00</td>\n",
       "    </tr>\n",
       "    <tr>\n",
       "      <th>3</th>\n",
       "      <td>2018-01-11 星期一</td>\n",
       "      <td>1.007034e+10</td>\n",
       "      <td>236701.0</td>\n",
       "      <td>三九感冒灵</td>\n",
       "      <td>1.0</td>\n",
       "      <td>28.0</td>\n",
       "      <td>28.00</td>\n",
       "    </tr>\n",
       "    <tr>\n",
       "      <th>4</th>\n",
       "      <td>2018-01-15 星期五</td>\n",
       "      <td>1.015543e+08</td>\n",
       "      <td>236701.0</td>\n",
       "      <td>三九感冒灵</td>\n",
       "      <td>8.0</td>\n",
       "      <td>224.0</td>\n",
       "      <td>208.00</td>\n",
       "    </tr>\n",
       "  </tbody>\n",
       "</table>\n",
       "</div>"
      ],
      "text/plain": [
       "             购药时间          社保卡号      商品编码     商品名称  销售数量   应收金额    实收金额\n",
       "0  2018-01-01 星期五  1.616528e+06  236701.0  强力VC银翘片   6.0   82.8   69.00\n",
       "1  2018-01-02 星期六  1.616528e+06  236701.0  清热解毒口服液   1.0   28.0   24.64\n",
       "2  2018-01-06 星期三  1.260283e+07  236701.0       感康   2.0   16.8   15.00\n",
       "3  2018-01-11 星期一  1.007034e+10  236701.0    三九感冒灵   1.0   28.0   28.00\n",
       "4  2018-01-15 星期五  1.015543e+08  236701.0    三九感冒灵   8.0  224.0  208.00"
      ]
     },
     "execution_count": 3,
     "metadata": {},
     "output_type": "execute_result"
    }
   ],
   "source": [
    "sales.head()"
   ]
  },
  {
   "cell_type": "markdown",
   "id": "unlikely-olympus",
   "metadata": {
    "papermill": {
     "duration": 0.022345,
     "end_time": "2021-07-06T12:08:45.785667",
     "exception": false,
     "start_time": "2021-07-06T12:08:45.763322",
     "status": "completed"
    },
    "tags": []
   },
   "source": [
    "# 2 数据清洗"
   ]
  },
  {
   "cell_type": "code",
   "execution_count": 4,
   "id": "increased-football",
   "metadata": {
    "execution": {
     "iopub.execute_input": "2021-07-06T12:08:45.850355Z",
     "iopub.status.busy": "2021-07-06T12:08:45.849268Z",
     "iopub.status.idle": "2021-07-06T12:08:45.859004Z",
     "shell.execute_reply": "2021-07-06T12:08:45.859473Z",
     "shell.execute_reply.started": "2021-07-06T11:51:49.665833Z"
    },
    "papermill": {
     "duration": 0.05147,
     "end_time": "2021-07-06T12:08:45.859682",
     "exception": false,
     "start_time": "2021-07-06T12:08:45.808212",
     "status": "completed"
    },
    "tags": []
   },
   "outputs": [
    {
     "data": {
      "text/html": [
       "<div>\n",
       "<style scoped>\n",
       "    .dataframe tbody tr th:only-of-type {\n",
       "        vertical-align: middle;\n",
       "    }\n",
       "\n",
       "    .dataframe tbody tr th {\n",
       "        vertical-align: top;\n",
       "    }\n",
       "\n",
       "    .dataframe thead th {\n",
       "        text-align: right;\n",
       "    }\n",
       "</style>\n",
       "<table border=\"1\" class=\"dataframe\">\n",
       "  <thead>\n",
       "    <tr style=\"text-align: right;\">\n",
       "      <th></th>\n",
       "      <th>销售时间</th>\n",
       "      <th>社保卡号</th>\n",
       "      <th>商品编码</th>\n",
       "      <th>商品名称</th>\n",
       "      <th>销售数量</th>\n",
       "      <th>应收金额</th>\n",
       "      <th>实收金额</th>\n",
       "    </tr>\n",
       "  </thead>\n",
       "  <tbody>\n",
       "    <tr>\n",
       "      <th>0</th>\n",
       "      <td>2018-01-01 星期五</td>\n",
       "      <td>1.616528e+06</td>\n",
       "      <td>236701.0</td>\n",
       "      <td>强力VC银翘片</td>\n",
       "      <td>6.0</td>\n",
       "      <td>82.8</td>\n",
       "      <td>69.00</td>\n",
       "    </tr>\n",
       "    <tr>\n",
       "      <th>1</th>\n",
       "      <td>2018-01-02 星期六</td>\n",
       "      <td>1.616528e+06</td>\n",
       "      <td>236701.0</td>\n",
       "      <td>清热解毒口服液</td>\n",
       "      <td>1.0</td>\n",
       "      <td>28.0</td>\n",
       "      <td>24.64</td>\n",
       "    </tr>\n",
       "    <tr>\n",
       "      <th>2</th>\n",
       "      <td>2018-01-06 星期三</td>\n",
       "      <td>1.260283e+07</td>\n",
       "      <td>236701.0</td>\n",
       "      <td>感康</td>\n",
       "      <td>2.0</td>\n",
       "      <td>16.8</td>\n",
       "      <td>15.00</td>\n",
       "    </tr>\n",
       "    <tr>\n",
       "      <th>3</th>\n",
       "      <td>2018-01-11 星期一</td>\n",
       "      <td>1.007034e+10</td>\n",
       "      <td>236701.0</td>\n",
       "      <td>三九感冒灵</td>\n",
       "      <td>1.0</td>\n",
       "      <td>28.0</td>\n",
       "      <td>28.00</td>\n",
       "    </tr>\n",
       "    <tr>\n",
       "      <th>4</th>\n",
       "      <td>2018-01-15 星期五</td>\n",
       "      <td>1.015543e+08</td>\n",
       "      <td>236701.0</td>\n",
       "      <td>三九感冒灵</td>\n",
       "      <td>8.0</td>\n",
       "      <td>224.0</td>\n",
       "      <td>208.00</td>\n",
       "    </tr>\n",
       "  </tbody>\n",
       "</table>\n",
       "</div>"
      ],
      "text/plain": [
       "             销售时间          社保卡号      商品编码     商品名称  销售数量   应收金额    实收金额\n",
       "0  2018-01-01 星期五  1.616528e+06  236701.0  强力VC银翘片   6.0   82.8   69.00\n",
       "1  2018-01-02 星期六  1.616528e+06  236701.0  清热解毒口服液   1.0   28.0   24.64\n",
       "2  2018-01-06 星期三  1.260283e+07  236701.0       感康   2.0   16.8   15.00\n",
       "3  2018-01-11 星期一  1.007034e+10  236701.0    三九感冒灵   1.0   28.0   28.00\n",
       "4  2018-01-15 星期五  1.015543e+08  236701.0    三九感冒灵   8.0  224.0  208.00"
      ]
     },
     "execution_count": 4,
     "metadata": {},
     "output_type": "execute_result"
    }
   ],
   "source": [
    "#把购药时间改成销售时间比较有利于理解,inplace=True,直接在原数据框内改动\n",
    "sales.rename(columns = {'购药时间':'销售时间'}, inplace = True)\n",
    "#看一下有没有被改动\n",
    "sales.head()"
   ]
  },
  {
   "cell_type": "markdown",
   "id": "lesbian-manitoba",
   "metadata": {
    "papermill": {
     "duration": 0.02304,
     "end_time": "2021-07-06T12:08:45.907004",
     "exception": false,
     "start_time": "2021-07-06T12:08:45.883964",
     "status": "completed"
    },
    "tags": []
   },
   "source": [
    "## 缺失值处理"
   ]
  },
  {
   "cell_type": "code",
   "execution_count": 5,
   "id": "formal-coupon",
   "metadata": {
    "execution": {
     "iopub.execute_input": "2021-07-06T12:08:45.964692Z",
     "iopub.status.busy": "2021-07-06T12:08:45.964016Z",
     "iopub.status.idle": "2021-07-06T12:08:45.992433Z",
     "shell.execute_reply": "2021-07-06T12:08:45.991870Z",
     "shell.execute_reply.started": "2021-07-06T11:53:08.273724Z"
    },
    "papermill": {
     "duration": 0.058872,
     "end_time": "2021-07-06T12:08:45.992599",
     "exception": false,
     "start_time": "2021-07-06T12:08:45.933727",
     "status": "completed"
    },
    "tags": []
   },
   "outputs": [],
   "source": [
    "# 没有时间和社保卡号的消费数据对于本次分析是无效的，\n",
    "# 所以清理一下缺失值\n",
    "sales = sales.dropna(subset = [ '销售时间','社保卡号'],how = 'any')\n",
    "# sales"
   ]
  },
  {
   "cell_type": "markdown",
   "id": "adverse-darwin",
   "metadata": {
    "papermill": {
     "duration": 0.028825,
     "end_time": "2021-07-06T12:08:46.044790",
     "exception": false,
     "start_time": "2021-07-06T12:08:46.015965",
     "status": "completed"
    },
    "tags": []
   },
   "source": [
    "## 数据类型处理"
   ]
  },
  {
   "cell_type": "code",
   "execution_count": 6,
   "id": "furnished-machinery",
   "metadata": {
    "execution": {
     "iopub.execute_input": "2021-07-06T12:08:46.102540Z",
     "iopub.status.busy": "2021-07-06T12:08:46.101808Z",
     "iopub.status.idle": "2021-07-06T12:08:46.103980Z",
     "shell.execute_reply": "2021-07-06T12:08:46.104439Z",
     "shell.execute_reply.started": "2021-07-06T11:53:33.097522Z"
    },
    "papermill": {
     "duration": 0.033674,
     "end_time": "2021-07-06T12:08:46.104634",
     "exception": false,
     "start_time": "2021-07-06T12:08:46.070960",
     "status": "completed"
    },
    "tags": []
   },
   "outputs": [],
   "source": [
    "sales['销售数量'] = sales['销售数量'].astype('float')\n",
    "sales['应收金额'] = sales['应收金额'].astype('float')\n",
    "sales['实收金额'] = sales['实收金额'].astype('float')"
   ]
  },
  {
   "cell_type": "code",
   "execution_count": 7,
   "id": "gorgeous-saturday",
   "metadata": {
    "execution": {
     "iopub.execute_input": "2021-07-06T12:08:46.161615Z",
     "iopub.status.busy": "2021-07-06T12:08:46.160924Z",
     "iopub.status.idle": "2021-07-06T12:08:46.193479Z",
     "shell.execute_reply": "2021-07-06T12:08:46.194262Z",
     "shell.execute_reply.started": "2021-07-06T11:53:44.069322Z"
    },
    "papermill": {
     "duration": 0.062621,
     "end_time": "2021-07-06T12:08:46.194522",
     "exception": false,
     "start_time": "2021-07-06T12:08:46.131901",
     "status": "completed"
    },
    "tags": []
   },
   "outputs": [
    {
     "name": "stderr",
     "output_type": "stream",
     "text": [
      "/opt/conda/lib/python3.7/site-packages/ipykernel_launcher.py:1: FutureWarning: Columnar iteration over characters will be deprecated in future releases.\n",
      "  \"\"\"Entry point for launching an IPython kernel.\n"
     ]
    }
   ],
   "source": [
    "sales['销售时间'], sales['销售星期'] = sales['销售时间'].str.split(' ', 1).str"
   ]
  },
  {
   "cell_type": "code",
   "execution_count": 8,
   "id": "civilian-oracle",
   "metadata": {
    "execution": {
     "iopub.execute_input": "2021-07-06T12:08:46.252920Z",
     "iopub.status.busy": "2021-07-06T12:08:46.251516Z",
     "iopub.status.idle": "2021-07-06T12:08:46.265906Z",
     "shell.execute_reply": "2021-07-06T12:08:46.265282Z",
     "shell.execute_reply.started": "2021-07-06T11:54:09.271657Z"
    },
    "papermill": {
     "duration": 0.046729,
     "end_time": "2021-07-06T12:08:46.266071",
     "exception": false,
     "start_time": "2021-07-06T12:08:46.219342",
     "status": "completed"
    },
    "tags": []
   },
   "outputs": [],
   "source": [
    "sales['销售时间'] = pd.to_datetime(sales['销售时间'], \n",
    "format = '%Y-%m-%d',errors = 'coerce')"
   ]
  },
  {
   "cell_type": "markdown",
   "id": "imposed-documentary",
   "metadata": {
    "papermill": {
     "duration": 0.0231,
     "end_time": "2021-07-06T12:08:46.313661",
     "exception": false,
     "start_time": "2021-07-06T12:08:46.290561",
     "status": "completed"
    },
    "tags": []
   },
   "source": [
    "## 排序"
   ]
  },
  {
   "cell_type": "code",
   "execution_count": 9,
   "id": "billion-bunch",
   "metadata": {
    "execution": {
     "iopub.execute_input": "2021-07-06T12:08:46.375578Z",
     "iopub.status.busy": "2021-07-06T12:08:46.374537Z",
     "iopub.status.idle": "2021-07-06T12:08:46.396598Z",
     "shell.execute_reply": "2021-07-06T12:08:46.396075Z",
     "shell.execute_reply.started": "2021-07-06T11:54:54.134794Z"
    },
    "papermill": {
     "duration": 0.054293,
     "end_time": "2021-07-06T12:08:46.396759",
     "exception": false,
     "start_time": "2021-07-06T12:08:46.342466",
     "status": "completed"
    },
    "tags": []
   },
   "outputs": [
    {
     "data": {
      "text/html": [
       "<div>\n",
       "<style scoped>\n",
       "    .dataframe tbody tr th:only-of-type {\n",
       "        vertical-align: middle;\n",
       "    }\n",
       "\n",
       "    .dataframe tbody tr th {\n",
       "        vertical-align: top;\n",
       "    }\n",
       "\n",
       "    .dataframe thead th {\n",
       "        text-align: right;\n",
       "    }\n",
       "</style>\n",
       "<table border=\"1\" class=\"dataframe\">\n",
       "  <thead>\n",
       "    <tr style=\"text-align: right;\">\n",
       "      <th></th>\n",
       "      <th>销售时间</th>\n",
       "      <th>社保卡号</th>\n",
       "      <th>商品编码</th>\n",
       "      <th>商品名称</th>\n",
       "      <th>销售数量</th>\n",
       "      <th>应收金额</th>\n",
       "      <th>实收金额</th>\n",
       "      <th>销售星期</th>\n",
       "    </tr>\n",
       "  </thead>\n",
       "  <tbody>\n",
       "    <tr>\n",
       "      <th>0</th>\n",
       "      <td>2018-01-01</td>\n",
       "      <td>1.616528e+06</td>\n",
       "      <td>236701.0</td>\n",
       "      <td>强力VC银翘片</td>\n",
       "      <td>6.0</td>\n",
       "      <td>82.8</td>\n",
       "      <td>69.0</td>\n",
       "      <td>星期五</td>\n",
       "    </tr>\n",
       "    <tr>\n",
       "      <th>1</th>\n",
       "      <td>2018-01-01</td>\n",
       "      <td>1.078916e+08</td>\n",
       "      <td>861456.0</td>\n",
       "      <td>酒石酸美托洛尔片(倍他乐克)</td>\n",
       "      <td>2.0</td>\n",
       "      <td>14.0</td>\n",
       "      <td>12.6</td>\n",
       "      <td>星期五</td>\n",
       "    </tr>\n",
       "    <tr>\n",
       "      <th>2</th>\n",
       "      <td>2018-01-01</td>\n",
       "      <td>1.616528e+06</td>\n",
       "      <td>861417.0</td>\n",
       "      <td>雷米普利片(瑞素坦)</td>\n",
       "      <td>1.0</td>\n",
       "      <td>28.5</td>\n",
       "      <td>28.5</td>\n",
       "      <td>星期五</td>\n",
       "    </tr>\n",
       "    <tr>\n",
       "      <th>3</th>\n",
       "      <td>2018-01-01</td>\n",
       "      <td>1.007397e+10</td>\n",
       "      <td>866634.0</td>\n",
       "      <td>硝苯地平控释片(欣然)</td>\n",
       "      <td>6.0</td>\n",
       "      <td>111.0</td>\n",
       "      <td>92.5</td>\n",
       "      <td>星期五</td>\n",
       "    </tr>\n",
       "    <tr>\n",
       "      <th>4</th>\n",
       "      <td>2018-01-01</td>\n",
       "      <td>1.001429e+10</td>\n",
       "      <td>866851.0</td>\n",
       "      <td>缬沙坦分散片(易达乐)</td>\n",
       "      <td>1.0</td>\n",
       "      <td>26.0</td>\n",
       "      <td>23.0</td>\n",
       "      <td>星期五</td>\n",
       "    </tr>\n",
       "  </tbody>\n",
       "</table>\n",
       "</div>"
      ],
      "text/plain": [
       "        销售时间          社保卡号      商品编码            商品名称  销售数量   应收金额  实收金额 销售星期\n",
       "0 2018-01-01  1.616528e+06  236701.0         强力VC银翘片   6.0   82.8  69.0  星期五\n",
       "1 2018-01-01  1.078916e+08  861456.0  酒石酸美托洛尔片(倍他乐克)   2.0   14.0  12.6  星期五\n",
       "2 2018-01-01  1.616528e+06  861417.0      雷米普利片(瑞素坦)   1.0   28.5  28.5  星期五\n",
       "3 2018-01-01  1.007397e+10  866634.0     硝苯地平控释片(欣然)   6.0  111.0  92.5  星期五\n",
       "4 2018-01-01  1.001429e+10  866851.0     缬沙坦分散片(易达乐)   1.0   26.0  23.0  星期五"
      ]
     },
     "execution_count": 9,
     "metadata": {},
     "output_type": "execute_result"
    }
   ],
   "source": [
    "#对数据按照时间排序\n",
    "sales = sales.sort_values('销售时间', ascending = True)\n",
    "#排序之后再重置一下index\n",
    "sales = sales.reset_index(drop = True)\n",
    "sales.head()"
   ]
  },
  {
   "cell_type": "markdown",
   "id": "essential-member",
   "metadata": {
    "papermill": {
     "duration": 0.027306,
     "end_time": "2021-07-06T12:08:46.448113",
     "exception": false,
     "start_time": "2021-07-06T12:08:46.420807",
     "status": "completed"
    },
    "tags": []
   },
   "source": [
    "## 异常值处理"
   ]
  },
  {
   "cell_type": "code",
   "execution_count": 10,
   "id": "coordinated-visiting",
   "metadata": {
    "execution": {
     "iopub.execute_input": "2021-07-06T12:08:46.508508Z",
     "iopub.status.busy": "2021-07-06T12:08:46.507756Z",
     "iopub.status.idle": "2021-07-06T12:08:46.541037Z",
     "shell.execute_reply": "2021-07-06T12:08:46.540303Z",
     "shell.execute_reply.started": "2021-07-06T11:58:49.451641Z"
    },
    "papermill": {
     "duration": 0.065787,
     "end_time": "2021-07-06T12:08:46.541196",
     "exception": false,
     "start_time": "2021-07-06T12:08:46.475409",
     "status": "completed"
    },
    "tags": []
   },
   "outputs": [
    {
     "data": {
      "text/html": [
       "<div>\n",
       "<style scoped>\n",
       "    .dataframe tbody tr th:only-of-type {\n",
       "        vertical-align: middle;\n",
       "    }\n",
       "\n",
       "    .dataframe tbody tr th {\n",
       "        vertical-align: top;\n",
       "    }\n",
       "\n",
       "    .dataframe thead th {\n",
       "        text-align: right;\n",
       "    }\n",
       "</style>\n",
       "<table border=\"1\" class=\"dataframe\">\n",
       "  <thead>\n",
       "    <tr style=\"text-align: right;\">\n",
       "      <th></th>\n",
       "      <th>社保卡号</th>\n",
       "      <th>商品编码</th>\n",
       "      <th>销售数量</th>\n",
       "      <th>应收金额</th>\n",
       "      <th>实收金额</th>\n",
       "    </tr>\n",
       "  </thead>\n",
       "  <tbody>\n",
       "    <tr>\n",
       "      <th>count</th>\n",
       "      <td>6.575000e+03</td>\n",
       "      <td>6.575000e+03</td>\n",
       "      <td>6575.000000</td>\n",
       "      <td>6575.000000</td>\n",
       "      <td>6575.000000</td>\n",
       "    </tr>\n",
       "    <tr>\n",
       "      <th>mean</th>\n",
       "      <td>6.092179e+09</td>\n",
       "      <td>1.015458e+06</td>\n",
       "      <td>2.385095</td>\n",
       "      <td>50.478935</td>\n",
       "      <td>46.321582</td>\n",
       "    </tr>\n",
       "    <tr>\n",
       "      <th>std</th>\n",
       "      <td>4.889081e+09</td>\n",
       "      <td>5.126518e+05</td>\n",
       "      <td>2.373702</td>\n",
       "      <td>87.607883</td>\n",
       "      <td>80.987682</td>\n",
       "    </tr>\n",
       "    <tr>\n",
       "      <th>min</th>\n",
       "      <td>1.616528e+06</td>\n",
       "      <td>2.367010e+05</td>\n",
       "      <td>-10.000000</td>\n",
       "      <td>-374.000000</td>\n",
       "      <td>-374.000000</td>\n",
       "    </tr>\n",
       "    <tr>\n",
       "      <th>25%</th>\n",
       "      <td>1.014234e+08</td>\n",
       "      <td>8.614560e+05</td>\n",
       "      <td>1.000000</td>\n",
       "      <td>14.000000</td>\n",
       "      <td>12.320000</td>\n",
       "    </tr>\n",
       "    <tr>\n",
       "      <th>50%</th>\n",
       "      <td>1.001650e+10</td>\n",
       "      <td>8.615070e+05</td>\n",
       "      <td>2.000000</td>\n",
       "      <td>28.000000</td>\n",
       "      <td>26.600000</td>\n",
       "    </tr>\n",
       "    <tr>\n",
       "      <th>75%</th>\n",
       "      <td>1.004882e+10</td>\n",
       "      <td>8.689265e+05</td>\n",
       "      <td>2.000000</td>\n",
       "      <td>59.600000</td>\n",
       "      <td>53.000000</td>\n",
       "    </tr>\n",
       "    <tr>\n",
       "      <th>max</th>\n",
       "      <td>1.283612e+10</td>\n",
       "      <td>2.367012e+06</td>\n",
       "      <td>50.000000</td>\n",
       "      <td>2950.000000</td>\n",
       "      <td>2650.000000</td>\n",
       "    </tr>\n",
       "  </tbody>\n",
       "</table>\n",
       "</div>"
      ],
      "text/plain": [
       "               社保卡号          商品编码         销售数量         应收金额         实收金额\n",
       "count  6.575000e+03  6.575000e+03  6575.000000  6575.000000  6575.000000\n",
       "mean   6.092179e+09  1.015458e+06     2.385095    50.478935    46.321582\n",
       "std    4.889081e+09  5.126518e+05     2.373702    87.607883    80.987682\n",
       "min    1.616528e+06  2.367010e+05   -10.000000  -374.000000  -374.000000\n",
       "25%    1.014234e+08  8.614560e+05     1.000000    14.000000    12.320000\n",
       "50%    1.001650e+10  8.615070e+05     2.000000    28.000000    26.600000\n",
       "75%    1.004882e+10  8.689265e+05     2.000000    59.600000    53.000000\n",
       "max    1.283612e+10  2.367012e+06    50.000000  2950.000000  2650.000000"
      ]
     },
     "execution_count": 10,
     "metadata": {},
     "output_type": "execute_result"
    }
   ],
   "source": [
    "sales.describe()"
   ]
  },
  {
   "cell_type": "code",
   "execution_count": 11,
   "id": "crude-albany",
   "metadata": {
    "execution": {
     "iopub.execute_input": "2021-07-06T12:08:46.597777Z",
     "iopub.status.busy": "2021-07-06T12:08:46.597099Z",
     "iopub.status.idle": "2021-07-06T12:08:46.602023Z",
     "shell.execute_reply": "2021-07-06T12:08:46.601466Z",
     "shell.execute_reply.started": "2021-07-06T11:58:59.669914Z"
    },
    "papermill": {
     "duration": 0.035303,
     "end_time": "2021-07-06T12:08:46.602176",
     "exception": false,
     "start_time": "2021-07-06T12:08:46.566873",
     "status": "completed"
    },
    "tags": []
   },
   "outputs": [],
   "source": [
    "#选取销售数量和应收金额大于0的列\n",
    "sales = sales[(sales['销售数量'] > 0) & (sales['应收金额'] > 0)]"
   ]
  },
  {
   "cell_type": "markdown",
   "id": "superior-laundry",
   "metadata": {
    "papermill": {
     "duration": 0.025515,
     "end_time": "2021-07-06T12:08:46.652220",
     "exception": false,
     "start_time": "2021-07-06T12:08:46.626705",
     "status": "completed"
    },
    "tags": []
   },
   "source": [
    "# 3 数据分析"
   ]
  },
  {
   "cell_type": "markdown",
   "id": "illegal-panic",
   "metadata": {
    "papermill": {
     "duration": 0.023579,
     "end_time": "2021-07-06T12:08:46.700233",
     "exception": false,
     "start_time": "2021-07-06T12:08:46.676654",
     "status": "completed"
    },
    "tags": []
   },
   "source": [
    "## 月均消费次数"
   ]
  },
  {
   "cell_type": "code",
   "execution_count": 12,
   "id": "dress-fluid",
   "metadata": {
    "execution": {
     "iopub.execute_input": "2021-07-06T12:08:46.760584Z",
     "iopub.status.busy": "2021-07-06T12:08:46.759889Z",
     "iopub.status.idle": "2021-07-06T12:08:46.770660Z",
     "shell.execute_reply": "2021-07-06T12:08:46.770024Z",
     "shell.execute_reply.started": "2021-07-06T12:02:26.696656Z"
    },
    "papermill": {
     "duration": 0.046346,
     "end_time": "2021-07-06T12:08:46.770804",
     "exception": false,
     "start_time": "2021-07-06T12:08:46.724458",
     "status": "completed"
    },
    "tags": []
   },
   "outputs": [
    {
     "name": "stdout",
     "output_type": "stream",
     "text": [
      "月均消费次数为： 893.8333333333334\n"
     ]
    }
   ],
   "source": [
    "#首先对数据进行一个去重，使用drop_duplicates函数\n",
    "salesqc = sales.drop_duplicates(subset = ['销售时间', '社保卡号'])\n",
    "#去重后看一下共有多少条购买数据(结果为5363)\n",
    "Total = salesqc.shape[0]\n",
    "\n",
    "#再计算月份\n",
    "#用销售时间的最大值减去最小值即可得到天数,再除以（地板除）三十就可以得到月份了\n",
    "month = (sales['销售时间'].max() - sales['销售时间'].min()).days//30\n",
    "\n",
    "KPI1 = Total / month\n",
    "print('月均消费次数为：', KPI1)"
   ]
  },
  {
   "cell_type": "markdown",
   "id": "republican-volume",
   "metadata": {
    "papermill": {
     "duration": 0.024269,
     "end_time": "2021-07-06T12:08:46.819567",
     "exception": false,
     "start_time": "2021-07-06T12:08:46.795298",
     "status": "completed"
    },
    "tags": []
   },
   "source": [
    "## 月均消费金额"
   ]
  },
  {
   "cell_type": "code",
   "execution_count": 13,
   "id": "ethical-vault",
   "metadata": {
    "execution": {
     "iopub.execute_input": "2021-07-06T12:08:46.876872Z",
     "iopub.status.busy": "2021-07-06T12:08:46.876038Z",
     "iopub.status.idle": "2021-07-06T12:08:46.880229Z",
     "shell.execute_reply": "2021-07-06T12:08:46.880708Z",
     "shell.execute_reply.started": "2021-07-06T12:03:04.777544Z"
    },
    "papermill": {
     "duration": 0.035672,
     "end_time": "2021-07-06T12:08:46.880896",
     "exception": false,
     "start_time": "2021-07-06T12:08:46.845224",
     "status": "completed"
    },
    "tags": []
   },
   "outputs": [
    {
     "name": "stdout",
     "output_type": "stream",
     "text": [
      "月均消费金额为： 50909.695\n"
     ]
    }
   ],
   "source": [
    "#计算总金额\n",
    "Total1 = sales['实收金额'].sum()\n",
    "\n",
    "KPI2 = Total1 / month\n",
    "\n",
    "print('月均消费金额为：', KPI2)"
   ]
  },
  {
   "cell_type": "markdown",
   "id": "hollywood-oasis",
   "metadata": {
    "papermill": {
     "duration": 0.024403,
     "end_time": "2021-07-06T12:08:46.930075",
     "exception": false,
     "start_time": "2021-07-06T12:08:46.905672",
     "status": "completed"
    },
    "tags": []
   },
   "source": [
    "## 客单价"
   ]
  },
  {
   "cell_type": "code",
   "execution_count": 14,
   "id": "sound-georgia",
   "metadata": {
    "execution": {
     "iopub.execute_input": "2021-07-06T12:08:46.985311Z",
     "iopub.status.busy": "2021-07-06T12:08:46.984407Z",
     "iopub.status.idle": "2021-07-06T12:08:46.988144Z",
     "shell.execute_reply": "2021-07-06T12:08:46.988607Z",
     "shell.execute_reply.started": "2021-07-06T12:04:19.768853Z"
    },
    "papermill": {
     "duration": 0.03409,
     "end_time": "2021-07-06T12:08:46.988850",
     "exception": false,
     "start_time": "2021-07-06T12:08:46.954760",
     "status": "completed"
    },
    "tags": []
   },
   "outputs": [
    {
     "name": "stdout",
     "output_type": "stream",
     "text": [
      "客单价为： 56.9565858661197\n"
     ]
    }
   ],
   "source": [
    "kdj = Total1 / Total\n",
    "\n",
    "print('客单价为：', kdj)"
   ]
  },
  {
   "cell_type": "markdown",
   "id": "white-uruguay",
   "metadata": {
    "papermill": {
     "duration": 0.026752,
     "end_time": "2021-07-06T12:08:47.041955",
     "exception": false,
     "start_time": "2021-07-06T12:08:47.015203",
     "status": "completed"
    },
    "tags": []
   },
   "source": [
    "## 消费趋势"
   ]
  },
  {
   "cell_type": "code",
   "execution_count": 15,
   "id": "excited-mississippi",
   "metadata": {
    "execution": {
     "iopub.execute_input": "2021-07-06T12:08:47.103927Z",
     "iopub.status.busy": "2021-07-06T12:08:47.102861Z",
     "iopub.status.idle": "2021-07-06T12:08:47.123955Z",
     "shell.execute_reply": "2021-07-06T12:08:47.123104Z",
     "shell.execute_reply.started": "2021-07-06T12:05:38.117795Z"
    },
    "papermill": {
     "duration": 0.054482,
     "end_time": "2021-07-06T12:08:47.124127",
     "exception": false,
     "start_time": "2021-07-06T12:08:47.069645",
     "status": "completed"
    },
    "tags": []
   },
   "outputs": [],
   "source": [
    "##对去重后的数据按照天进行重新采样\n",
    "#首先要把索引变成时间\n",
    "sales.index = pd.DatetimeIndex(sales['销售时间'])\n",
    "#然后对其按照每天从新采样\n",
    "salesd = sales.resample('D').count()"
   ]
  },
  {
   "cell_type": "code",
   "execution_count": 16,
   "id": "compact-baking",
   "metadata": {
    "execution": {
     "iopub.execute_input": "2021-07-06T12:08:47.187175Z",
     "iopub.status.busy": "2021-07-06T12:08:47.186438Z",
     "iopub.status.idle": "2021-07-06T12:08:47.188933Z",
     "shell.execute_reply": "2021-07-06T12:08:47.188302Z",
     "shell.execute_reply.started": "2021-07-06T12:08:10.483032Z"
    },
    "papermill": {
     "duration": 0.035675,
     "end_time": "2021-07-06T12:08:47.189094",
     "exception": false,
     "start_time": "2021-07-06T12:08:47.153419",
     "status": "completed"
    },
    "tags": []
   },
   "outputs": [],
   "source": [
    "#画图\n",
    "# salesd.plot(x = salesd.index, y = '实收金额')\n",
    "# plt.xlabel('Time')\n",
    "# plt.ylabel('Money')\n",
    "# plt.title('销售数据')\n",
    "# plt.show()"
   ]
  },
  {
   "cell_type": "code",
   "execution_count": 17,
   "id": "modular-rider",
   "metadata": {
    "execution": {
     "iopub.execute_input": "2021-07-06T12:08:47.249291Z",
     "iopub.status.busy": "2021-07-06T12:08:47.247878Z",
     "iopub.status.idle": "2021-07-06T12:08:47.250486Z",
     "shell.execute_reply": "2021-07-06T12:08:47.251007Z",
     "shell.execute_reply.started": "2021-07-06T12:08:15.075000Z"
    },
    "papermill": {
     "duration": 0.036458,
     "end_time": "2021-07-06T12:08:47.251194",
     "exception": false,
     "start_time": "2021-07-06T12:08:47.214736",
     "status": "completed"
    },
    "tags": []
   },
   "outputs": [],
   "source": [
    "#按月采样\n",
    "# salesm = sales.resample('M').count()\n",
    "# #画图\n",
    "# salesm.plot(x = salesm.index, y = '实收金额')\n",
    "# plt.xlabel('Time')\n",
    "# plt.ylabel('People')\n",
    "# plt.title('ke liu liang (month)')\n",
    "# plt.show()"
   ]
  },
  {
   "cell_type": "code",
   "execution_count": 18,
   "id": "distant-macedonia",
   "metadata": {
    "execution": {
     "iopub.execute_input": "2021-07-06T12:08:47.312031Z",
     "iopub.status.busy": "2021-07-06T12:08:47.309095Z",
     "iopub.status.idle": "2021-07-06T12:08:47.316652Z",
     "shell.execute_reply": "2021-07-06T12:08:47.315987Z",
     "shell.execute_reply.started": "2021-07-06T12:07:19.194484Z"
    },
    "papermill": {
     "duration": 0.040207,
     "end_time": "2021-07-06T12:08:47.316804",
     "exception": false,
     "start_time": "2021-07-06T12:08:47.276597",
     "status": "completed"
    },
    "tags": []
   },
   "outputs": [
    {
     "data": {
      "text/plain": [
       "销售星期\n",
       "星期一    40354.99\n",
       "星期三    39073.64\n",
       "星期二    44534.63\n",
       "星期五    49817.87\n",
       "星期六    47834.33\n",
       "星期四    40310.08\n",
       "星期日    43532.63\n",
       "Name: 实收金额, dtype: float64"
      ]
     },
     "execution_count": 18,
     "metadata": {},
     "output_type": "execute_result"
    }
   ],
   "source": [
    "sales.groupby('销售星期')['实收金额'].sum()"
   ]
  },
  {
   "cell_type": "code",
   "execution_count": null,
   "id": "split-disposal",
   "metadata": {
    "papermill": {
     "duration": 0.027754,
     "end_time": "2021-07-06T12:08:47.374666",
     "exception": false,
     "start_time": "2021-07-06T12:08:47.346912",
     "status": "completed"
    },
    "tags": []
   },
   "outputs": [],
   "source": []
  }
 ],
 "metadata": {
  "kernelspec": {
   "display_name": "Python 3",
   "language": "python",
   "name": "python3"
  },
  "language_info": {
   "codemirror_mode": {
    "name": "ipython",
    "version": 3
   },
   "file_extension": ".py",
   "mimetype": "text/x-python",
   "name": "python",
   "nbconvert_exporter": "python",
   "pygments_lexer": "ipython3",
   "version": "3.7.10"
  },
  "papermill": {
   "default_parameters": {},
   "duration": 12.701629,
   "end_time": "2021-07-06T12:08:48.212447",
   "environment_variables": {},
   "exception": null,
   "input_path": "__notebook__.ipynb",
   "output_path": "__notebook__.ipynb",
   "parameters": {},
   "start_time": "2021-07-06T12:08:35.510818",
   "version": "2.3.3"
  }
 },
 "nbformat": 4,
 "nbformat_minor": 5
}
