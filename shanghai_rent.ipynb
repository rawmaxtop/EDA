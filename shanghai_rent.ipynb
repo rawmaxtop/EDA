{
 "cells": [
  {
   "cell_type": "code",
   "execution_count": 1,
   "metadata": {
    "_cell_guid": "b1076dfc-b9ad-4769-8c92-a6c4dae69d19",
    "_uuid": "8f2839f25d086af736a60e9eeb907d3b93b6e0e5",
    "execution": {
     "iopub.execute_input": "2021-04-30T21:46:24.685536Z",
     "iopub.status.busy": "2021-04-30T21:46:24.683736Z",
     "iopub.status.idle": "2021-04-30T21:46:24.705896Z",
     "shell.execute_reply": "2021-04-30T21:46:24.706479Z"
    },
    "papermill": {
     "duration": 0.047403,
     "end_time": "2021-04-30T21:46:24.706764",
     "exception": false,
     "start_time": "2021-04-30T21:46:24.659361",
     "status": "completed"
    },
    "tags": []
   },
   "outputs": [],
   "source": [
    "import numpy as np \n",
    "import pandas as pd \n"
   ]
  },
  {
   "cell_type": "code",
   "execution_count": 2,
   "metadata": {
    "execution": {
     "iopub.execute_input": "2021-04-30T21:46:24.750398Z",
     "iopub.status.busy": "2021-04-30T21:46:24.749721Z",
     "iopub.status.idle": "2021-04-30T21:46:25.617043Z",
     "shell.execute_reply": "2021-04-30T21:46:25.616465Z"
    },
    "papermill": {
     "duration": 0.890256,
     "end_time": "2021-04-30T21:46:25.617196",
     "exception": false,
     "start_time": "2021-04-30T21:46:24.726940",
     "status": "completed"
    },
    "tags": []
   },
   "outputs": [],
   "source": [
    "import seaborn as sns\n",
    "import matplotlib.pyplot as plt\n"
   ]
  },
  {
   "cell_type": "code",
   "execution_count": 3,
   "metadata": {
    "execution": {
     "iopub.execute_input": "2021-04-30T21:46:25.663129Z",
     "iopub.status.busy": "2021-04-30T21:46:25.662473Z",
     "iopub.status.idle": "2021-04-30T21:46:25.692913Z",
     "shell.execute_reply": "2021-04-30T21:46:25.692305Z"
    },
    "papermill": {
     "duration": 0.05592,
     "end_time": "2021-04-30T21:46:25.693081",
     "exception": false,
     "start_time": "2021-04-30T21:46:25.637161",
     "status": "completed"
    },
    "tags": []
   },
   "outputs": [],
   "source": [
    "data= pd.read_csv(\"./for_tableau_2.csv\")"
   ]
  },
  {
   "cell_type": "code",
   "execution_count": 4,
   "metadata": {
    "execution": {
     "iopub.execute_input": "2021-04-30T21:46:25.747413Z",
     "iopub.status.busy": "2021-04-30T21:46:25.746405Z",
     "iopub.status.idle": "2021-04-30T21:46:25.767552Z",
     "shell.execute_reply": "2021-04-30T21:46:25.768085Z"
    },
    "papermill": {
     "duration": 0.055504,
     "end_time": "2021-04-30T21:46:25.768273",
     "exception": false,
     "start_time": "2021-04-30T21:46:25.712769",
     "status": "completed"
    },
    "tags": []
   },
   "outputs": [
    {
     "name": "stdout",
     "output_type": "stream",
     "text": [
      "<class 'pandas.core.frame.DataFrame'>\n",
      "RangeIndex: 2608 entries, 0 to 2607\n",
      "Data columns (total 22 columns):\n",
      "district           2602 non-null object\n",
      "address            2607 non-null object\n",
      "Latitude           2608 non-null float64\n",
      "Longitude          2607 non-null float64\n",
      "rent               2608 non-null float64\n",
      "bedrooms           2608 non-null int64\n",
      "living-dining      2608 non-null int64\n",
      "bathrooms          2608 non-null int64\n",
      "loft               2608 non-null int64\n",
      "sqmeters           2608 non-null int64\n",
      "entire_building    2608 non-null int64\n",
      "building_type      2608 non-null object\n",
      "use_type_en        2607 non-null object\n",
      "heat               2608 non-null int64\n",
      "ac                 2608 non-null int64\n",
      "balcony            2608 non-null int64\n",
      "WIFI               2608 non-null int64\n",
      "outdoor_space      2608 non-null int64\n",
      "bathtub            2608 non-null int64\n",
      "floor_heat         2608 non-null int64\n",
      "oven               2608 non-null int64\n",
      "total_amens        2608 non-null int64\n",
      "dtypes: float64(3), int64(15), object(4)\n",
      "memory usage: 448.4+ KB\n"
     ]
    }
   ],
   "source": [
    "data.info()"
   ]
  },
  {
   "cell_type": "code",
   "execution_count": 5,
   "metadata": {
    "execution": {
     "iopub.execute_input": "2021-04-30T21:46:25.811919Z",
     "iopub.status.busy": "2021-04-30T21:46:25.810993Z",
     "iopub.status.idle": "2021-04-30T21:46:25.886548Z",
     "shell.execute_reply": "2021-04-30T21:46:25.886002Z"
    },
    "papermill": {
     "duration": 0.098299,
     "end_time": "2021-04-30T21:46:25.886693",
     "exception": false,
     "start_time": "2021-04-30T21:46:25.788394",
     "status": "completed"
    },
    "tags": []
   },
   "outputs": [
    {
     "data": {
      "text/html": [
       "<div>\n",
       "<style scoped>\n",
       "    .dataframe tbody tr th:only-of-type {\n",
       "        vertical-align: middle;\n",
       "    }\n",
       "\n",
       "    .dataframe tbody tr th {\n",
       "        vertical-align: top;\n",
       "    }\n",
       "\n",
       "    .dataframe thead th {\n",
       "        text-align: right;\n",
       "    }\n",
       "</style>\n",
       "<table border=\"1\" class=\"dataframe\">\n",
       "  <thead>\n",
       "    <tr style=\"text-align: right;\">\n",
       "      <th></th>\n",
       "      <th>Latitude</th>\n",
       "      <th>Longitude</th>\n",
       "      <th>rent</th>\n",
       "      <th>bedrooms</th>\n",
       "      <th>living-dining</th>\n",
       "      <th>bathrooms</th>\n",
       "      <th>loft</th>\n",
       "      <th>sqmeters</th>\n",
       "      <th>entire_building</th>\n",
       "      <th>heat</th>\n",
       "      <th>ac</th>\n",
       "      <th>balcony</th>\n",
       "      <th>WIFI</th>\n",
       "      <th>outdoor_space</th>\n",
       "      <th>bathtub</th>\n",
       "      <th>floor_heat</th>\n",
       "      <th>oven</th>\n",
       "      <th>total_amens</th>\n",
       "    </tr>\n",
       "  </thead>\n",
       "  <tbody>\n",
       "    <tr>\n",
       "      <td>count</td>\n",
       "      <td>2608.000000</td>\n",
       "      <td>2607.000000</td>\n",
       "      <td>2608.000000</td>\n",
       "      <td>2608.000000</td>\n",
       "      <td>2608.000000</td>\n",
       "      <td>2608.000000</td>\n",
       "      <td>2608.000000</td>\n",
       "      <td>2608.000000</td>\n",
       "      <td>2608.000000</td>\n",
       "      <td>2608.000000</td>\n",
       "      <td>2608.000000</td>\n",
       "      <td>2608.000000</td>\n",
       "      <td>2608.000000</td>\n",
       "      <td>2608.000000</td>\n",
       "      <td>2608.000000</td>\n",
       "      <td>2608.000000</td>\n",
       "      <td>2608.000000</td>\n",
       "      <td>2608.000000</td>\n",
       "    </tr>\n",
       "    <tr>\n",
       "      <td>mean</td>\n",
       "      <td>31.247663</td>\n",
       "      <td>121.548814</td>\n",
       "      <td>13904.957048</td>\n",
       "      <td>1.668712</td>\n",
       "      <td>1.304448</td>\n",
       "      <td>1.332439</td>\n",
       "      <td>0.092791</td>\n",
       "      <td>80.705905</td>\n",
       "      <td>0.060583</td>\n",
       "      <td>0.388420</td>\n",
       "      <td>0.733896</td>\n",
       "      <td>0.307899</td>\n",
       "      <td>0.215491</td>\n",
       "      <td>0.523006</td>\n",
       "      <td>0.216258</td>\n",
       "      <td>0.143788</td>\n",
       "      <td>0.062117</td>\n",
       "      <td>2.590874</td>\n",
       "    </tr>\n",
       "    <tr>\n",
       "      <td>std</td>\n",
       "      <td>1.769190</td>\n",
       "      <td>0.042042</td>\n",
       "      <td>13507.050818</td>\n",
       "      <td>1.116148</td>\n",
       "      <td>0.730262</td>\n",
       "      <td>0.810076</td>\n",
       "      <td>0.290196</td>\n",
       "      <td>69.769766</td>\n",
       "      <td>0.238609</td>\n",
       "      <td>0.487484</td>\n",
       "      <td>0.442004</td>\n",
       "      <td>0.461713</td>\n",
       "      <td>0.411241</td>\n",
       "      <td>0.499566</td>\n",
       "      <td>0.411771</td>\n",
       "      <td>0.350942</td>\n",
       "      <td>0.241413</td>\n",
       "      <td>1.619130</td>\n",
       "    </tr>\n",
       "    <tr>\n",
       "      <td>min</td>\n",
       "      <td>31.031200</td>\n",
       "      <td>121.036421</td>\n",
       "      <td>2500.000000</td>\n",
       "      <td>1.000000</td>\n",
       "      <td>0.000000</td>\n",
       "      <td>0.000000</td>\n",
       "      <td>0.000000</td>\n",
       "      <td>1.000000</td>\n",
       "      <td>0.000000</td>\n",
       "      <td>0.000000</td>\n",
       "      <td>0.000000</td>\n",
       "      <td>0.000000</td>\n",
       "      <td>0.000000</td>\n",
       "      <td>0.000000</td>\n",
       "      <td>0.000000</td>\n",
       "      <td>0.000000</td>\n",
       "      <td>0.000000</td>\n",
       "      <td>0.000000</td>\n",
       "    </tr>\n",
       "    <tr>\n",
       "      <td>25%</td>\n",
       "      <td>31.212780</td>\n",
       "      <td>121.562170</td>\n",
       "      <td>6875.000000</td>\n",
       "      <td>1.000000</td>\n",
       "      <td>1.000000</td>\n",
       "      <td>1.000000</td>\n",
       "      <td>0.000000</td>\n",
       "      <td>42.000000</td>\n",
       "      <td>0.000000</td>\n",
       "      <td>0.000000</td>\n",
       "      <td>0.000000</td>\n",
       "      <td>0.000000</td>\n",
       "      <td>0.000000</td>\n",
       "      <td>0.000000</td>\n",
       "      <td>0.000000</td>\n",
       "      <td>0.000000</td>\n",
       "      <td>0.000000</td>\n",
       "      <td>1.000000</td>\n",
       "    </tr>\n",
       "    <tr>\n",
       "      <td>50%</td>\n",
       "      <td>31.212780</td>\n",
       "      <td>121.562170</td>\n",
       "      <td>10000.000000</td>\n",
       "      <td>1.000000</td>\n",
       "      <td>1.000000</td>\n",
       "      <td>1.000000</td>\n",
       "      <td>0.000000</td>\n",
       "      <td>60.000000</td>\n",
       "      <td>0.000000</td>\n",
       "      <td>0.000000</td>\n",
       "      <td>1.000000</td>\n",
       "      <td>0.000000</td>\n",
       "      <td>0.000000</td>\n",
       "      <td>1.000000</td>\n",
       "      <td>0.000000</td>\n",
       "      <td>0.000000</td>\n",
       "      <td>0.000000</td>\n",
       "      <td>2.000000</td>\n",
       "    </tr>\n",
       "    <tr>\n",
       "      <td>75%</td>\n",
       "      <td>31.212780</td>\n",
       "      <td>121.562170</td>\n",
       "      <td>15500.000000</td>\n",
       "      <td>2.000000</td>\n",
       "      <td>2.000000</td>\n",
       "      <td>1.000000</td>\n",
       "      <td>0.000000</td>\n",
       "      <td>90.000000</td>\n",
       "      <td>0.000000</td>\n",
       "      <td>1.000000</td>\n",
       "      <td>1.000000</td>\n",
       "      <td>1.000000</td>\n",
       "      <td>0.000000</td>\n",
       "      <td>1.000000</td>\n",
       "      <td>0.000000</td>\n",
       "      <td>0.000000</td>\n",
       "      <td>0.000000</td>\n",
       "      <td>4.000000</td>\n",
       "    </tr>\n",
       "    <tr>\n",
       "      <td>max</td>\n",
       "      <td>121.562170</td>\n",
       "      <td>121.691069</td>\n",
       "      <td>220000.000000</td>\n",
       "      <td>10.000000</td>\n",
       "      <td>9.000000</td>\n",
       "      <td>15.000000</td>\n",
       "      <td>1.000000</td>\n",
       "      <td>600.000000</td>\n",
       "      <td>1.000000</td>\n",
       "      <td>1.000000</td>\n",
       "      <td>1.000000</td>\n",
       "      <td>1.000000</td>\n",
       "      <td>1.000000</td>\n",
       "      <td>1.000000</td>\n",
       "      <td>1.000000</td>\n",
       "      <td>1.000000</td>\n",
       "      <td>1.000000</td>\n",
       "      <td>8.000000</td>\n",
       "    </tr>\n",
       "  </tbody>\n",
       "</table>\n",
       "</div>"
      ],
      "text/plain": [
       "          Latitude    Longitude           rent     bedrooms  living-dining  \\\n",
       "count  2608.000000  2607.000000    2608.000000  2608.000000    2608.000000   \n",
       "mean     31.247663   121.548814   13904.957048     1.668712       1.304448   \n",
       "std       1.769190     0.042042   13507.050818     1.116148       0.730262   \n",
       "min      31.031200   121.036421    2500.000000     1.000000       0.000000   \n",
       "25%      31.212780   121.562170    6875.000000     1.000000       1.000000   \n",
       "50%      31.212780   121.562170   10000.000000     1.000000       1.000000   \n",
       "75%      31.212780   121.562170   15500.000000     2.000000       2.000000   \n",
       "max     121.562170   121.691069  220000.000000    10.000000       9.000000   \n",
       "\n",
       "         bathrooms         loft     sqmeters  entire_building         heat  \\\n",
       "count  2608.000000  2608.000000  2608.000000      2608.000000  2608.000000   \n",
       "mean      1.332439     0.092791    80.705905         0.060583     0.388420   \n",
       "std       0.810076     0.290196    69.769766         0.238609     0.487484   \n",
       "min       0.000000     0.000000     1.000000         0.000000     0.000000   \n",
       "25%       1.000000     0.000000    42.000000         0.000000     0.000000   \n",
       "50%       1.000000     0.000000    60.000000         0.000000     0.000000   \n",
       "75%       1.000000     0.000000    90.000000         0.000000     1.000000   \n",
       "max      15.000000     1.000000   600.000000         1.000000     1.000000   \n",
       "\n",
       "                ac      balcony         WIFI  outdoor_space      bathtub  \\\n",
       "count  2608.000000  2608.000000  2608.000000    2608.000000  2608.000000   \n",
       "mean      0.733896     0.307899     0.215491       0.523006     0.216258   \n",
       "std       0.442004     0.461713     0.411241       0.499566     0.411771   \n",
       "min       0.000000     0.000000     0.000000       0.000000     0.000000   \n",
       "25%       0.000000     0.000000     0.000000       0.000000     0.000000   \n",
       "50%       1.000000     0.000000     0.000000       1.000000     0.000000   \n",
       "75%       1.000000     1.000000     0.000000       1.000000     0.000000   \n",
       "max       1.000000     1.000000     1.000000       1.000000     1.000000   \n",
       "\n",
       "        floor_heat         oven  total_amens  \n",
       "count  2608.000000  2608.000000  2608.000000  \n",
       "mean      0.143788     0.062117     2.590874  \n",
       "std       0.350942     0.241413     1.619130  \n",
       "min       0.000000     0.000000     0.000000  \n",
       "25%       0.000000     0.000000     1.000000  \n",
       "50%       0.000000     0.000000     2.000000  \n",
       "75%       0.000000     0.000000     4.000000  \n",
       "max       1.000000     1.000000     8.000000  "
      ]
     },
     "execution_count": 5,
     "metadata": {},
     "output_type": "execute_result"
    }
   ],
   "source": [
    "data.describe()"
   ]
  },
  {
   "cell_type": "code",
   "execution_count": 6,
   "metadata": {
    "execution": {
     "iopub.execute_input": "2021-04-30T21:46:25.950544Z",
     "iopub.status.busy": "2021-04-30T21:46:25.949789Z",
     "iopub.status.idle": "2021-04-30T21:46:25.952867Z",
     "shell.execute_reply": "2021-04-30T21:46:25.953331Z"
    },
    "papermill": {
     "duration": 0.04591,
     "end_time": "2021-04-30T21:46:25.953504",
     "exception": false,
     "start_time": "2021-04-30T21:46:25.907594",
     "status": "completed"
    },
    "tags": []
   },
   "outputs": [
    {
     "data": {
      "text/html": [
       "<div>\n",
       "<style scoped>\n",
       "    .dataframe tbody tr th:only-of-type {\n",
       "        vertical-align: middle;\n",
       "    }\n",
       "\n",
       "    .dataframe tbody tr th {\n",
       "        vertical-align: top;\n",
       "    }\n",
       "\n",
       "    .dataframe thead th {\n",
       "        text-align: right;\n",
       "    }\n",
       "</style>\n",
       "<table border=\"1\" class=\"dataframe\">\n",
       "  <thead>\n",
       "    <tr style=\"text-align: right;\">\n",
       "      <th></th>\n",
       "      <th>district</th>\n",
       "      <th>address</th>\n",
       "      <th>Latitude</th>\n",
       "      <th>Longitude</th>\n",
       "      <th>rent</th>\n",
       "      <th>bedrooms</th>\n",
       "      <th>living-dining</th>\n",
       "      <th>bathrooms</th>\n",
       "      <th>loft</th>\n",
       "      <th>sqmeters</th>\n",
       "      <th>...</th>\n",
       "      <th>use_type_en</th>\n",
       "      <th>heat</th>\n",
       "      <th>ac</th>\n",
       "      <th>balcony</th>\n",
       "      <th>WIFI</th>\n",
       "      <th>outdoor_space</th>\n",
       "      <th>bathtub</th>\n",
       "      <th>floor_heat</th>\n",
       "      <th>oven</th>\n",
       "      <th>total_amens</th>\n",
       "    </tr>\n",
       "  </thead>\n",
       "  <tbody>\n",
       "    <tr>\n",
       "      <td>0</td>\n",
       "      <td>Huangpu</td>\n",
       "      <td>淮海中路526弄77号</td>\n",
       "      <td>31.21278</td>\n",
       "      <td>121.56217</td>\n",
       "      <td>2500.0</td>\n",
       "      <td>1</td>\n",
       "      <td>0</td>\n",
       "      <td>1</td>\n",
       "      <td>0</td>\n",
       "      <td>20</td>\n",
       "      <td>...</td>\n",
       "      <td>residential</td>\n",
       "      <td>0</td>\n",
       "      <td>1</td>\n",
       "      <td>0</td>\n",
       "      <td>1</td>\n",
       "      <td>0</td>\n",
       "      <td>0</td>\n",
       "      <td>0</td>\n",
       "      <td>0</td>\n",
       "      <td>2</td>\n",
       "    </tr>\n",
       "    <tr>\n",
       "      <td>1</td>\n",
       "      <td>Xuhui</td>\n",
       "      <td>延庆路29弄21号</td>\n",
       "      <td>31.21278</td>\n",
       "      <td>121.56217</td>\n",
       "      <td>2500.0</td>\n",
       "      <td>1</td>\n",
       "      <td>0</td>\n",
       "      <td>1</td>\n",
       "      <td>0</td>\n",
       "      <td>15</td>\n",
       "      <td>...</td>\n",
       "      <td>residential</td>\n",
       "      <td>0</td>\n",
       "      <td>1</td>\n",
       "      <td>0</td>\n",
       "      <td>0</td>\n",
       "      <td>0</td>\n",
       "      <td>0</td>\n",
       "      <td>0</td>\n",
       "      <td>0</td>\n",
       "      <td>1</td>\n",
       "    </tr>\n",
       "    <tr>\n",
       "      <td>2</td>\n",
       "      <td>Putuo</td>\n",
       "      <td>武宁路2525弄21号</td>\n",
       "      <td>31.21278</td>\n",
       "      <td>121.56217</td>\n",
       "      <td>2500.0</td>\n",
       "      <td>1</td>\n",
       "      <td>0</td>\n",
       "      <td>0</td>\n",
       "      <td>0</td>\n",
       "      <td>18</td>\n",
       "      <td>...</td>\n",
       "      <td>residential</td>\n",
       "      <td>0</td>\n",
       "      <td>1</td>\n",
       "      <td>1</td>\n",
       "      <td>1</td>\n",
       "      <td>0</td>\n",
       "      <td>0</td>\n",
       "      <td>0</td>\n",
       "      <td>0</td>\n",
       "      <td>3</td>\n",
       "    </tr>\n",
       "    <tr>\n",
       "      <td>3</td>\n",
       "      <td>Jing'an</td>\n",
       "      <td>南京西路972弄986号</td>\n",
       "      <td>31.21278</td>\n",
       "      <td>121.56217</td>\n",
       "      <td>2500.0</td>\n",
       "      <td>1</td>\n",
       "      <td>0</td>\n",
       "      <td>1</td>\n",
       "      <td>0</td>\n",
       "      <td>15</td>\n",
       "      <td>...</td>\n",
       "      <td>residential</td>\n",
       "      <td>0</td>\n",
       "      <td>0</td>\n",
       "      <td>0</td>\n",
       "      <td>0</td>\n",
       "      <td>1</td>\n",
       "      <td>0</td>\n",
       "      <td>0</td>\n",
       "      <td>0</td>\n",
       "      <td>1</td>\n",
       "    </tr>\n",
       "    <tr>\n",
       "      <td>4</td>\n",
       "      <td>Huangpu</td>\n",
       "      <td>广东路392号</td>\n",
       "      <td>31.21278</td>\n",
       "      <td>121.56217</td>\n",
       "      <td>2500.0</td>\n",
       "      <td>1</td>\n",
       "      <td>0</td>\n",
       "      <td>1</td>\n",
       "      <td>0</td>\n",
       "      <td>10</td>\n",
       "      <td>...</td>\n",
       "      <td>residential</td>\n",
       "      <td>0</td>\n",
       "      <td>1</td>\n",
       "      <td>0</td>\n",
       "      <td>0</td>\n",
       "      <td>0</td>\n",
       "      <td>0</td>\n",
       "      <td>0</td>\n",
       "      <td>0</td>\n",
       "      <td>1</td>\n",
       "    </tr>\n",
       "  </tbody>\n",
       "</table>\n",
       "<p>5 rows × 22 columns</p>\n",
       "</div>"
      ],
      "text/plain": [
       "  district       address  Latitude  Longitude    rent  bedrooms  \\\n",
       "0  Huangpu   淮海中路526弄77号  31.21278  121.56217  2500.0         1   \n",
       "1    Xuhui     延庆路29弄21号  31.21278  121.56217  2500.0         1   \n",
       "2    Putuo   武宁路2525弄21号  31.21278  121.56217  2500.0         1   \n",
       "3  Jing'an  南京西路972弄986号  31.21278  121.56217  2500.0         1   \n",
       "4  Huangpu       广东路392号  31.21278  121.56217  2500.0         1   \n",
       "\n",
       "   living-dining  bathrooms  loft  sqmeters  ...  use_type_en heat ac  \\\n",
       "0              0          1     0        20  ...  residential    0  1   \n",
       "1              0          1     0        15  ...  residential    0  1   \n",
       "2              0          0     0        18  ...  residential    0  1   \n",
       "3              0          1     0        15  ...  residential    0  0   \n",
       "4              0          1     0        10  ...  residential    0  1   \n",
       "\n",
       "   balcony  WIFI  outdoor_space  bathtub  floor_heat  oven  total_amens  \n",
       "0        0     1              0        0           0     0            2  \n",
       "1        0     0              0        0           0     0            1  \n",
       "2        1     1              0        0           0     0            3  \n",
       "3        0     0              1        0           0     0            1  \n",
       "4        0     0              0        0           0     0            1  \n",
       "\n",
       "[5 rows x 22 columns]"
      ]
     },
     "execution_count": 6,
     "metadata": {},
     "output_type": "execute_result"
    }
   ],
   "source": [
    "data.head()"
   ]
  },
  {
   "cell_type": "code",
   "execution_count": 7,
   "metadata": {
    "execution": {
     "iopub.execute_input": "2021-04-30T21:46:25.999684Z",
     "iopub.status.busy": "2021-04-30T21:46:25.999100Z",
     "iopub.status.idle": "2021-04-30T21:46:26.272128Z",
     "shell.execute_reply": "2021-04-30T21:46:26.271455Z"
    },
    "papermill": {
     "duration": 0.297357,
     "end_time": "2021-04-30T21:46:26.272267",
     "exception": false,
     "start_time": "2021-04-30T21:46:25.974910",
     "status": "completed"
    },
    "tags": []
   },
   "outputs": [
    {
     "data": {
      "text/plain": [
       "<matplotlib.axes._subplots.AxesSubplot at 0x21dab6dbd48>"
      ]
     },
     "execution_count": 7,
     "metadata": {},
     "output_type": "execute_result"
    },
    {
     "data": {
      "image/png": "[encoded data removed]",
      "text/plain": [
       "<Figure size 1800x720 with 1 Axes>"
      ]
     },
     "metadata": {
      "needs_background": "light"
     },
     "output_type": "display_data"
    }
   ],
   "source": [
    "plt.figure(figsize=(25,10))\n",
    "sns.countplot(x='district' , data=data)"
   ]
  },
  {
   "cell_type": "code",
   "execution_count": 8,
   "metadata": {
    "execution": {
     "iopub.execute_input": "2021-04-30T21:46:26.331290Z",
     "iopub.status.busy": "2021-04-30T21:46:26.330622Z",
     "iopub.status.idle": "2021-04-30T21:46:26.334736Z",
     "shell.execute_reply": "2021-04-30T21:46:26.334119Z"
    },
    "papermill": {
     "duration": 0.039814,
     "end_time": "2021-04-30T21:46:26.334878",
     "exception": false,
     "start_time": "2021-04-30T21:46:26.295064",
     "status": "completed"
    },
    "tags": []
   },
   "outputs": [
    {
     "data": {
      "text/plain": [
       "12000.0     95\n",
       "11000.0     79\n",
       "7500.0      75\n",
       "8500.0      74\n",
       "6500.0      63\n",
       "            ..\n",
       "3890.0       1\n",
       "120000.0     1\n",
       "7497.0       1\n",
       "62000.0      1\n",
       "15900.0      1\n",
       "Name: rent, Length: 246, dtype: int64"
      ]
     },
     "execution_count": 8,
     "metadata": {},
     "output_type": "execute_result"
    }
   ],
   "source": [
    "data['rent'].value_counts()"
   ]
  },
  {
   "cell_type": "code",
   "execution_count": 9,
   "metadata": {
    "execution": {
     "iopub.execute_input": "2021-04-30T21:46:26.388950Z",
     "iopub.status.busy": "2021-04-30T21:46:26.388291Z",
     "iopub.status.idle": "2021-04-30T21:46:26.613110Z",
     "shell.execute_reply": "2021-04-30T21:46:26.613600Z"
    },
    "papermill": {
     "duration": 0.254543,
     "end_time": "2021-04-30T21:46:26.613766",
     "exception": false,
     "start_time": "2021-04-30T21:46:26.359223",
     "status": "completed"
    },
    "tags": []
   },
   "outputs": [
    {
     "data": {
      "image/png": "[encoded data removed]",
      "text/plain": [
       "<Figure size 1440x720 with 1 Axes>"
      ]
     },
     "metadata": {
      "needs_background": "light"
     },
     "output_type": "display_data"
    }
   ],
   "source": [
    "plt.figure(figsize=(20,10))\n",
    "sns.scatterplot(data['sqmeters'],data['rent'], color='red')\n",
    "plt.show()"
   ]
  },
  {
   "cell_type": "code",
   "execution_count": 10,
   "metadata": {
    "execution": {
     "iopub.execute_input": "2021-04-30T21:46:26.698977Z",
     "iopub.status.busy": "2021-04-30T21:46:26.697620Z",
     "iopub.status.idle": "2021-04-30T21:46:26.923233Z",
     "shell.execute_reply": "2021-04-30T21:46:26.923733Z"
    },
    "papermill": {
     "duration": 0.285111,
     "end_time": "2021-04-30T21:46:26.923913",
     "exception": false,
     "start_time": "2021-04-30T21:46:26.638802",
     "status": "completed"
    },
    "tags": []
   },
   "outputs": [
    {
     "data": {
      "image/png": "[encoded data removed]",
      "text/plain": [
       "<Figure size 720x720 with 1 Axes>"
      ]
     },
     "metadata": {
      "needs_background": "light"
     },
     "output_type": "display_data"
    }
   ],
   "source": [
    "from mpl_toolkits.mplot3d import Axes3D\n",
    "fig=plt.figure(figsize=(10,10))\n",
    "ax=Axes3D(fig)\n",
    "ax.scatter(data['rent'],data['bedrooms'],data['sqmeters'])\n",
    "plt.xlabel(\"Rent\")\n",
    "plt.ylabel(\"Bedrooms\")\n",
    "plt.show()"
   ]
  },
  {
   "cell_type": "code",
   "execution_count": 11,
   "metadata": {
    "execution": {
     "iopub.execute_input": "2021-04-30T21:46:26.987406Z",
     "iopub.status.busy": "2021-04-30T21:46:26.986462Z",
     "iopub.status.idle": "2021-04-30T21:46:26.995333Z",
     "shell.execute_reply": "2021-04-30T21:46:26.994705Z"
    },
    "papermill": {
     "duration": 0.041666,
     "end_time": "2021-04-30T21:46:26.995478",
     "exception": false,
     "start_time": "2021-04-30T21:46:26.953812",
     "status": "completed"
    },
    "tags": []
   },
   "outputs": [
    {
     "data": {
      "text/plain": [
       "attached lane house    926\n",
       "detached lane house    905\n",
       "public housing         674\n",
       "villa                  103\n",
       "Name: building_type, dtype: int64"
      ]
     },
     "execution_count": 11,
     "metadata": {},
     "output_type": "execute_result"
    }
   ],
   "source": [
    "data[\"building_type\"].value_counts()"
   ]
  },
  {
   "cell_type": "code",
   "execution_count": 12,
   "metadata": {
    "execution": {
     "iopub.execute_input": "2021-04-30T21:46:27.062669Z",
     "iopub.status.busy": "2021-04-30T21:46:27.061713Z",
     "iopub.status.idle": "2021-04-30T21:46:27.065876Z",
     "shell.execute_reply": "2021-04-30T21:46:27.065271Z"
    },
    "papermill": {
     "duration": 0.040412,
     "end_time": "2021-04-30T21:46:27.066011",
     "exception": false,
     "start_time": "2021-04-30T21:46:27.025599",
     "status": "completed"
    },
    "tags": []
   },
   "outputs": [],
   "source": [
    "Huangpu=data[data['district']=='Huangpu']"
   ]
  },
  {
   "cell_type": "code",
   "execution_count": 13,
   "metadata": {
    "execution": {
     "iopub.execute_input": "2021-04-30T21:46:27.148445Z",
     "iopub.status.busy": "2021-04-30T21:46:27.147463Z",
     "iopub.status.idle": "2021-04-30T21:46:27.151610Z",
     "shell.execute_reply": "2021-04-30T21:46:27.151137Z"
    },
    "papermill": {
     "duration": 0.055317,
     "end_time": "2021-04-30T21:46:27.151742",
     "exception": false,
     "start_time": "2021-04-30T21:46:27.096425",
     "status": "completed"
    },
    "tags": []
   },
   "outputs": [
    {
     "data": {
      "text/html": [
       "<div>\n",
       "<style scoped>\n",
       "    .dataframe tbody tr th:only-of-type {\n",
       "        vertical-align: middle;\n",
       "    }\n",
       "\n",
       "    .dataframe tbody tr th {\n",
       "        vertical-align: top;\n",
       "    }\n",
       "\n",
       "    .dataframe thead th {\n",
       "        text-align: right;\n",
       "    }\n",
       "</style>\n",
       "<table border=\"1\" class=\"dataframe\">\n",
       "  <thead>\n",
       "    <tr style=\"text-align: right;\">\n",
       "      <th></th>\n",
       "      <th>district</th>\n",
       "      <th>address</th>\n",
       "      <th>Latitude</th>\n",
       "      <th>Longitude</th>\n",
       "      <th>rent</th>\n",
       "      <th>bedrooms</th>\n",
       "      <th>living-dining</th>\n",
       "      <th>bathrooms</th>\n",
       "      <th>loft</th>\n",
       "      <th>sqmeters</th>\n",
       "      <th>...</th>\n",
       "      <th>use_type_en</th>\n",
       "      <th>heat</th>\n",
       "      <th>ac</th>\n",
       "      <th>balcony</th>\n",
       "      <th>WIFI</th>\n",
       "      <th>outdoor_space</th>\n",
       "      <th>bathtub</th>\n",
       "      <th>floor_heat</th>\n",
       "      <th>oven</th>\n",
       "      <th>total_amens</th>\n",
       "    </tr>\n",
       "  </thead>\n",
       "  <tbody>\n",
       "    <tr>\n",
       "      <td>0</td>\n",
       "      <td>Huangpu</td>\n",
       "      <td>淮海中路526弄77号</td>\n",
       "      <td>31.21278</td>\n",
       "      <td>121.56217</td>\n",
       "      <td>2500.0</td>\n",
       "      <td>1</td>\n",
       "      <td>0</td>\n",
       "      <td>1</td>\n",
       "      <td>0</td>\n",
       "      <td>20</td>\n",
       "      <td>...</td>\n",
       "      <td>residential</td>\n",
       "      <td>0</td>\n",
       "      <td>1</td>\n",
       "      <td>0</td>\n",
       "      <td>1</td>\n",
       "      <td>0</td>\n",
       "      <td>0</td>\n",
       "      <td>0</td>\n",
       "      <td>0</td>\n",
       "      <td>2</td>\n",
       "    </tr>\n",
       "    <tr>\n",
       "      <td>4</td>\n",
       "      <td>Huangpu</td>\n",
       "      <td>广东路392号</td>\n",
       "      <td>31.21278</td>\n",
       "      <td>121.56217</td>\n",
       "      <td>2500.0</td>\n",
       "      <td>1</td>\n",
       "      <td>0</td>\n",
       "      <td>1</td>\n",
       "      <td>0</td>\n",
       "      <td>10</td>\n",
       "      <td>...</td>\n",
       "      <td>residential</td>\n",
       "      <td>0</td>\n",
       "      <td>1</td>\n",
       "      <td>0</td>\n",
       "      <td>0</td>\n",
       "      <td>0</td>\n",
       "      <td>0</td>\n",
       "      <td>0</td>\n",
       "      <td>0</td>\n",
       "      <td>1</td>\n",
       "    </tr>\n",
       "    <tr>\n",
       "      <td>11</td>\n",
       "      <td>Huangpu</td>\n",
       "      <td>新昌路87弄43号</td>\n",
       "      <td>31.21278</td>\n",
       "      <td>121.56217</td>\n",
       "      <td>2800.0</td>\n",
       "      <td>1</td>\n",
       "      <td>0</td>\n",
       "      <td>1</td>\n",
       "      <td>0</td>\n",
       "      <td>15</td>\n",
       "      <td>...</td>\n",
       "      <td>residential</td>\n",
       "      <td>0</td>\n",
       "      <td>1</td>\n",
       "      <td>0</td>\n",
       "      <td>0</td>\n",
       "      <td>0</td>\n",
       "      <td>0</td>\n",
       "      <td>0</td>\n",
       "      <td>0</td>\n",
       "      <td>1</td>\n",
       "    </tr>\n",
       "    <tr>\n",
       "      <td>17</td>\n",
       "      <td>Huangpu</td>\n",
       "      <td>南昌路178弄18号</td>\n",
       "      <td>31.21278</td>\n",
       "      <td>121.56217</td>\n",
       "      <td>2900.0</td>\n",
       "      <td>1</td>\n",
       "      <td>0</td>\n",
       "      <td>1</td>\n",
       "      <td>0</td>\n",
       "      <td>12</td>\n",
       "      <td>...</td>\n",
       "      <td>residential</td>\n",
       "      <td>0</td>\n",
       "      <td>1</td>\n",
       "      <td>0</td>\n",
       "      <td>0</td>\n",
       "      <td>0</td>\n",
       "      <td>0</td>\n",
       "      <td>0</td>\n",
       "      <td>0</td>\n",
       "      <td>1</td>\n",
       "    </tr>\n",
       "    <tr>\n",
       "      <td>20</td>\n",
       "      <td>Huangpu</td>\n",
       "      <td>新昌路120号</td>\n",
       "      <td>31.21278</td>\n",
       "      <td>121.56217</td>\n",
       "      <td>2900.0</td>\n",
       "      <td>1</td>\n",
       "      <td>0</td>\n",
       "      <td>1</td>\n",
       "      <td>0</td>\n",
       "      <td>15</td>\n",
       "      <td>...</td>\n",
       "      <td>residential</td>\n",
       "      <td>0</td>\n",
       "      <td>1</td>\n",
       "      <td>0</td>\n",
       "      <td>0</td>\n",
       "      <td>0</td>\n",
       "      <td>0</td>\n",
       "      <td>0</td>\n",
       "      <td>0</td>\n",
       "      <td>1</td>\n",
       "    </tr>\n",
       "  </tbody>\n",
       "</table>\n",
       "<p>5 rows × 22 columns</p>\n",
       "</div>"
      ],
      "text/plain": [
       "   district      address  Latitude  Longitude    rent  bedrooms  \\\n",
       "0   Huangpu  淮海中路526弄77号  31.21278  121.56217  2500.0         1   \n",
       "4   Huangpu      广东路392号  31.21278  121.56217  2500.0         1   \n",
       "11  Huangpu    新昌路87弄43号  31.21278  121.56217  2800.0         1   \n",
       "17  Huangpu   南昌路178弄18号  31.21278  121.56217  2900.0         1   \n",
       "20  Huangpu      新昌路120号  31.21278  121.56217  2900.0         1   \n",
       "\n",
       "    living-dining  bathrooms  loft  sqmeters  ...  use_type_en heat ac  \\\n",
       "0               0          1     0        20  ...  residential    0  1   \n",
       "4               0          1     0        10  ...  residential    0  1   \n",
       "11              0          1     0        15  ...  residential    0  1   \n",
       "17              0          1     0        12  ...  residential    0  1   \n",
       "20              0          1     0        15  ...  residential    0  1   \n",
       "\n",
       "    balcony  WIFI  outdoor_space  bathtub  floor_heat  oven  total_amens  \n",
       "0         0     1              0        0           0     0            2  \n",
       "4         0     0              0        0           0     0            1  \n",
       "11        0     0              0        0           0     0            1  \n",
       "17        0     0              0        0           0     0            1  \n",
       "20        0     0              0        0           0     0            1  \n",
       "\n",
       "[5 rows x 22 columns]"
      ]
     },
     "execution_count": 13,
     "metadata": {},
     "output_type": "execute_result"
    }
   ],
   "source": [
    "Huangpu.head()"
   ]
  },
  {
   "cell_type": "code",
   "execution_count": 14,
   "metadata": {
    "execution": {
     "iopub.execute_input": "2021-04-30T21:46:27.222706Z",
     "iopub.status.busy": "2021-04-30T21:46:27.222044Z",
     "iopub.status.idle": "2021-04-30T21:46:27.370561Z",
     "shell.execute_reply": "2021-04-30T21:46:27.371086Z"
    },
    "papermill": {
     "duration": 0.187865,
     "end_time": "2021-04-30T21:46:27.371291",
     "exception": false,
     "start_time": "2021-04-30T21:46:27.183426",
     "status": "completed"
    },
    "tags": []
   },
   "outputs": [
    {
     "data": {
      "text/plain": [
       "<matplotlib.axes._subplots.AxesSubplot at 0x21dabd77f48>"
      ]
     },
     "execution_count": 14,
     "metadata": {},
     "output_type": "execute_result"
    },
    {
     "data": {
      "image/png": "[encoded data removed]",
      "text/plain": [
       "<Figure size 1080x720 with 1 Axes>"
      ]
     },
     "metadata": {
      "needs_background": "light"
     },
     "output_type": "display_data"
    }
   ],
   "source": [
    "plt.figure(figsize=(15,10))\n",
    "sns.countplot(x='building_type' , data=Huangpu)"
   ]
  },
  {
   "cell_type": "code",
   "execution_count": 15,
   "metadata": {
    "execution": {
     "iopub.execute_input": "2021-04-30T21:46:27.439069Z",
     "iopub.status.busy": "2021-04-30T21:46:27.438404Z",
     "iopub.status.idle": "2021-04-30T21:46:27.621380Z",
     "shell.execute_reply": "2021-04-30T21:46:27.621837Z"
    },
    "papermill": {
     "duration": 0.218534,
     "end_time": "2021-04-30T21:46:27.622018",
     "exception": false,
     "start_time": "2021-04-30T21:46:27.403484",
     "status": "completed"
    },
    "tags": []
   },
   "outputs": [
    {
     "data": {
      "text/plain": [
       "<matplotlib.axes._subplots.AxesSubplot at 0x21dac33d848>"
      ]
     },
     "execution_count": 15,
     "metadata": {},
     "output_type": "execute_result"
    },
    {
     "data": {
      "image/png": "[encoded data removed]",
      "text/plain": [
       "<Figure size 1080x720 with 1 Axes>"
      ]
     },
     "metadata": {
      "needs_background": "light"
     },
     "output_type": "display_data"
    }
   ],
   "source": [
    "plt.figure(figsize=(15,10))\n",
    "sns.countplot(x='bedrooms' , data=Huangpu)\n"
   ]
  },
  {
   "cell_type": "code",
   "execution_count": 16,
   "metadata": {
    "execution": {
     "iopub.execute_input": "2021-04-30T21:46:27.693229Z",
     "iopub.status.busy": "2021-04-30T21:46:27.692270Z",
     "iopub.status.idle": "2021-04-30T21:46:27.755722Z",
     "shell.execute_reply": "2021-04-30T21:46:27.756185Z"
    },
    "papermill": {
     "duration": 0.100374,
     "end_time": "2021-04-30T21:46:27.756359",
     "exception": false,
     "start_time": "2021-04-30T21:46:27.655985",
     "status": "completed"
    },
    "tags": []
   },
   "outputs": [
    {
     "data": {
      "text/html": [
       "<div>\n",
       "<style scoped>\n",
       "    .dataframe tbody tr th:only-of-type {\n",
       "        vertical-align: middle;\n",
       "    }\n",
       "\n",
       "    .dataframe tbody tr th {\n",
       "        vertical-align: top;\n",
       "    }\n",
       "\n",
       "    .dataframe thead th {\n",
       "        text-align: right;\n",
       "    }\n",
       "</style>\n",
       "<table border=\"1\" class=\"dataframe\">\n",
       "  <thead>\n",
       "    <tr style=\"text-align: right;\">\n",
       "      <th></th>\n",
       "      <th>Latitude</th>\n",
       "      <th>Longitude</th>\n",
       "      <th>rent</th>\n",
       "      <th>bedrooms</th>\n",
       "      <th>living-dining</th>\n",
       "      <th>bathrooms</th>\n",
       "      <th>loft</th>\n",
       "      <th>sqmeters</th>\n",
       "      <th>entire_building</th>\n",
       "      <th>heat</th>\n",
       "      <th>ac</th>\n",
       "      <th>balcony</th>\n",
       "      <th>WIFI</th>\n",
       "      <th>outdoor_space</th>\n",
       "      <th>bathtub</th>\n",
       "      <th>floor_heat</th>\n",
       "      <th>oven</th>\n",
       "      <th>total_amens</th>\n",
       "    </tr>\n",
       "  </thead>\n",
       "  <tbody>\n",
       "    <tr>\n",
       "      <td>count</td>\n",
       "      <td>541.000000</td>\n",
       "      <td>540.000000</td>\n",
       "      <td>541.000000</td>\n",
       "      <td>541.000000</td>\n",
       "      <td>541.000000</td>\n",
       "      <td>541.000000</td>\n",
       "      <td>541.000000</td>\n",
       "      <td>541.000000</td>\n",
       "      <td>541.000000</td>\n",
       "      <td>541.000000</td>\n",
       "      <td>541.000000</td>\n",
       "      <td>541.000000</td>\n",
       "      <td>541.000000</td>\n",
       "      <td>541.000000</td>\n",
       "      <td>541.000000</td>\n",
       "      <td>541.000000</td>\n",
       "      <td>541.000000</td>\n",
       "      <td>541.000000</td>\n",
       "    </tr>\n",
       "    <tr>\n",
       "      <td>mean</td>\n",
       "      <td>31.379659</td>\n",
       "      <td>121.554512</td>\n",
       "      <td>12200.968540</td>\n",
       "      <td>1.548983</td>\n",
       "      <td>1.264325</td>\n",
       "      <td>1.269871</td>\n",
       "      <td>0.112754</td>\n",
       "      <td>69.292052</td>\n",
       "      <td>0.062847</td>\n",
       "      <td>0.295749</td>\n",
       "      <td>0.756007</td>\n",
       "      <td>0.214418</td>\n",
       "      <td>0.218115</td>\n",
       "      <td>0.414048</td>\n",
       "      <td>0.162662</td>\n",
       "      <td>0.092421</td>\n",
       "      <td>0.035120</td>\n",
       "      <td>2.188540</td>\n",
       "    </tr>\n",
       "    <tr>\n",
       "      <td>std</td>\n",
       "      <td>3.884432</td>\n",
       "      <td>0.033127</td>\n",
       "      <td>14827.623748</td>\n",
       "      <td>1.107175</td>\n",
       "      <td>0.731818</td>\n",
       "      <td>0.664718</td>\n",
       "      <td>0.316585</td>\n",
       "      <td>60.372852</td>\n",
       "      <td>0.242911</td>\n",
       "      <td>0.456801</td>\n",
       "      <td>0.429886</td>\n",
       "      <td>0.410798</td>\n",
       "      <td>0.413348</td>\n",
       "      <td>0.493013</td>\n",
       "      <td>0.369398</td>\n",
       "      <td>0.289888</td>\n",
       "      <td>0.184254</td>\n",
       "      <td>1.504788</td>\n",
       "    </tr>\n",
       "    <tr>\n",
       "      <td>min</td>\n",
       "      <td>31.101320</td>\n",
       "      <td>121.036421</td>\n",
       "      <td>2500.000000</td>\n",
       "      <td>1.000000</td>\n",
       "      <td>0.000000</td>\n",
       "      <td>1.000000</td>\n",
       "      <td>0.000000</td>\n",
       "      <td>1.000000</td>\n",
       "      <td>0.000000</td>\n",
       "      <td>0.000000</td>\n",
       "      <td>0.000000</td>\n",
       "      <td>0.000000</td>\n",
       "      <td>0.000000</td>\n",
       "      <td>0.000000</td>\n",
       "      <td>0.000000</td>\n",
       "      <td>0.000000</td>\n",
       "      <td>0.000000</td>\n",
       "      <td>0.000000</td>\n",
       "    </tr>\n",
       "    <tr>\n",
       "      <td>25%</td>\n",
       "      <td>31.212780</td>\n",
       "      <td>121.562170</td>\n",
       "      <td>5500.000000</td>\n",
       "      <td>1.000000</td>\n",
       "      <td>1.000000</td>\n",
       "      <td>1.000000</td>\n",
       "      <td>0.000000</td>\n",
       "      <td>35.000000</td>\n",
       "      <td>0.000000</td>\n",
       "      <td>0.000000</td>\n",
       "      <td>1.000000</td>\n",
       "      <td>0.000000</td>\n",
       "      <td>0.000000</td>\n",
       "      <td>0.000000</td>\n",
       "      <td>0.000000</td>\n",
       "      <td>0.000000</td>\n",
       "      <td>0.000000</td>\n",
       "      <td>1.000000</td>\n",
       "    </tr>\n",
       "    <tr>\n",
       "      <td>50%</td>\n",
       "      <td>31.212780</td>\n",
       "      <td>121.562170</td>\n",
       "      <td>8000.000000</td>\n",
       "      <td>1.000000</td>\n",
       "      <td>1.000000</td>\n",
       "      <td>1.000000</td>\n",
       "      <td>0.000000</td>\n",
       "      <td>50.000000</td>\n",
       "      <td>0.000000</td>\n",
       "      <td>0.000000</td>\n",
       "      <td>1.000000</td>\n",
       "      <td>0.000000</td>\n",
       "      <td>0.000000</td>\n",
       "      <td>0.000000</td>\n",
       "      <td>0.000000</td>\n",
       "      <td>0.000000</td>\n",
       "      <td>0.000000</td>\n",
       "      <td>2.000000</td>\n",
       "    </tr>\n",
       "    <tr>\n",
       "      <td>75%</td>\n",
       "      <td>31.212780</td>\n",
       "      <td>121.562170</td>\n",
       "      <td>13000.000000</td>\n",
       "      <td>2.000000</td>\n",
       "      <td>2.000000</td>\n",
       "      <td>1.000000</td>\n",
       "      <td>0.000000</td>\n",
       "      <td>80.000000</td>\n",
       "      <td>0.000000</td>\n",
       "      <td>1.000000</td>\n",
       "      <td>1.000000</td>\n",
       "      <td>0.000000</td>\n",
       "      <td>0.000000</td>\n",
       "      <td>1.000000</td>\n",
       "      <td>0.000000</td>\n",
       "      <td>0.000000</td>\n",
       "      <td>0.000000</td>\n",
       "      <td>3.000000</td>\n",
       "    </tr>\n",
       "    <tr>\n",
       "      <td>max</td>\n",
       "      <td>121.562170</td>\n",
       "      <td>121.562170</td>\n",
       "      <td>220000.000000</td>\n",
       "      <td>8.000000</td>\n",
       "      <td>5.000000</td>\n",
       "      <td>6.000000</td>\n",
       "      <td>1.000000</td>\n",
       "      <td>500.000000</td>\n",
       "      <td>1.000000</td>\n",
       "      <td>1.000000</td>\n",
       "      <td>1.000000</td>\n",
       "      <td>1.000000</td>\n",
       "      <td>1.000000</td>\n",
       "      <td>1.000000</td>\n",
       "      <td>1.000000</td>\n",
       "      <td>1.000000</td>\n",
       "      <td>1.000000</td>\n",
       "      <td>8.000000</td>\n",
       "    </tr>\n",
       "  </tbody>\n",
       "</table>\n",
       "</div>"
      ],
      "text/plain": [
       "         Latitude   Longitude           rent    bedrooms  living-dining  \\\n",
       "count  541.000000  540.000000     541.000000  541.000000     541.000000   \n",
       "mean    31.379659  121.554512   12200.968540    1.548983       1.264325   \n",
       "std      3.884432    0.033127   14827.623748    1.107175       0.731818   \n",
       "min     31.101320  121.036421    2500.000000    1.000000       0.000000   \n",
       "25%     31.212780  121.562170    5500.000000    1.000000       1.000000   \n",
       "50%     31.212780  121.562170    8000.000000    1.000000       1.000000   \n",
       "75%     31.212780  121.562170   13000.000000    2.000000       2.000000   \n",
       "max    121.562170  121.562170  220000.000000    8.000000       5.000000   \n",
       "\n",
       "        bathrooms        loft    sqmeters  entire_building        heat  \\\n",
       "count  541.000000  541.000000  541.000000       541.000000  541.000000   \n",
       "mean     1.269871    0.112754   69.292052         0.062847    0.295749   \n",
       "std      0.664718    0.316585   60.372852         0.242911    0.456801   \n",
       "min      1.000000    0.000000    1.000000         0.000000    0.000000   \n",
       "25%      1.000000    0.000000   35.000000         0.000000    0.000000   \n",
       "50%      1.000000    0.000000   50.000000         0.000000    0.000000   \n",
       "75%      1.000000    0.000000   80.000000         0.000000    1.000000   \n",
       "max      6.000000    1.000000  500.000000         1.000000    1.000000   \n",
       "\n",
       "               ac     balcony        WIFI  outdoor_space     bathtub  \\\n",
       "count  541.000000  541.000000  541.000000     541.000000  541.000000   \n",
       "mean     0.756007    0.214418    0.218115       0.414048    0.162662   \n",
       "std      0.429886    0.410798    0.413348       0.493013    0.369398   \n",
       "min      0.000000    0.000000    0.000000       0.000000    0.000000   \n",
       "25%      1.000000    0.000000    0.000000       0.000000    0.000000   \n",
       "50%      1.000000    0.000000    0.000000       0.000000    0.000000   \n",
       "75%      1.000000    0.000000    0.000000       1.000000    0.000000   \n",
       "max      1.000000    1.000000    1.000000       1.000000    1.000000   \n",
       "\n",
       "       floor_heat        oven  total_amens  \n",
       "count  541.000000  541.000000   541.000000  \n",
       "mean     0.092421    0.035120     2.188540  \n",
       "std      0.289888    0.184254     1.504788  \n",
       "min      0.000000    0.000000     0.000000  \n",
       "25%      0.000000    0.000000     1.000000  \n",
       "50%      0.000000    0.000000     2.000000  \n",
       "75%      0.000000    0.000000     3.000000  \n",
       "max      1.000000    1.000000     8.000000  "
      ]
     },
     "execution_count": 16,
     "metadata": {},
     "output_type": "execute_result"
    }
   ],
   "source": [
    "Huangpu.describe()"
   ]
  },
  {
   "cell_type": "code",
   "execution_count": 17,
   "metadata": {
    "execution": {
     "iopub.execute_input": "2021-04-30T21:46:27.828677Z",
     "iopub.status.busy": "2021-04-30T21:46:27.827681Z",
     "iopub.status.idle": "2021-04-30T21:46:30.254095Z",
     "shell.execute_reply": "2021-04-30T21:46:30.254562Z"
    },
    "papermill": {
     "duration": 2.464339,
     "end_time": "2021-04-30T21:46:30.254744",
     "exception": false,
     "start_time": "2021-04-30T21:46:27.790405",
     "status": "completed"
    },
    "tags": []
   },
   "outputs": [
    {
     "data": {
      "text/plain": [
       "<matplotlib.axes._subplots.AxesSubplot at 0x21dabc144c8>"
      ]
     },
     "execution_count": 17,
     "metadata": {},
     "output_type": "execute_result"
    },
    {
     "data": {
      "image/png": "[encoded data removed]",
      "text/plain": [
       "<Figure size 1080x720 with 1 Axes>"
      ]
     },
     "metadata": {
      "needs_background": "light"
     },
     "output_type": "display_data"
    }
   ],
   "source": [
    "plt.figure(figsize=(15,10))\n",
    "sns.lineplot(x='rent' , y='bedrooms' , data=Huangpu , markers=True, color=\"red\")"
   ]
  },
  {
   "cell_type": "markdown",
   "metadata": {
    "papermill": {
     "duration": 0.03607,
     "end_time": "2021-04-30T21:46:30.326846",
     "exception": false,
     "start_time": "2021-04-30T21:46:30.290776",
     "status": "completed"
    },
    "tags": []
   },
   "source": [
    "Back to Data Tabel"
   ]
  },
  {
   "cell_type": "markdown",
   "metadata": {
    "papermill": {
     "duration": 0.035329,
     "end_time": "2021-04-30T21:46:30.398164",
     "exception": false,
     "start_time": "2021-04-30T21:46:30.362835",
     "status": "completed"
    },
    "tags": []
   },
   "source": []
  },
  {
   "cell_type": "code",
   "execution_count": 18,
   "metadata": {
    "execution": {
     "iopub.execute_input": "2021-04-30T21:46:30.492371Z",
     "iopub.status.busy": "2021-04-30T21:46:30.491391Z",
     "iopub.status.idle": "2021-04-30T21:46:30.496060Z",
     "shell.execute_reply": "2021-04-30T21:46:30.495567Z"
    },
    "papermill": {
     "duration": 0.062469,
     "end_time": "2021-04-30T21:46:30.496198",
     "exception": false,
     "start_time": "2021-04-30T21:46:30.433729",
     "status": "completed"
    },
    "tags": []
   },
   "outputs": [
    {
     "data": {
      "text/html": [
       "<div>\n",
       "<style scoped>\n",
       "    .dataframe tbody tr th:only-of-type {\n",
       "        vertical-align: middle;\n",
       "    }\n",
       "\n",
       "    .dataframe tbody tr th {\n",
       "        vertical-align: top;\n",
       "    }\n",
       "\n",
       "    .dataframe thead th {\n",
       "        text-align: right;\n",
       "    }\n",
       "</style>\n",
       "<table border=\"1\" class=\"dataframe\">\n",
       "  <thead>\n",
       "    <tr style=\"text-align: right;\">\n",
       "      <th></th>\n",
       "      <th>district</th>\n",
       "      <th>address</th>\n",
       "      <th>Latitude</th>\n",
       "      <th>Longitude</th>\n",
       "      <th>rent</th>\n",
       "      <th>bedrooms</th>\n",
       "      <th>living-dining</th>\n",
       "      <th>bathrooms</th>\n",
       "      <th>loft</th>\n",
       "      <th>sqmeters</th>\n",
       "      <th>...</th>\n",
       "      <th>use_type_en</th>\n",
       "      <th>heat</th>\n",
       "      <th>ac</th>\n",
       "      <th>balcony</th>\n",
       "      <th>WIFI</th>\n",
       "      <th>outdoor_space</th>\n",
       "      <th>bathtub</th>\n",
       "      <th>floor_heat</th>\n",
       "      <th>oven</th>\n",
       "      <th>total_amens</th>\n",
       "    </tr>\n",
       "  </thead>\n",
       "  <tbody>\n",
       "    <tr>\n",
       "      <td>0</td>\n",
       "      <td>Huangpu</td>\n",
       "      <td>淮海中路526弄77号</td>\n",
       "      <td>31.21278</td>\n",
       "      <td>121.56217</td>\n",
       "      <td>2500.0</td>\n",
       "      <td>1</td>\n",
       "      <td>0</td>\n",
       "      <td>1</td>\n",
       "      <td>0</td>\n",
       "      <td>20</td>\n",
       "      <td>...</td>\n",
       "      <td>residential</td>\n",
       "      <td>0</td>\n",
       "      <td>1</td>\n",
       "      <td>0</td>\n",
       "      <td>1</td>\n",
       "      <td>0</td>\n",
       "      <td>0</td>\n",
       "      <td>0</td>\n",
       "      <td>0</td>\n",
       "      <td>2</td>\n",
       "    </tr>\n",
       "    <tr>\n",
       "      <td>1</td>\n",
       "      <td>Xuhui</td>\n",
       "      <td>延庆路29弄21号</td>\n",
       "      <td>31.21278</td>\n",
       "      <td>121.56217</td>\n",
       "      <td>2500.0</td>\n",
       "      <td>1</td>\n",
       "      <td>0</td>\n",
       "      <td>1</td>\n",
       "      <td>0</td>\n",
       "      <td>15</td>\n",
       "      <td>...</td>\n",
       "      <td>residential</td>\n",
       "      <td>0</td>\n",
       "      <td>1</td>\n",
       "      <td>0</td>\n",
       "      <td>0</td>\n",
       "      <td>0</td>\n",
       "      <td>0</td>\n",
       "      <td>0</td>\n",
       "      <td>0</td>\n",
       "      <td>1</td>\n",
       "    </tr>\n",
       "    <tr>\n",
       "      <td>2</td>\n",
       "      <td>Putuo</td>\n",
       "      <td>武宁路2525弄21号</td>\n",
       "      <td>31.21278</td>\n",
       "      <td>121.56217</td>\n",
       "      <td>2500.0</td>\n",
       "      <td>1</td>\n",
       "      <td>0</td>\n",
       "      <td>0</td>\n",
       "      <td>0</td>\n",
       "      <td>18</td>\n",
       "      <td>...</td>\n",
       "      <td>residential</td>\n",
       "      <td>0</td>\n",
       "      <td>1</td>\n",
       "      <td>1</td>\n",
       "      <td>1</td>\n",
       "      <td>0</td>\n",
       "      <td>0</td>\n",
       "      <td>0</td>\n",
       "      <td>0</td>\n",
       "      <td>3</td>\n",
       "    </tr>\n",
       "    <tr>\n",
       "      <td>3</td>\n",
       "      <td>Jing'an</td>\n",
       "      <td>南京西路972弄986号</td>\n",
       "      <td>31.21278</td>\n",
       "      <td>121.56217</td>\n",
       "      <td>2500.0</td>\n",
       "      <td>1</td>\n",
       "      <td>0</td>\n",
       "      <td>1</td>\n",
       "      <td>0</td>\n",
       "      <td>15</td>\n",
       "      <td>...</td>\n",
       "      <td>residential</td>\n",
       "      <td>0</td>\n",
       "      <td>0</td>\n",
       "      <td>0</td>\n",
       "      <td>0</td>\n",
       "      <td>1</td>\n",
       "      <td>0</td>\n",
       "      <td>0</td>\n",
       "      <td>0</td>\n",
       "      <td>1</td>\n",
       "    </tr>\n",
       "    <tr>\n",
       "      <td>4</td>\n",
       "      <td>Huangpu</td>\n",
       "      <td>广东路392号</td>\n",
       "      <td>31.21278</td>\n",
       "      <td>121.56217</td>\n",
       "      <td>2500.0</td>\n",
       "      <td>1</td>\n",
       "      <td>0</td>\n",
       "      <td>1</td>\n",
       "      <td>0</td>\n",
       "      <td>10</td>\n",
       "      <td>...</td>\n",
       "      <td>residential</td>\n",
       "      <td>0</td>\n",
       "      <td>1</td>\n",
       "      <td>0</td>\n",
       "      <td>0</td>\n",
       "      <td>0</td>\n",
       "      <td>0</td>\n",
       "      <td>0</td>\n",
       "      <td>0</td>\n",
       "      <td>1</td>\n",
       "    </tr>\n",
       "  </tbody>\n",
       "</table>\n",
       "<p>5 rows × 22 columns</p>\n",
       "</div>"
      ],
      "text/plain": [
       "  district       address  Latitude  Longitude    rent  bedrooms  \\\n",
       "0  Huangpu   淮海中路526弄77号  31.21278  121.56217  2500.0         1   \n",
       "1    Xuhui     延庆路29弄21号  31.21278  121.56217  2500.0         1   \n",
       "2    Putuo   武宁路2525弄21号  31.21278  121.56217  2500.0         1   \n",
       "3  Jing'an  南京西路972弄986号  31.21278  121.56217  2500.0         1   \n",
       "4  Huangpu       广东路392号  31.21278  121.56217  2500.0         1   \n",
       "\n",
       "   living-dining  bathrooms  loft  sqmeters  ...  use_type_en heat ac  \\\n",
       "0              0          1     0        20  ...  residential    0  1   \n",
       "1              0          1     0        15  ...  residential    0  1   \n",
       "2              0          0     0        18  ...  residential    0  1   \n",
       "3              0          1     0        15  ...  residential    0  0   \n",
       "4              0          1     0        10  ...  residential    0  1   \n",
       "\n",
       "   balcony  WIFI  outdoor_space  bathtub  floor_heat  oven  total_amens  \n",
       "0        0     1              0        0           0     0            2  \n",
       "1        0     0              0        0           0     0            1  \n",
       "2        1     1              0        0           0     0            3  \n",
       "3        0     0              1        0           0     0            1  \n",
       "4        0     0              0        0           0     0            1  \n",
       "\n",
       "[5 rows x 22 columns]"
      ]
     },
     "execution_count": 18,
     "metadata": {},
     "output_type": "execute_result"
    }
   ],
   "source": [
    "data.head()"
   ]
  },
  {
   "cell_type": "code",
   "execution_count": 19,
   "metadata": {
    "execution": {
     "iopub.execute_input": "2021-04-30T21:46:30.574743Z",
     "iopub.status.busy": "2021-04-30T21:46:30.573794Z",
     "iopub.status.idle": "2021-04-30T21:46:30.578040Z",
     "shell.execute_reply": "2021-04-30T21:46:30.577502Z"
    },
    "papermill": {
     "duration": 0.045772,
     "end_time": "2021-04-30T21:46:30.578174",
     "exception": false,
     "start_time": "2021-04-30T21:46:30.532402",
     "status": "completed"
    },
    "tags": []
   },
   "outputs": [
    {
     "data": {
      "text/plain": [
       "array([0, 1], dtype=int64)"
      ]
     },
     "execution_count": 19,
     "metadata": {},
     "output_type": "execute_result"
    }
   ],
   "source": [
    "data[\"outdoor_space\"].unique()"
   ]
  },
  {
   "cell_type": "code",
   "execution_count": 20,
   "metadata": {
    "execution": {
     "iopub.execute_input": "2021-04-30T21:46:30.662057Z",
     "iopub.status.busy": "2021-04-30T21:46:30.661136Z",
     "iopub.status.idle": "2021-04-30T21:46:30.665181Z",
     "shell.execute_reply": "2021-04-30T21:46:30.665663Z"
    },
    "papermill": {
     "duration": 0.050003,
     "end_time": "2021-04-30T21:46:30.665826",
     "exception": false,
     "start_time": "2021-04-30T21:46:30.615823",
     "status": "completed"
    },
    "tags": []
   },
   "outputs": [
    {
     "data": {
      "text/plain": [
       "array([1, 0], dtype=int64)"
      ]
     },
     "execution_count": 20,
     "metadata": {},
     "output_type": "execute_result"
    }
   ],
   "source": [
    "data[\"WIFI\"].unique()"
   ]
  },
  {
   "cell_type": "code",
   "execution_count": 21,
   "metadata": {
    "execution": {
     "iopub.execute_input": "2021-04-30T21:46:30.747416Z",
     "iopub.status.busy": "2021-04-30T21:46:30.746482Z",
     "iopub.status.idle": "2021-04-30T21:46:30.750794Z",
     "shell.execute_reply": "2021-04-30T21:46:30.750230Z"
    },
    "papermill": {
     "duration": 0.047212,
     "end_time": "2021-04-30T21:46:30.750933",
     "exception": false,
     "start_time": "2021-04-30T21:46:30.703721",
     "status": "completed"
    },
    "tags": []
   },
   "outputs": [
    {
     "data": {
      "text/plain": [
       "array([1, 0], dtype=int64)"
      ]
     },
     "execution_count": 21,
     "metadata": {},
     "output_type": "execute_result"
    }
   ],
   "source": [
    "data[\"ac\"].unique()"
   ]
  },
  {
   "cell_type": "code",
   "execution_count": 22,
   "metadata": {
    "execution": {
     "iopub.execute_input": "2021-04-30T21:46:30.832301Z",
     "iopub.status.busy": "2021-04-30T21:46:30.831365Z",
     "iopub.status.idle": "2021-04-30T21:46:30.835633Z",
     "shell.execute_reply": "2021-04-30T21:46:30.835161Z"
    },
    "papermill": {
     "duration": 0.047169,
     "end_time": "2021-04-30T21:46:30.835766",
     "exception": false,
     "start_time": "2021-04-30T21:46:30.788597",
     "status": "completed"
    },
    "tags": []
   },
   "outputs": [
    {
     "data": {
      "text/plain": [
       "array([0, 1], dtype=int64)"
      ]
     },
     "execution_count": 22,
     "metadata": {},
     "output_type": "execute_result"
    }
   ],
   "source": [
    "data[\"heat\"].unique()"
   ]
  },
  {
   "cell_type": "code",
   "execution_count": 23,
   "metadata": {
    "execution": {
     "iopub.execute_input": "2021-04-30T21:46:30.924810Z",
     "iopub.status.busy": "2021-04-30T21:46:30.924112Z",
     "iopub.status.idle": "2021-04-30T21:46:31.245156Z",
     "shell.execute_reply": "2021-04-30T21:46:31.244478Z"
    },
    "papermill": {
     "duration": 0.365312,
     "end_time": "2021-04-30T21:46:31.245296",
     "exception": false,
     "start_time": "2021-04-30T21:46:30.879984",
     "status": "completed"
    },
    "tags": []
   },
   "outputs": [
    {
     "data": {
      "text/plain": [
       "<matplotlib.legend.Legend at 0x21dabce00c8>"
      ]
     },
     "execution_count": 23,
     "metadata": {},
     "output_type": "execute_result"
    },
    {
     "data": {
      "image/png": "[encoded data removed]",
      "text/plain": [
       "<Figure size 432x288 with 1 Axes>"
      ]
     },
     "metadata": {
      "needs_background": "light"
     },
     "output_type": "display_data"
    }
   ],
   "source": [
    "data[data['outdoor_space']==1]['rent'].hist()\n",
    "data[data['outdoor_space']==0]['rent'].hist()\n",
    "plt.legend(['1','0'])"
   ]
  },
  {
   "cell_type": "code",
   "execution_count": 24,
   "metadata": {
    "execution": {
     "iopub.execute_input": "2021-04-30T21:46:31.331634Z",
     "iopub.status.busy": "2021-04-30T21:46:31.330651Z",
     "iopub.status.idle": "2021-04-30T21:46:31.537543Z",
     "shell.execute_reply": "2021-04-30T21:46:31.538038Z"
    },
    "papermill": {
     "duration": 0.253376,
     "end_time": "2021-04-30T21:46:31.538209",
     "exception": false,
     "start_time": "2021-04-30T21:46:31.284833",
     "status": "completed"
    },
    "tags": []
   },
   "outputs": [
    {
     "data": {
      "text/plain": [
       "<matplotlib.legend.Legend at 0x21dabdb83c8>"
      ]
     },
     "execution_count": 24,
     "metadata": {},
     "output_type": "execute_result"
    },
    {
     "data": {
      "image/png": "[encoded data removed]",
      "text/plain": [
       "<Figure size 432x288 with 1 Axes>"
      ]
     },
     "metadata": {
      "needs_background": "light"
     },
     "output_type": "display_data"
    }
   ],
   "source": [
    "data[data['WIFI']==1]['rent'].hist()\n",
    "data[data['WIFI']==0]['rent'].hist()\n",
    "plt.legend(['1','0'])"
   ]
  },
  {
   "cell_type": "code",
   "execution_count": 25,
   "metadata": {
    "execution": {
     "iopub.execute_input": "2021-04-30T21:46:31.625343Z",
     "iopub.status.busy": "2021-04-30T21:46:31.623525Z",
     "iopub.status.idle": "2021-04-30T21:46:31.628670Z",
     "shell.execute_reply": "2021-04-30T21:46:31.629149Z"
    },
    "papermill": {
     "duration": 0.0511,
     "end_time": "2021-04-30T21:46:31.629335",
     "exception": false,
     "start_time": "2021-04-30T21:46:31.578235",
     "status": "completed"
    },
    "tags": []
   },
   "outputs": [
    {
     "data": {
      "text/plain": [
       "0    2046\n",
       "1     562\n",
       "Name: WIFI, dtype: int64"
      ]
     },
     "execution_count": 25,
     "metadata": {},
     "output_type": "execute_result"
    }
   ],
   "source": [
    "data['WIFI'].value_counts()"
   ]
  },
  {
   "cell_type": "code",
   "execution_count": 26,
   "metadata": {
    "execution": {
     "iopub.execute_input": "2021-04-30T21:46:31.715296Z",
     "iopub.status.busy": "2021-04-30T21:46:31.714553Z",
     "iopub.status.idle": "2021-04-30T21:46:31.917276Z",
     "shell.execute_reply": "2021-04-30T21:46:31.917770Z"
    },
    "papermill": {
     "duration": 0.247012,
     "end_time": "2021-04-30T21:46:31.917950",
     "exception": false,
     "start_time": "2021-04-30T21:46:31.670938",
     "status": "completed"
    },
    "tags": []
   },
   "outputs": [
    {
     "data": {
      "text/plain": [
       "<matplotlib.legend.Legend at 0x21dabe60508>"
      ]
     },
     "execution_count": 26,
     "metadata": {},
     "output_type": "execute_result"
    },
    {
     "data": {
      "image/png": "[encoded data removed]",
      "text/plain": [
       "<Figure size 432x288 with 1 Axes>"
      ]
     },
     "metadata": {
      "needs_background": "light"
     },
     "output_type": "display_data"
    }
   ],
   "source": [
    "data[data['heat']==1]['rent'].hist()\n",
    "data[data['heat']==0]['rent'].hist()\n",
    "plt.legend(['1','0'])"
   ]
  },
  {
   "cell_type": "code",
   "execution_count": 27,
   "metadata": {
    "execution": {
     "iopub.execute_input": "2021-04-30T21:46:32.005709Z",
     "iopub.status.busy": "2021-04-30T21:46:32.004920Z",
     "iopub.status.idle": "2021-04-30T21:46:32.213626Z",
     "shell.execute_reply": "2021-04-30T21:46:32.214262Z"
    },
    "papermill": {
     "duration": 0.254647,
     "end_time": "2021-04-30T21:46:32.214447",
     "exception": false,
     "start_time": "2021-04-30T21:46:31.959800",
     "status": "completed"
    },
    "tags": []
   },
   "outputs": [
    {
     "data": {
      "text/plain": [
       "<matplotlib.legend.Legend at 0x21dab6d35c8>"
      ]
     },
     "execution_count": 27,
     "metadata": {},
     "output_type": "execute_result"
    },
    {
     "data": {
      "image/png": "[encoded data removed]",
      "text/plain": [
       "<Figure size 432x288 with 1 Axes>"
      ]
     },
     "metadata": {
      "needs_background": "light"
     },
     "output_type": "display_data"
    }
   ],
   "source": [
    "data[data['ac']==1]['rent'].hist()\n",
    "data[data['ac']==0]['rent'].hist()\n",
    "plt.legend(['1','0'])"
   ]
  }
 ],
 "metadata": {
  "kernelspec": {
   "display_name": "Python 3",
   "language": "python",
   "name": "python3"
  },
  "language_info": {
   "codemirror_mode": {
    "name": "ipython",
    "version": 3
   },
   "file_extension": ".py",
   "mimetype": "text/x-python",
   "name": "python",
   "nbconvert_exporter": "python",
   "pygments_lexer": "ipython3",
   "version": "3.7.4"
  },
  "papermill": {
   "default_parameters": {},
   "duration": 16.375879,
   "end_time": "2021-04-30T21:46:32.971324",
   "environment_variables": {},
   "exception": null,
   "input_path": "__notebook__.ipynb",
   "output_path": "__notebook__.ipynb",
   "parameters": {},
   "start_time": "2021-04-30T21:46:16.595445",
   "version": "2.3.3"
  }
 },
 "nbformat": 4,
 "nbformat_minor": 5
}
